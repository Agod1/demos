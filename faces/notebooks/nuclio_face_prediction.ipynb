{
 "cells": [
  {
   "cell_type": "markdown",
   "metadata": {},
   "source": [
    "# Face Recognition Model - Serving Function\n",
    "The function uses sklearn classifier on top of an opencv deep learning model to encode and recognize faces in given image"
   ]
  },
  {
   "cell_type": "code",
   "execution_count": null,
   "metadata": {},
   "outputs": [],
   "source": [
    "#nuclio: ignore\n",
    "import nuclio"
   ]
  },
  {
   "cell_type": "markdown",
   "metadata": {},
   "source": [
    "### Install dependencies and set config"
   ]
  },
  {
   "cell_type": "code",
   "execution_count": null,
   "metadata": {},
   "outputs": [],
   "source": [
    "%%nuclio cmd \n",
    "pip install cmake\n",
    "pip install dlib\n",
    "pip install face_recognition\n",
    "pip install opencv-contrib-python\n",
    "pip install imutils\n",
    "pip install sklearn\n",
    "pip install pandas\n",
    "pip install joblib\n",
    "pip install v3io_frames"
   ]
  },
  {
   "cell_type": "code",
   "execution_count": null,
   "metadata": {},
   "outputs": [],
   "source": [
    "%nuclio config spec.build.baseImage = \"python:3.6-jessie\""
   ]
  },
  {
   "cell_type": "markdown",
   "metadata": {},
   "source": [
    "### Perform necessary imports"
   ]
  },
  {
   "cell_type": "code",
   "execution_count": null,
   "metadata": {},
   "outputs": [],
   "source": [
    "import cv2\n",
    "import face_recognition\n",
    "import imutils\n",
    "import joblib\n",
    "import json\n",
    "import numpy as np\n",
    "import pandas as pd\n",
    "import random\n",
    "import string\n",
    "import v3io_frames as v3f\n",
    "import os\n",
    "import datetime"
   ]
  },
  {
   "cell_type": "markdown",
   "metadata": {},
   "source": [
    "### Set function environment variables"
   ]
  },
  {
   "cell_type": "code",
   "execution_count": null,
   "metadata": {},
   "outputs": [],
   "source": [
    "%%nuclio env\n",
    "MODEL_PATH = /User/demos/face-recognition/artifacts/model.bst\n",
    "CLASSES_MAP = /User/demos/face-recognition/artifacts/idx2name.csv"
   ]
  },
  {
   "cell_type": "code",
   "execution_count": null,
   "metadata": {},
   "outputs": [],
   "source": [
    "%nuclio env V3IO_ACCESS_KEY=${V3IO_ACCESS_KEY}"
   ]
  },
  {
   "cell_type": "markdown",
   "metadata": {},
   "source": [
    "### Model serving class"
   ]
  },
  {
   "cell_type": "code",
   "execution_count": null,
   "metadata": {},
   "outputs": [],
   "source": [
    "class SKModel(object):\n",
    "    def __init__(self):\n",
    "        self.name = 'model.bst'\n",
    "        self.model_filepath = os.environ['MODEL_PATH']\n",
    "        self.model = None\n",
    "        self.ready = None\n",
    "        self.classes = os.environ['CLASSES_MAP']\n",
    "    \n",
    "    def load(self):\n",
    "        self.model = joblib.load(self.model_filepath)\n",
    "        self.ready = True\n",
    "    \n",
    "    def predict(self, context, data):\n",
    "        \n",
    "        # acquires all metadata \n",
    "        time = data['time']\n",
    "        cam_name = data['camera']\n",
    "        img_url = data['file_path']\n",
    "        \n",
    "        # prepares image for use\n",
    "        with open(img_url, 'rb') as f:\n",
    "            content = f.read()\n",
    "        img_bytes = np.frombuffer(content, dtype=np.uint8)\n",
    "        image = cv2.imdecode(img_bytes, flags=1)\n",
    "        \n",
    "        # converts image format to RGB for comptability with face_recognition library and resize for faster processing\n",
    "        rgb = cv2.cvtColor(image, cv2.COLOR_BGR2RGB)\n",
    "        rgb = imutils.resize(image, width=750)\n",
    "        ratio = image.shape[1] / float(rgb.shape[1])\n",
    "        \n",
    "        #gets mapping from label to name and known encodings\n",
    "        idx2name_df = pd.read_csv(self.classes).set_index('value')\n",
    "        \n",
    "        if not self.model:\n",
    "            self.load()\n",
    "        \n",
    "        #locates faces in image and extracts embbeding vector for each face\n",
    "        context.logger.info_with('[INFO]', msg=\"recognizing faces...\")\n",
    "        boxes = face_recognition.face_locations(rgb, model='hog')\n",
    "        encodings = face_recognition.face_encodings(rgb, boxes)\n",
    "        \n",
    "        #determines if face is a clear match/ambiguous.\n",
    "        names = []\n",
    "        labels = []\n",
    "        for encoding in encodings:\n",
    "            name = 'unknown'\n",
    "            label = 'unknown'\n",
    "            probs = self.model.predict_proba(encoding.reshape(1, -1))\n",
    "            if np.max(probs) > 0.5:\n",
    "                label = np.argmax(probs)\n",
    "                name = idx2name_df.loc[label]['name'].replace('_', ' ')\n",
    "            names.append(name)\n",
    "            labels.append(label)\n",
    "\n",
    "        #frames client to save necessary data\n",
    "        client = v3f.Client(\"framesd:8081\", container=\"users\")\n",
    "\n",
    "        #draw boxes with name on the image and performs logic according to match/ambiguous \n",
    "        ret_list = []\n",
    "        for ((top, right, bottom, left), name, encoding, label) in zip(boxes, names, encodings, labels):  \n",
    "\n",
    "            #rescale the face coordinates\n",
    "            top = int(top * ratio)\n",
    "            right = int(right * ratio)\n",
    "            bottom = int(bottom * ratio)\n",
    "            left = int(left * ratio)\n",
    "\n",
    "            #random string for unique name in our saved data\n",
    "            rnd_tag = ''.join(random.choices(string.ascii_uppercase + string.digits, k=5))\n",
    "\n",
    "            new_row = {}\n",
    "            #saves all extracted data to kv.  \n",
    "            new_row = {'c' + str(i).zfill(3): encoding[i] for i in range(128)}\n",
    "            if (name != 'unknown'): #and (len(enc_df.loc[enc_df['label'] == label]) < 50): TODO add different logic for limit of images of same person in dataset\n",
    "                new_row['label'] = label\n",
    "            else:\n",
    "                new_row['label'] = np.nan\n",
    "            new_row['imgUrl'] = img_url\n",
    "            new_row['fileName'] = name.replace(' ', '_') + '_' + rnd_tag \n",
    "            new_row['camera'] = cam_name\n",
    "            new_row['time'] = datetime.datetime.utcnow()\n",
    "            new_row_df = pd.DataFrame(new_row, index=[0])\n",
    "            client.write(backend='kv', table='iguazio/demos/face-recognition/artifacts/encodings', dfs=new_row_df, index_cols=['fileName'])\n",
    "\n",
    "            #appends box and name to the returned list            \n",
    "            ret_list.append(((top, right, bottom, left), name))\n",
    "\n",
    "        return ret_list"
   ]
  },
  {
   "cell_type": "markdown",
   "metadata": {},
   "source": [
    "### Main function\n",
    "simply initializes the model class and invokes the predict method "
   ]
  },
  {
   "cell_type": "code",
   "execution_count": null,
   "metadata": {},
   "outputs": [],
   "source": [
    "def handler(context, event):\n",
    "    model = SKModel()\n",
    "    return model.predict(context=context, data=event.body)"
   ]
  },
  {
   "cell_type": "code",
   "execution_count": null,
   "metadata": {},
   "outputs": [],
   "source": [
    "#nuclio: end-code"
   ]
  },
  {
   "cell_type": "markdown",
   "metadata": {},
   "source": [
    "### Set configuration for deployment"
   ]
  },
  {
   "cell_type": "code",
   "execution_count": null,
   "metadata": {},
   "outputs": [],
   "source": [
    "# converts the notebook code to deployable function with configurations\n",
    "from mlrun import code_to_function\n",
    "fn = code_to_function('recognize-faces', runtime='nuclio')\n",
    "\n",
    "# set the API/trigger, attach the home dir to the function\n",
    "fn.with_http(workers=2).add_volume('User','~/')\n",
    "\n",
    "# set environment variables\n",
    "fn.set_env('MODEL_PATH', '/User/demos/face-recognition/artifacts/model.bst')\n",
    "fn.set_env('CLASSES_MAP', '/User/demos/face-recognition/artifacts/idx2name.csv')\n",
    "fn.set_env('V3IO_ACCESS_KEY', os.environ['V3IO_ACCESS_KEY'])"
   ]
  },
  {
   "cell_type": "markdown",
   "metadata": {},
   "source": [
    "### Deploy the function to the cluster\n",
    "May take a few minutes due to building of image"
   ]
  },
  {
   "cell_type": "code",
   "execution_count": null,
   "metadata": {},
   "outputs": [],
   "source": [
    "addr = fn.deploy(project='default')"
   ]
  }
 ],
 "metadata": {
  "kernelspec": {
   "display_name": "Python 3",
   "language": "python",
   "name": "python3"
  },
  "language_info": {
   "codemirror_mode": {
    "name": "ipython",
    "version": 3
   },
   "file_extension": ".py",
   "mimetype": "text/x-python",
   "name": "python",
   "nbconvert_exporter": "python",
   "pygments_lexer": "ipython3",
   "version": "3.6.8"
  }
 },
 "nbformat": 4,
 "nbformat_minor": 4
}
