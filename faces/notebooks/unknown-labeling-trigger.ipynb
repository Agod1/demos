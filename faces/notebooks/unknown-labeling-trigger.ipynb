{
 "cells": [
  {
   "cell_type": "markdown",
   "metadata": {},
   "source": [
    "# Nuclio - prediction function"
   ]
  },
  {
   "cell_type": "markdown",
   "metadata": {},
   "source": [
    "## Setup the environment"
   ]
  },
  {
   "cell_type": "code",
   "execution_count": 2,
   "metadata": {},
   "outputs": [],
   "source": [
    "# nuclio: ignore\n",
    "import nuclio"
   ]
  },
  {
   "cell_type": "markdown",
   "metadata": {},
   "source": [
    "### Set environment variables"
   ]
  },
  {
   "cell_type": "code",
   "execution_count": 3,
   "metadata": {},
   "outputs": [],
   "source": [
    "import os"
   ]
  },
  {
   "cell_type": "code",
   "execution_count": 4,
   "metadata": {},
   "outputs": [],
   "source": [
    "# nuclio: ignore\n",
    "os.environ['KV_TABLE'] = os.path.join(os.getenv('V3IO_USERNAME', 'iguazio'), 'demos/face-recognition/artifacts/encodings')"
   ]
  },
  {
   "cell_type": "code",
   "execution_count": 5,
   "metadata": {},
   "outputs": [
    {
     "name": "stdout",
     "output_type": "stream",
     "text": [
      "%nuclio: setting 'FRAMESD' environment variable\n",
      "%nuclio: setting 'V3IO_USERNAME' environment variable\n",
      "%nuclio: setting 'V3IO_ACCESS_KEY' environment variable\n",
      "%nuclio: setting 'KV_TABLE' environment variable\n"
     ]
    }
   ],
   "source": [
    "# Iguazio access\n",
    "%nuclio env FRAMESD=${V3IO_FRAMESD}\n",
    "%nuclio env V3IO_USERNAME=${V3IO_USERNAME}\n",
    "%nuclio env V3IO_ACCESS_KEY=${V3IO_ACCESS_KEY}\n",
    "%nuclio env KV_TABLE=${KV_TABLE}\n"
   ]
  },
  {
   "cell_type": "code",
   "execution_count": 6,
   "metadata": {},
   "outputs": [],
   "source": [
    "### Set cron trigger"
   ]
  },
  {
   "cell_type": "code",
   "execution_count": 7,
   "metadata": {},
   "outputs": [
    {
     "name": "stdout",
     "output_type": "stream",
     "text": [
      "%nuclio: setting spec.triggers.secs.kind to 'cron'\n",
      "%nuclio: setting spec.triggers.secs.attributes.interval to '1h'\n"
     ]
    }
   ],
   "source": [
    "%nuclio config spec.triggers.secs.kind = \"cron\"\n",
    "%nuclio config spec.triggers.secs.attributes.interval = \"1h\"\n",
    "\n"
   ]
  },
  {
   "cell_type": "code",
   "execution_count": 8,
   "metadata": {},
   "outputs": [
    {
     "name": "stdout",
     "output_type": "stream",
     "text": [
      "mounting volume path /User as users/iguazio\n"
     ]
    }
   ],
   "source": [
    "%nuclio mount /User users/iguazio"
   ]
  },
  {
   "cell_type": "markdown",
   "metadata": {},
   "source": []
  },
  {
   "cell_type": "code",
   "execution_count": 9,
   "metadata": {},
   "outputs": [],
   "source": [
    "### Base image"
   ]
  },
  {
   "cell_type": "code",
   "execution_count": 10,
   "metadata": {},
   "outputs": [
    {
     "name": "stdout",
     "output_type": "stream",
     "text": [
      "%nuclio: setting spec.build.baseImage to 'python:3.6-jessie'\n"
     ]
    }
   ],
   "source": [
    "%nuclio config spec.build.baseImage = \"python:3.6-jessie\""
   ]
  },
  {
   "cell_type": "markdown",
   "metadata": {},
   "source": [
    "### Installations"
   ]
  },
  {
   "cell_type": "markdown",
   "metadata": {},
   "source": [
    "When installing packages while working, Please reset the kernel to allow Jupyter to load the new packages."
   ]
  },
  {
   "cell_type": "code",
   "execution_count": 11,
   "metadata": {},
   "outputs": [],
   "source": [
    "%%nuclio cmd -c\n",
    "pip install v3io_frames"
   ]
  },
  {
   "cell_type": "markdown",
   "metadata": {},
   "source": [
    "### Imports"
   ]
  },
  {
   "cell_type": "code",
   "execution_count": 12,
   "metadata": {},
   "outputs": [],
   "source": [
    "# Util\n",
    "import v3io_frames as v3f\n",
    "from datetime import datetime, timedelta\n",
    "import os\n",
    "import shutil\n",
    "\n",
    "# DB\n",
    "import v3io_frames as v3f"
   ]
  },
  {
   "cell_type": "markdown",
   "metadata": {},
   "source": [
    "## Function code"
   ]
  },
  {
   "cell_type": "code",
   "execution_count": 13,
   "metadata": {},
   "outputs": [],
   "source": [
    "def handler(context, event):\n",
    "    kv_table_path = os.environ['KV_TABLE']\n",
    "    v3io_access_key = os.environ['V3IO_ACCESS_KEY']\n",
    "    client = v3f.Client(\"framesd:8081\", token = v3io_access_key, container=\"users\") \n",
    "    df = client.read(backend='kv', table=kv_table_path, reset_index=True) \n",
    "    context.logger.info(df.head())  \n",
    "    df2 = df[['fileName', 'camera', 'label', 'imgUrl']]    \n",
    "    options = ['unknown']\n",
    "    df3 = df2[df2.fileName.str.startswith(tuple(options))]    \n",
    "    for idx in range(len(df3)):\n",
    "        img_url = df3.iloc[idx]['imgUrl']\n",
    "        splited = img_url.split(\"/\")\n",
    "        destination = \"/\".join((splited[0],splited[1],splited[2],splited[3],\"dataset/label_pending\"))\n",
    "        print(img_url)\n",
    "        print(idx)\n",
    "        print(splited)\n",
    "        print(destination)\n",
    "        # Move the content of\n",
    "        # source to destination\n",
    "\n",
    "        dest = shutil.move(img_url, destination)"
   ]
  },
  {
   "cell_type": "code",
   "execution_count": 14,
   "metadata": {},
   "outputs": [
    {
     "name": "stdout",
     "output_type": "stream",
     "text": [
      "[nuclio.deploy] 2019-11-26 10:16:39,373 (info) Building processor image\n",
      "[nuclio.deploy] 2019-11-26 10:16:48,514 (info) Build complete\n",
      "[nuclio.deploy] 2019-11-26 10:16:54,603 (info) Function deploy complete\n",
      "[nuclio.deploy] 2019-11-26 10:16:54,614 done creating unknown-labeling, function address: 52.247.24.73:32599\n",
      "%nuclio: function deployed\n"
     ]
    }
   ],
   "source": [
    "%nuclio deploy -n unknown-labeling -p default -c"
   ]
  },
  {
   "cell_type": "code",
   "execution_count": null,
   "metadata": {},
   "outputs": [],
   "source": []
  }
 ],
 "metadata": {
  "kernelspec": {
   "display_name": "Python 3",
   "language": "python",
   "name": "python3"
  },
  "language_info": {
   "codemirror_mode": {
    "name": "ipython",
    "version": 3
   },
   "file_extension": ".py",
   "mimetype": "text/x-python",
   "name": "python",
   "nbconvert_exporter": "python",
   "pygments_lexer": "ipython3",
   "version": "3.6.8"
  }
 },
 "nbformat": 4,
 "nbformat_minor": 4
}
