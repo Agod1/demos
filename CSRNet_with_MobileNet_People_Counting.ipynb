{
  "cells": [
    {
      "cell_type": "markdown",
      "metadata": {
        "id": "view-in-github",
        "colab_type": "text"
      },
      "source": [
        "<a href=\"https://colab.research.google.com/github/Agod1/demos/blob/master/CSRNet_with_MobileNet_People_Counting.ipynb\" target=\"_parent\"><img src=\"https://colab.research.google.com/assets/colab-badge.svg\" alt=\"Open In Colab\"/></a>"
      ]
    },
    {
      "cell_type": "code",
      "execution_count": null,
      "id": "29c7f6c4",
      "metadata": {
        "id": "29c7f6c4"
      },
      "outputs": [],
      "source": [
        "\n",
        "import tensorflow as tf\n",
        "from tensorflow.keras.applications import VGG16\n",
        "from tensorflow.keras.layers import Conv2D, Reshape, Input\n",
        "from tensorflow.keras.models import Model\n",
        "from tensorflow.keras.initializers import RandomNormal\n",
        "from tensorflow.keras.optimizers import Adam\n",
        "import numpy as np\n",
        "import matplotlib.pyplot as plt\n",
        "from tensorflow.keras.preprocessing.image import img_to_array, load_img\n",
        "import scipy.io\n",
        "import os"
      ]
    },
    {
      "cell_type": "code",
      "execution_count": null,
      "id": "wlyvNzjCUUok",
      "metadata": {
        "colab": {
          "base_uri": "https://localhost:8080/"
        },
        "id": "wlyvNzjCUUok",
        "outputId": "e841a42c-f482-4ef9-bd2a-fd23f8aeacd5"
      },
      "outputs": [
        {
          "name": "stdout",
          "output_type": "stream",
          "text": [
            "Mounted at /content/drive\n"
          ]
        }
      ],
      "source": [
        "from google.colab import drive\n",
        "drive.mount('/content/drive')"
      ]
    },
    {
      "cell_type": "code",
      "execution_count": null,
      "id": "1ca51ec7",
      "metadata": {
        "id": "1ca51ec7"
      },
      "outputs": [],
      "source": [
        "\n",
        "# Define input and output dimensions\n",
        "IN_X, IN_Y = 768, 1024\n",
        "OUT_X, OUT_Y = 96, 128\n",
        "LR = 1e-4  # Learning rate\n",
        "BATCH_SIZE = 1\n",
        "EPOCHS = 1000\n",
        "checkpoint_filepath = '/content/drive/MyDrive/Teaching/TME_6015/ShanghaiTech_Crowd_Counting_Dataset/part_A_final/test_data/images/my_checkpoint.weights.h5'"
      ]
    },
    {
      "cell_type": "code",
      "execution_count": null,
      "id": "f61ffb21",
      "metadata": {
        "colab": {
          "base_uri": "https://localhost:8080/",
          "height": 505
        },
        "id": "f61ffb21",
        "outputId": "53d06dcc-f602-46b1-b479-a875eb1ff1ba"
      },
      "outputs": [
        {
          "name": "stdout",
          "output_type": "stream",
          "text": [
            "Downloading data from https://storage.googleapis.com/tensorflow/keras-applications/vgg16/vgg16_weights_tf_dim_ordering_tf_kernels_notop.h5\n",
            "\u001b[1m58889256/58889256\u001b[0m \u001b[32m━━━━━━━━━━━━━━━━━━━━\u001b[0m\u001b[37m\u001b[0m \u001b[1m3s\u001b[0m 0us/step\n"
          ]
        },
        {
          "data": {
            "text/html": [
              "<pre style=\"white-space:pre;overflow-x:auto;line-height:normal;font-family:Menlo,'DejaVu Sans Mono',consolas,'Courier New',monospace\"><span style=\"font-weight: bold\">Model: \"functional_1\"</span>\n",
              "</pre>\n"
            ],
            "text/plain": [
              "\u001b[1mModel: \"functional_1\"\u001b[0m\n"
            ]
          },
          "metadata": {},
          "output_type": "display_data"
        },
        {
          "data": {
            "text/html": [
              "<pre style=\"white-space:pre;overflow-x:auto;line-height:normal;font-family:Menlo,'DejaVu Sans Mono',consolas,'Courier New',monospace\">┏━━━━━━━━━━━━━━━━━━━━━━━━━━━━━━━━━━━━━━┳━━━━━━━━━━━━━━━━━━━━━━━━━━━━━┳━━━━━━━━━━━━━━━━━┓\n",
              "┃<span style=\"font-weight: bold\"> Layer (type)                         </span>┃<span style=\"font-weight: bold\"> Output Shape                </span>┃<span style=\"font-weight: bold\">         Param # </span>┃\n",
              "┡━━━━━━━━━━━━━━━━━━━━━━━━━━━━━━━━━━━━━━╇━━━━━━━━━━━━━━━━━━━━━━━━━━━━━╇━━━━━━━━━━━━━━━━━┩\n",
              "│ input_layer (<span style=\"color: #0087ff; text-decoration-color: #0087ff\">InputLayer</span>)             │ (<span style=\"color: #00d7ff; text-decoration-color: #00d7ff\">None</span>, <span style=\"color: #00af00; text-decoration-color: #00af00\">768</span>, <span style=\"color: #00af00; text-decoration-color: #00af00\">1024</span>, <span style=\"color: #00af00; text-decoration-color: #00af00\">3</span>)        │               <span style=\"color: #00af00; text-decoration-color: #00af00\">0</span> │\n",
              "├──────────────────────────────────────┼─────────────────────────────┼─────────────────┤\n",
              "│ functional (<span style=\"color: #0087ff; text-decoration-color: #0087ff\">Functional</span>)              │ (<span style=\"color: #00d7ff; text-decoration-color: #00d7ff\">None</span>, <span style=\"color: #00af00; text-decoration-color: #00af00\">96</span>, <span style=\"color: #00af00; text-decoration-color: #00af00\">128</span>, <span style=\"color: #00af00; text-decoration-color: #00af00\">512</span>)        │       <span style=\"color: #00af00; text-decoration-color: #00af00\">7,635,264</span> │\n",
              "├──────────────────────────────────────┼─────────────────────────────┼─────────────────┤\n",
              "│ conv2d (<span style=\"color: #0087ff; text-decoration-color: #0087ff\">Conv2D</span>)                      │ (<span style=\"color: #00d7ff; text-decoration-color: #00d7ff\">None</span>, <span style=\"color: #00af00; text-decoration-color: #00af00\">96</span>, <span style=\"color: #00af00; text-decoration-color: #00af00\">128</span>, <span style=\"color: #00af00; text-decoration-color: #00af00\">512</span>)        │       <span style=\"color: #00af00; text-decoration-color: #00af00\">2,359,808</span> │\n",
              "├──────────────────────────────────────┼─────────────────────────────┼─────────────────┤\n",
              "│ conv2d_1 (<span style=\"color: #0087ff; text-decoration-color: #0087ff\">Conv2D</span>)                    │ (<span style=\"color: #00d7ff; text-decoration-color: #00d7ff\">None</span>, <span style=\"color: #00af00; text-decoration-color: #00af00\">96</span>, <span style=\"color: #00af00; text-decoration-color: #00af00\">128</span>, <span style=\"color: #00af00; text-decoration-color: #00af00\">512</span>)        │       <span style=\"color: #00af00; text-decoration-color: #00af00\">2,359,808</span> │\n",
              "├──────────────────────────────────────┼─────────────────────────────┼─────────────────┤\n",
              "│ conv2d_2 (<span style=\"color: #0087ff; text-decoration-color: #0087ff\">Conv2D</span>)                    │ (<span style=\"color: #00d7ff; text-decoration-color: #00d7ff\">None</span>, <span style=\"color: #00af00; text-decoration-color: #00af00\">96</span>, <span style=\"color: #00af00; text-decoration-color: #00af00\">128</span>, <span style=\"color: #00af00; text-decoration-color: #00af00\">512</span>)        │       <span style=\"color: #00af00; text-decoration-color: #00af00\">2,359,808</span> │\n",
              "├──────────────────────────────────────┼─────────────────────────────┼─────────────────┤\n",
              "│ conv2d_3 (<span style=\"color: #0087ff; text-decoration-color: #0087ff\">Conv2D</span>)                    │ (<span style=\"color: #00d7ff; text-decoration-color: #00d7ff\">None</span>, <span style=\"color: #00af00; text-decoration-color: #00af00\">96</span>, <span style=\"color: #00af00; text-decoration-color: #00af00\">128</span>, <span style=\"color: #00af00; text-decoration-color: #00af00\">256</span>)        │       <span style=\"color: #00af00; text-decoration-color: #00af00\">1,179,904</span> │\n",
              "├──────────────────────────────────────┼─────────────────────────────┼─────────────────┤\n",
              "│ conv2d_4 (<span style=\"color: #0087ff; text-decoration-color: #0087ff\">Conv2D</span>)                    │ (<span style=\"color: #00d7ff; text-decoration-color: #00d7ff\">None</span>, <span style=\"color: #00af00; text-decoration-color: #00af00\">96</span>, <span style=\"color: #00af00; text-decoration-color: #00af00\">128</span>, <span style=\"color: #00af00; text-decoration-color: #00af00\">128</span>)        │         <span style=\"color: #00af00; text-decoration-color: #00af00\">295,040</span> │\n",
              "├──────────────────────────────────────┼─────────────────────────────┼─────────────────┤\n",
              "│ conv2d_5 (<span style=\"color: #0087ff; text-decoration-color: #0087ff\">Conv2D</span>)                    │ (<span style=\"color: #00d7ff; text-decoration-color: #00d7ff\">None</span>, <span style=\"color: #00af00; text-decoration-color: #00af00\">96</span>, <span style=\"color: #00af00; text-decoration-color: #00af00\">128</span>, <span style=\"color: #00af00; text-decoration-color: #00af00\">64</span>)         │          <span style=\"color: #00af00; text-decoration-color: #00af00\">73,792</span> │\n",
              "├──────────────────────────────────────┼─────────────────────────────┼─────────────────┤\n",
              "│ conv2d_6 (<span style=\"color: #0087ff; text-decoration-color: #0087ff\">Conv2D</span>)                    │ (<span style=\"color: #00d7ff; text-decoration-color: #00d7ff\">None</span>, <span style=\"color: #00af00; text-decoration-color: #00af00\">96</span>, <span style=\"color: #00af00; text-decoration-color: #00af00\">128</span>, <span style=\"color: #00af00; text-decoration-color: #00af00\">1</span>)          │              <span style=\"color: #00af00; text-decoration-color: #00af00\">65</span> │\n",
              "├──────────────────────────────────────┼─────────────────────────────┼─────────────────┤\n",
              "│ reshape (<span style=\"color: #0087ff; text-decoration-color: #0087ff\">Reshape</span>)                    │ (<span style=\"color: #00d7ff; text-decoration-color: #00d7ff\">None</span>, <span style=\"color: #00af00; text-decoration-color: #00af00\">96</span>, <span style=\"color: #00af00; text-decoration-color: #00af00\">128</span>)             │               <span style=\"color: #00af00; text-decoration-color: #00af00\">0</span> │\n",
              "└──────────────────────────────────────┴─────────────────────────────┴─────────────────┘\n",
              "</pre>\n"
            ],
            "text/plain": [
              "┏━━━━━━━━━━━━━━━━━━━━━━━━━━━━━━━━━━━━━━┳━━━━━━━━━━━━━━━━━━━━━━━━━━━━━┳━━━━━━━━━━━━━━━━━┓\n",
              "┃\u001b[1m \u001b[0m\u001b[1mLayer (type)                        \u001b[0m\u001b[1m \u001b[0m┃\u001b[1m \u001b[0m\u001b[1mOutput Shape               \u001b[0m\u001b[1m \u001b[0m┃\u001b[1m \u001b[0m\u001b[1m        Param #\u001b[0m\u001b[1m \u001b[0m┃\n",
              "┡━━━━━━━━━━━━━━━━━━━━━━━━━━━━━━━━━━━━━━╇━━━━━━━━━━━━━━━━━━━━━━━━━━━━━╇━━━━━━━━━━━━━━━━━┩\n",
              "│ input_layer (\u001b[38;5;33mInputLayer\u001b[0m)             │ (\u001b[38;5;45mNone\u001b[0m, \u001b[38;5;34m768\u001b[0m, \u001b[38;5;34m1024\u001b[0m, \u001b[38;5;34m3\u001b[0m)        │               \u001b[38;5;34m0\u001b[0m │\n",
              "├──────────────────────────────────────┼─────────────────────────────┼─────────────────┤\n",
              "│ functional (\u001b[38;5;33mFunctional\u001b[0m)              │ (\u001b[38;5;45mNone\u001b[0m, \u001b[38;5;34m96\u001b[0m, \u001b[38;5;34m128\u001b[0m, \u001b[38;5;34m512\u001b[0m)        │       \u001b[38;5;34m7,635,264\u001b[0m │\n",
              "├──────────────────────────────────────┼─────────────────────────────┼─────────────────┤\n",
              "│ conv2d (\u001b[38;5;33mConv2D\u001b[0m)                      │ (\u001b[38;5;45mNone\u001b[0m, \u001b[38;5;34m96\u001b[0m, \u001b[38;5;34m128\u001b[0m, \u001b[38;5;34m512\u001b[0m)        │       \u001b[38;5;34m2,359,808\u001b[0m │\n",
              "├──────────────────────────────────────┼─────────────────────────────┼─────────────────┤\n",
              "│ conv2d_1 (\u001b[38;5;33mConv2D\u001b[0m)                    │ (\u001b[38;5;45mNone\u001b[0m, \u001b[38;5;34m96\u001b[0m, \u001b[38;5;34m128\u001b[0m, \u001b[38;5;34m512\u001b[0m)        │       \u001b[38;5;34m2,359,808\u001b[0m │\n",
              "├──────────────────────────────────────┼─────────────────────────────┼─────────────────┤\n",
              "│ conv2d_2 (\u001b[38;5;33mConv2D\u001b[0m)                    │ (\u001b[38;5;45mNone\u001b[0m, \u001b[38;5;34m96\u001b[0m, \u001b[38;5;34m128\u001b[0m, \u001b[38;5;34m512\u001b[0m)        │       \u001b[38;5;34m2,359,808\u001b[0m │\n",
              "├──────────────────────────────────────┼─────────────────────────────┼─────────────────┤\n",
              "│ conv2d_3 (\u001b[38;5;33mConv2D\u001b[0m)                    │ (\u001b[38;5;45mNone\u001b[0m, \u001b[38;5;34m96\u001b[0m, \u001b[38;5;34m128\u001b[0m, \u001b[38;5;34m256\u001b[0m)        │       \u001b[38;5;34m1,179,904\u001b[0m │\n",
              "├──────────────────────────────────────┼─────────────────────────────┼─────────────────┤\n",
              "│ conv2d_4 (\u001b[38;5;33mConv2D\u001b[0m)                    │ (\u001b[38;5;45mNone\u001b[0m, \u001b[38;5;34m96\u001b[0m, \u001b[38;5;34m128\u001b[0m, \u001b[38;5;34m128\u001b[0m)        │         \u001b[38;5;34m295,040\u001b[0m │\n",
              "├──────────────────────────────────────┼─────────────────────────────┼─────────────────┤\n",
              "│ conv2d_5 (\u001b[38;5;33mConv2D\u001b[0m)                    │ (\u001b[38;5;45mNone\u001b[0m, \u001b[38;5;34m96\u001b[0m, \u001b[38;5;34m128\u001b[0m, \u001b[38;5;34m64\u001b[0m)         │          \u001b[38;5;34m73,792\u001b[0m │\n",
              "├──────────────────────────────────────┼─────────────────────────────┼─────────────────┤\n",
              "│ conv2d_6 (\u001b[38;5;33mConv2D\u001b[0m)                    │ (\u001b[38;5;45mNone\u001b[0m, \u001b[38;5;34m96\u001b[0m, \u001b[38;5;34m128\u001b[0m, \u001b[38;5;34m1\u001b[0m)          │              \u001b[38;5;34m65\u001b[0m │\n",
              "├──────────────────────────────────────┼─────────────────────────────┼─────────────────┤\n",
              "│ reshape (\u001b[38;5;33mReshape\u001b[0m)                    │ (\u001b[38;5;45mNone\u001b[0m, \u001b[38;5;34m96\u001b[0m, \u001b[38;5;34m128\u001b[0m)             │               \u001b[38;5;34m0\u001b[0m │\n",
              "└──────────────────────────────────────┴─────────────────────────────┴─────────────────┘\n"
            ]
          },
          "metadata": {},
          "output_type": "display_data"
        },
        {
          "data": {
            "text/html": [
              "<pre style=\"white-space:pre;overflow-x:auto;line-height:normal;font-family:Menlo,'DejaVu Sans Mono',consolas,'Courier New',monospace\"><span style=\"font-weight: bold\"> Total params: </span><span style=\"color: #00af00; text-decoration-color: #00af00\">16,263,489</span> (62.04 MB)\n",
              "</pre>\n"
            ],
            "text/plain": [
              "\u001b[1m Total params: \u001b[0m\u001b[38;5;34m16,263,489\u001b[0m (62.04 MB)\n"
            ]
          },
          "metadata": {},
          "output_type": "display_data"
        },
        {
          "data": {
            "text/html": [
              "<pre style=\"white-space:pre;overflow-x:auto;line-height:normal;font-family:Menlo,'DejaVu Sans Mono',consolas,'Courier New',monospace\"><span style=\"font-weight: bold\"> Trainable params: </span><span style=\"color: #00af00; text-decoration-color: #00af00\">16,263,489</span> (62.04 MB)\n",
              "</pre>\n"
            ],
            "text/plain": [
              "\u001b[1m Trainable params: \u001b[0m\u001b[38;5;34m16,263,489\u001b[0m (62.04 MB)\n"
            ]
          },
          "metadata": {},
          "output_type": "display_data"
        },
        {
          "data": {
            "text/html": [
              "<pre style=\"white-space:pre;overflow-x:auto;line-height:normal;font-family:Menlo,'DejaVu Sans Mono',consolas,'Courier New',monospace\"><span style=\"font-weight: bold\"> Non-trainable params: </span><span style=\"color: #00af00; text-decoration-color: #00af00\">0</span> (0.00 B)\n",
              "</pre>\n"
            ],
            "text/plain": [
              "\u001b[1m Non-trainable params: \u001b[0m\u001b[38;5;34m0\u001b[0m (0.00 B)\n"
            ]
          },
          "metadata": {},
          "output_type": "display_data"
        }
      ],
      "source": [
        "\n",
        "def get_base_model(input_shape=(IN_X, IN_Y, 3)):\n",
        "    # Load VGG-16 up to block4_conv3 layer for feature extraction\n",
        "    base_model = VGG16(weights='imagenet', include_top=False, input_shape=input_shape)\n",
        "    output = base_model.get_layer(\"block4_conv3\").output\n",
        "    return Model(inputs=base_model.input, outputs=output)\n",
        "\n",
        "# CSRNet Architecture with dilated convolutions for the back-end\n",
        "inputs = Input(shape=(IN_X, IN_Y, 3))\n",
        "x = get_base_model()(inputs)\n",
        "init = RandomNormal(stddev=0.01)\n",
        "\n",
        "# Add dilated convolutions for the back-end\n",
        "x = Conv2D(512, (3, 3), activation='relu', dilation_rate=2, kernel_initializer=init, padding='same')(x)\n",
        "x = Conv2D(512, (3, 3), activation='relu', dilation_rate=2, kernel_initializer=init, padding='same')(x)\n",
        "x = Conv2D(512, (3, 3), activation='relu', dilation_rate=2, kernel_initializer=init, padding='same')(x)\n",
        "x = Conv2D(256, (3, 3), activation='relu', dilation_rate=2, kernel_initializer=init, padding='same')(x)\n",
        "x = Conv2D(128, (3, 3), activation='relu', dilation_rate=2, kernel_initializer=init, padding='same')(x)\n",
        "x = Conv2D(64, (3, 3), activation='relu', dilation_rate=2, kernel_initializer=init, padding='same')(x)\n",
        "x = Conv2D(1, (1, 1), activation='relu', kernel_initializer=init, padding='same')(x)\n",
        "\n",
        "# Reshape output for density map\n",
        "out = Reshape((OUT_X, OUT_Y))(x)\n",
        "model = Model(inputs=inputs, outputs=out)\n",
        "model.summary()\n"
      ]
    },
    {
      "cell_type": "code",
      "execution_count": null,
      "id": "6287f715",
      "metadata": {
        "id": "6287f715"
      },
      "outputs": [],
      "source": [
        "\n",
        "# Compile the model\n",
        "model.compile(\n",
        "    loss='mean_squared_error',\n",
        "    optimizer=Adam(learning_rate=LR),\n",
        "    metrics=['mae'],\n",
        "    run_eagerly=True\n",
        ")\n"
      ]
    },
    {
      "cell_type": "code",
      "execution_count": null,
      "id": "2rbiVG2MWwNw",
      "metadata": {
        "id": "2rbiVG2MWwNw"
      },
      "outputs": [],
      "source": [
        "def gauss_distribution(x,u=0,sigma=10):\n",
        "    return np.expand_dims(1/(np.sqrt(2*np.pi*(sigma**2)))*np.exp(-(0.5)*(((x-u)/sigma)**2)),axis=0)"
      ]
    },
    {
      "cell_type": "code",
      "execution_count": null,
      "id": "2tmNjvWhWxXc",
      "metadata": {
        "id": "2tmNjvWhWxXc"
      },
      "outputs": [],
      "source": [
        "def get_density_map_gaussian(im, points, gaussian_radius=4): # Updated with sigma as input\n",
        "    \"\"\"\n",
        "    Generates a density map using Gaussian kernels centered at given points.\n",
        "\n",
        "    Args:\n",
        "        im (numpy.ndarray): The input image.\n",
        "        points (list): A list of (x, y) coordinates representing the points.\n",
        "        gaussian_radius (int, optional): The radius of the Gaussian kernel. Defaults to 4.\n",
        "\n",
        "    Returns:\n",
        "        numpy.ndarray: The generated density map.\n",
        "    \"\"\"\n",
        "    density_map = np.zeros((OUT_X, OUT_Y))\n",
        "    w, h = OUT_Y, OUT_X\n",
        "    num_gt = len(points)\n",
        "\n",
        "    for point in points:\n",
        "        point = np.round(point).astype(int)\n",
        "        # Check if point coordinates are within image boundaries\n",
        "        if 0 <= point[1] < h and 0 <= point[0] < w:\n",
        "            point[0], point[1] = min(h - 1, point[1]), min(w - 1, point[0])\n",
        "            x = np.linspace(-gaussian_radius, gaussian_radius, (gaussian_radius * 2) + 1)\n",
        "            gaussian_map = np.multiply(gauss_distribution(x), gauss_distribution(x).T)\n",
        "            gaussian_map /= np.sum(gaussian_map)\n",
        "\n",
        "            x_left, x_right, y_up, y_down = 0, gaussian_map.shape[1], 0, gaussian_map.shape[0]\n",
        "            if point[1] < gaussian_radius:\n",
        "                x_left = gaussian_radius - point[1]\n",
        "            if point[0] < gaussian_radius:\n",
        "                y_up = gaussian_radius - point[0]\n",
        "            if point[1] + gaussian_radius >= w:\n",
        "                x_right = gaussian_map.shape[1] - (gaussian_radius + point[1] - w) - 1\n",
        "            if point[0] + gaussian_radius >= h:\n",
        "                y_down = gaussian_map.shape[0] - (gaussian_radius + point[0] - h) - 1\n",
        "\n",
        "                # Check if the slice is valid\n",
        "                if y_down - y_up > 0 and x_right - x_left > 0:\n",
        "                    density_map[\n",
        "                        max(0, point[0] - gaussian_radius):min(density_map.shape[0], point[0] + gaussian_radius + 1),\n",
        "                        max(0, point[1] - gaussian_radius):min(density_map.shape[1], point[1] + gaussian_radius + 1),\n",
        "                    ] += gaussian_map[y_up:y_down, x_left:x_right]\n",
        "    density_map /= np.sum(density_map / len(points))\n",
        "    return density_map"
      ]
    },
    {
      "cell_type": "code",
      "execution_count": null,
      "id": "6sHlczjjWMeu",
      "metadata": {
        "id": "6sHlczjjWMeu"
      },
      "outputs": [],
      "source": [
        "class DataGenerator(tf.keras.utils.Sequence):\n",
        "    def __init__(self, images, maps, batch_size, SUBSAMPLING_FACTOR=8):\n",
        "\n",
        "        self.images = images\n",
        "        self.maps = maps\n",
        "        self.batch_size = batch_size\n",
        "        self.train_image_list = os.listdir(images)\n",
        "        self.SUBSAMPLING_FACTOR = SUBSAMPLING_FACTOR\n",
        "\n",
        "    def __len__(self):\n",
        "        return int(np.floor(len(self.train_image_list) / self.batch_size))\n",
        "\n",
        "    def __getitem__(self, idx):\n",
        "        x, y = self.__data_generation(idx)\n",
        "        return x, y\n",
        "\n",
        "    def __data_generation(self, idx):\n",
        "        x = []\n",
        "        y = []\n",
        "\n",
        "        for j in range(idx * self.batch_size, (idx + 1) * self.batch_size):\n",
        "\n",
        "            im_array = img_to_array(load_img(self.images + os.listdir(self.images)[j], target_size=(IN_X, IN_Y)))\n",
        "            im_array /= 255.\n",
        "            im_array[:,:,0]=(im_array[:,:,0]-np.mean(im_array[:,:,0]))/np.std(im_array[:,:,0])\n",
        "            im_array[:,:,1]=(im_array[:,:,1]-np.mean(im_array[:,:,1]))/np.std(im_array[:,:,1])\n",
        "            im_array[:,:,2]=(im_array[:,:,2]-np.mean(im_array[:,:,2]))/np.std(im_array[:,:,2])\n",
        "            x.append(im_array)\n",
        "            mat=scipy.io.loadmat(self.maps+os.listdir(self.maps)[j])\n",
        "            points=mat['image_info'][0][0][0][0][0]\n",
        "            points/=self.SUBSAMPLING_FACTOR\n",
        "\n",
        "            density_map_present=get_density_map_gaussian(im_array,points,gaussian_radius=5)\n",
        "            y.append(density_map_present)\n",
        "        return tf.convert_to_tensor(x),tf.convert_to_tensor(y)"
      ]
    },
    {
      "cell_type": "code",
      "execution_count": null,
      "id": "c38q_UhnXQTJ",
      "metadata": {
        "id": "c38q_UhnXQTJ"
      },
      "outputs": [],
      "source": [
        "train_images= '/content/drive/MyDrive/ColabNotebooks/TME6015/ShanghaiTech_Crowd_Counting_Dataset/part_A_final/train_data/images/'\n",
        "train_maps= '/content/drive/MyDrive/ColabNotebooks/TME6015/ShanghaiTech_Crowd_Counting_Dataset/part_A_final/train_data/ground_truth/'\n",
        "val_images= '/content/drive/MyDrive/ColabNotebooks/TME6015/ShanghaiTech_Crowd_Counting_Dataset/part_A_final/test_data/images/'\n",
        "val_maps= '/content/drive/MyDrive/ColabNotebooks/TME6015/ShanghaiTech_Crowd_Counting_Dataset/part_A_final/test_data/ground_truth/'"
      ]
    },
    {
      "cell_type": "code",
      "execution_count": null,
      "id": "RGOzb4UNWN8o",
      "metadata": {
        "id": "RGOzb4UNWN8o"
      },
      "outputs": [],
      "source": [
        "train_gen = DataGenerator(train_images, train_maps,BATCH_SIZE)\n",
        "# val_gen = DataGenerator(val_images, val_maps,BATCH_SIZE)"
      ]
    },
    {
      "cell_type": "code",
      "execution_count": null,
      "id": "641ead77",
      "metadata": {
        "colab": {
          "background_save": true,
          "base_uri": "https://localhost:8080/"
        },
        "id": "641ead77",
        "outputId": "80110f65-797b-45fe-9292-55e205b1079c"
      },
      "outputs": [
        {
          "name": "stderr",
          "output_type": "stream",
          "text": [
            "<ipython-input-42-dd468fe9ad4c>:42: RuntimeWarning: invalid value encountered in divide\n",
            "  density_map /= np.sum(density_map / len(points))\n"
          ]
        },
        {
          "name": "stdout",
          "output_type": "stream",
          "text": [
            "Epoch 1/1000\n"
          ]
        },
        {
          "name": "stderr",
          "output_type": "stream",
          "text": [
            "/usr/local/lib/python3.10/dist-packages/keras/src/trainers/data_adapters/py_dataset_adapter.py:121: UserWarning: Your `PyDataset` class should call `super().__init__(**kwargs)` in its constructor. `**kwargs` can include `workers`, `use_multiprocessing`, `max_queue_size`. Do not pass these arguments to `fit()`, as they will be ignored.\n",
            "  self._warn_if_super_not_called()\n"
          ]
        },
        {
          "name": "stdout",
          "output_type": "stream",
          "text": [
            "\u001b[1m154/300\u001b[0m \u001b[32m━━━━━━━━━━\u001b[0m\u001b[37m━━━━━━━━━━\u001b[0m \u001b[1m1:53:04\u001b[0m 46s/step - loss: nan - mae: nan"
          ]
        }
      ],
      "source": [
        "\n",
        "from tensorflow.keras.callbacks import ModelCheckpoint\n",
        "\n",
        "# Checkpoint settings\n",
        "callback = ModelCheckpoint(\n",
        "    filepath=checkpoint_filepath,\n",
        "    save_weights_only=True,\n",
        "    monitor='loss',\n",
        "    mode='min',\n",
        "    save_best_only=True\n",
        ")\n",
        "\n",
        "# Start training\n",
        "history = model.fit(\n",
        "    train_gen,\n",
        "    verbose=1,\n",
        "    shuffle=True,\n",
        "    epochs=EPOCHS,\n",
        "    callbacks=[callback]\n",
        ")\n"
      ]
    },
    {
      "cell_type": "code",
      "execution_count": null,
      "id": "b68c97e4",
      "metadata": {
        "id": "b68c97e4"
      },
      "outputs": [],
      "source": [
        "\n",
        "# Define the test image path and ground truth path\n",
        "IN = 'GT_IMG_1'  # Example image filename\n",
        "image_path = f\"/content/drive/MyDrive/ColabNotebooks/TME6015/ShanghaiTech_Crowd_Counting_Dataset/part_A_final/test_data/images/{IN}.jpg\"\n",
        "ground_truth_path = f\"/content/drive/MyDrive/ColabNotebooks/TME6015/ShanghaiTech_Crowd_Counting_Dataset/part_A_final/test_data/ground_truth/GT_{IN}.mat\"\n",
        "\n",
        "# Load and preprocess the image\n",
        "im_array = img_to_array(load_img(image_path, target_size=(IN_X, IN_Y)))\n",
        "im_array /= 255.0\n",
        "for i in range(3):\n",
        "    im_array[:, :, i] = (im_array[:, :, i] - np.mean(im_array[:, :, i])) / np.std(im_array[:, :, i])\n",
        "\n",
        "plt.figure(figsize=(10, 8))\n",
        "plt.imshow(im_array)\n",
        "\n",
        "# Prediction\n",
        "output = model.predict(np.expand_dims(im_array, axis=0))\n",
        "output = np.reshape(output, (OUT_X, OUT_Y))\n",
        "\n",
        "# Display prediction\n",
        "predicted_count = np.sum(output)\n",
        "\n",
        "# Load actual count for comparison\n",
        "mat = scipy.io.loadmat(ground_truth_path)\n",
        "points = mat['image_info'][0][0][0][0][0]\n",
        "actual_count = len(points)\n",
        "\n",
        "# Output Results\n",
        "print(f\"The actual number of people is: {actual_count}\")\n",
        "print(f\"The predicted number of people is: {predicted_count}\")\n",
        "\n",
        "# Show density map\n",
        "plt.figure(figsize=(10, 8))\n",
        "plt.imshow(output, cmap='hot')\n",
        "plt.colorbar()\n",
        "plt.show()\n"
      ]
    }
  ],
  "metadata": {
    "colab": {
      "provenance": [],
      "include_colab_link": true
    },
    "kernelspec": {
      "display_name": "Python 3",
      "name": "python3"
    },
    "language_info": {
      "name": "python"
    }
  },
  "nbformat": 4,
  "nbformat_minor": 5
}