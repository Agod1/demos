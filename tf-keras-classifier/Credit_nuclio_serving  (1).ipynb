{
 "cells": [
  {
   "cell_type": "code",
   "execution_count": 17,
   "metadata": {},
   "outputs": [],
   "source": [
    "# nuclio: ignore\n",
    "# if the nuclio-jupyter package is not installed run !pip install nuclio-jupyter\n",
    "import nuclio "
   ]
  },
  {
   "cell_type": "code",
   "execution_count": null,
   "metadata": {
    "collapsed": true,
    "jupyter": {
     "outputs_hidden": true
    }
   },
   "outputs": [
    {
     "name": "stdout",
     "output_type": "stream",
     "text": [
      "Requirement already up-to-date: kfserving==0.2.0 in /User/.pythonlibs/lib/python3.6/site-packages (0.2.0)\n",
      "Requirement already satisfied, skipping upgrade: urllib3>=1.15.1 in /conda/lib/python3.6/site-packages (from kfserving==0.2.0) (1.24.2)\n",
      "Collecting kubernetes>=10.0.1 (from kfserving==0.2.0)\n",
      "  Using cached https://files.pythonhosted.org/packages/6e/fc/2cab119f679648b348b8940de0dd744a1f0ee99c690aa2ef6072f050816c/kubernetes-10.0.1-py2.py3-none-any.whl\n",
      "Requirement already satisfied, skipping upgrade: argparse>=1.4.0 in /User/.pythonlibs/lib/python3.6/site-packages (from kfserving==0.2.0) (1.4.0)\n",
      "Requirement already satisfied, skipping upgrade: minio>=4.0.9 in /User/.pythonlibs/lib/python3.6/site-packages (from kfserving==0.2.0) (5.0.5)\n",
      "Requirement already satisfied, skipping upgrade: google-cloud-storage>=1.16.0 in /User/.pythonlibs/lib/python3.6/site-packages (from kfserving==0.2.0) (1.23.0)\n",
      "Requirement already satisfied, skipping upgrade: numpy in /User/.pythonlibs/lib/python3.6/site-packages (from kfserving==0.2.0) (1.16.4)\n",
      "Requirement already satisfied, skipping upgrade: table-logger>=0.3.5 in /User/.pythonlibs/lib/python3.6/site-packages (from kfserving==0.2.0) (0.3.6)\n",
      "Requirement already satisfied, skipping upgrade: certifi>=14.05.14 in /conda/lib/python3.6/site-packages (from kfserving==0.2.0) (2019.9.11)\n",
      "Requirement already satisfied, skipping upgrade: adal>=1.2.2 in /User/.pythonlibs/lib/python3.6/site-packages (from kfserving==0.2.0) (1.2.2)\n",
      "Collecting azure-storage-blob>=2.1.0 (from kfserving==0.2.0)\n",
      "\u001b[?25l  Downloading https://files.pythonhosted.org/packages/02/16/988b90dd1506c7508bf83624daa23ad9a137a637c0094ab37fd8850b7bd1/azure_storage_blob-12.1.0-py2.py3-none-any.whl (272kB)\n",
      "\u001b[K    100% |████████████████████████████████| 276kB 10.2MB/s ta 0:00:01\n",
      "\u001b[?25hRequirement already satisfied, skipping upgrade: tornado>=1.4.1 in /User/.pythonlibs/lib/python3.6/site-packages (from kfserving==0.2.0) (5.1.1)\n",
      "Requirement already satisfied, skipping upgrade: python-dateutil>=2.5.3 in /conda/lib/python3.6/site-packages (from kfserving==0.2.0) (2.8.0)\n",
      "Requirement already satisfied, skipping upgrade: setuptools>=21.0.0 in /conda/lib/python3.6/site-packages (from kfserving==0.2.0) (41.4.0)\n",
      "Requirement already satisfied, skipping upgrade: six>=1.10 in /conda/lib/python3.6/site-packages (from kfserving==0.2.0) (1.12.0)\n",
      "Requirement already satisfied, skipping upgrade: requests-oauthlib in /User/.pythonlibs/lib/python3.6/site-packages (from kubernetes>=10.0.1->kfserving==0.2.0) (1.3.0)\n",
      "Requirement already satisfied, skipping upgrade: google-auth>=1.0.1 in /User/.pythonlibs/lib/python3.6/site-packages (from kubernetes>=10.0.1->kfserving==0.2.0) (1.7.1)\n",
      "Requirement already satisfied, skipping upgrade: websocket-client!=0.40.0,!=0.41.*,!=0.42.*,>=0.32.0 in /User/.pythonlibs/lib/python3.6/site-packages (from kubernetes>=10.0.1->kfserving==0.2.0) (0.56.0)\n",
      "Requirement already satisfied, skipping upgrade: requests in /conda/lib/python3.6/site-packages (from kubernetes>=10.0.1->kfserving==0.2.0) (2.22.0)\n",
      "Requirement already satisfied, skipping upgrade: pyyaml>=3.12 in /conda/lib/python3.6/site-packages (from kubernetes>=10.0.1->kfserving==0.2.0) (5.1.2)\n",
      "Requirement already satisfied, skipping upgrade: pytz in /conda/lib/python3.6/site-packages (from minio>=4.0.9->kfserving==0.2.0) (2019.3)\n",
      "Requirement already satisfied, skipping upgrade: google-resumable-media<0.6dev,>=0.5.0 in /User/.pythonlibs/lib/python3.6/site-packages (from google-cloud-storage>=1.16.0->kfserving==0.2.0) (0.5.0)\n",
      "Requirement already satisfied, skipping upgrade: google-cloud-core<2.0dev,>=1.0.3 in /User/.pythonlibs/lib/python3.6/site-packages (from google-cloud-storage>=1.16.0->kfserving==0.2.0) (1.0.3)\n",
      "Requirement already satisfied, skipping upgrade: cryptography>=1.1.0 in /conda/lib/python3.6/site-packages (from adal>=1.2.2->kfserving==0.2.0) (2.8)\n",
      "Requirement already satisfied, skipping upgrade: PyJWT>=1.0.0 in /User/.pythonlibs/lib/python3.6/site-packages (from adal>=1.2.2->kfserving==0.2.0) (1.7.1)\n",
      "Requirement already satisfied, skipping upgrade: msrest>=0.6.10 in /User/.pythonlibs/lib/python3.6/site-packages (from azure-storage-blob>=2.1.0->kfserving==0.2.0) (0.6.10)\n",
      "Requirement already satisfied, skipping upgrade: azure-core<2.0.0,>=1.1.0 in /User/.pythonlibs/lib/python3.6/site-packages (from azure-storage-blob>=2.1.0->kfserving==0.2.0) (1.1.0)\n",
      "Requirement already satisfied, skipping upgrade: oauthlib>=3.0.0 in /User/.pythonlibs/lib/python3.6/site-packages (from requests-oauthlib->kubernetes>=10.0.1->kfserving==0.2.0) (3.1.0)\n",
      "Requirement already satisfied, skipping upgrade: pyasn1-modules>=0.2.1 in /User/.pythonlibs/lib/python3.6/site-packages (from google-auth>=1.0.1->kubernetes>=10.0.1->kfserving==0.2.0) (0.2.7)\n",
      "Requirement already satisfied, skipping upgrade: rsa<4.1,>=3.1.4 in /User/.pythonlibs/lib/python3.6/site-packages (from google-auth>=1.0.1->kubernetes>=10.0.1->kfserving==0.2.0) (4.0)\n",
      "Requirement already satisfied, skipping upgrade: cachetools<3.2,>=2.0.0 in /User/.pythonlibs/lib/python3.6/site-packages (from google-auth>=1.0.1->kubernetes>=10.0.1->kfserving==0.2.0) (3.1.1)\n",
      "Requirement already satisfied, skipping upgrade: idna<2.9,>=2.5 in /conda/lib/python3.6/site-packages (from requests->kubernetes>=10.0.1->kfserving==0.2.0) (2.8)\n",
      "Requirement already satisfied, skipping upgrade: chardet<3.1.0,>=3.0.2 in /conda/lib/python3.6/site-packages (from requests->kubernetes>=10.0.1->kfserving==0.2.0) (3.0.4)\n",
      "Requirement already satisfied, skipping upgrade: google-api-core<2.0.0dev,>=1.14.0 in /User/.pythonlibs/lib/python3.6/site-packages (from google-cloud-core<2.0dev,>=1.0.3->google-cloud-storage>=1.16.0->kfserving==0.2.0) (1.14.3)\n",
      "Requirement already satisfied, skipping upgrade: cffi!=1.11.3,>=1.8 in /conda/lib/python3.6/site-packages (from cryptography>=1.1.0->adal>=1.2.2->kfserving==0.2.0) (1.13.0)\n",
      "Requirement already satisfied, skipping upgrade: isodate>=0.6.0 in /User/.pythonlibs/lib/python3.6/site-packages (from msrest>=0.6.10->azure-storage-blob>=2.1.0->kfserving==0.2.0) (0.6.0)\n",
      "Requirement already satisfied, skipping upgrade: pyasn1<0.5.0,>=0.4.6 in /User/.pythonlibs/lib/python3.6/site-packages (from pyasn1-modules>=0.2.1->google-auth>=1.0.1->kubernetes>=10.0.1->kfserving==0.2.0) (0.4.8)\n",
      "Requirement already satisfied, skipping upgrade: protobuf>=3.4.0 in /conda/lib/python3.6/site-packages (from google-api-core<2.0.0dev,>=1.14.0->google-cloud-core<2.0dev,>=1.0.3->google-cloud-storage>=1.16.0->kfserving==0.2.0) (3.10.0)\n",
      "Requirement already satisfied, skipping upgrade: googleapis-common-protos<2.0dev,>=1.6.0 in /conda/lib/python3.6/site-packages (from google-api-core<2.0.0dev,>=1.14.0->google-cloud-core<2.0dev,>=1.0.3->google-cloud-storage>=1.16.0->kfserving==0.2.0) (1.6.0)\n",
      "Requirement already satisfied, skipping upgrade: pycparser in /conda/lib/python3.6/site-packages (from cffi!=1.11.3,>=1.8->cryptography>=1.1.0->adal>=1.2.2->kfserving==0.2.0) (2.19)\n",
      "\u001b[31mkfp 0.1.36 has requirement kubernetes<=9.0.0,>=8.0.0, but you'll have kubernetes 10.0.1 which is incompatible.\u001b[0m\n",
      "\u001b[31mazure 4.0.0 has requirement azure-storage-blob~=1.3, but you'll have azure-storage-blob 12.1.0 which is incompatible.\u001b[0m\n",
      "Installing collected packages: kubernetes, azure-storage-blob\n",
      "  Found existing installation: kubernetes 9.0.0\n",
      "    Uninstalling kubernetes-9.0.0:\n",
      "      Successfully uninstalled kubernetes-9.0.0\n",
      "  Found existing installation: azure-storage-blob 1.5.0\n",
      "    Uninstalling azure-storage-blob-1.5.0:\n",
      "      Successfully uninstalled azure-storage-blob-1.5.0\n",
      "Successfully installed azure-storage-blob-12.1.0 kubernetes-10.0.1\n",
      "Requirement already satisfied: azure in /User/.pythonlibs/lib/python3.6/site-packages (4.0.0)\n",
      "Requirement already satisfied: azure-datalake-store~=0.0.18 in /User/.pythonlibs/lib/python3.6/site-packages (from azure) (0.0.48)\n",
      "Requirement already satisfied: azure-graphrbac~=0.40.0 in /User/.pythonlibs/lib/python3.6/site-packages (from azure) (0.40.0)\n",
      "Requirement already satisfied: azure-servicemanagement-legacy~=0.20.6 in /User/.pythonlibs/lib/python3.6/site-packages (from azure) (0.20.6)\n",
      "Requirement already satisfied: azure-servicebus~=0.21.1 in /User/.pythonlibs/lib/python3.6/site-packages (from azure) (0.21.1)\n",
      "Requirement already satisfied: azure-batch~=4.1 in /User/.pythonlibs/lib/python3.6/site-packages (from azure) (4.1.3)\n",
      "Requirement already satisfied: azure-eventgrid~=1.1 in /User/.pythonlibs/lib/python3.6/site-packages (from azure) (1.3.0)\n",
      "Requirement already satisfied: azure-storage-queue~=1.3 in /User/.pythonlibs/lib/python3.6/site-packages (from azure) (1.4.0)\n",
      "Requirement already satisfied: azure-keyvault~=1.0 in /User/.pythonlibs/lib/python3.6/site-packages (from azure) (1.1.0)\n",
      "Requirement already satisfied: azure-storage-file~=1.3 in /User/.pythonlibs/lib/python3.6/site-packages (from azure) (1.4.0)\n",
      "Requirement already satisfied: azure-cosmosdb-table~=1.0 in /User/.pythonlibs/lib/python3.6/site-packages (from azure) (1.0.6)\n",
      "Requirement already satisfied: azure-loganalytics~=0.1.0 in /User/.pythonlibs/lib/python3.6/site-packages (from azure) (0.1.0)\n",
      "Requirement already satisfied: azure-servicefabric~=6.3.0.0 in /User/.pythonlibs/lib/python3.6/site-packages (from azure) (6.3.0.0)\n",
      "Collecting azure-storage-blob~=1.3 (from azure)\n",
      "  Using cached https://files.pythonhosted.org/packages/25/f4/a307ed89014e9abb5c5cfc8ca7f8f797d12f619f17a6059a6fd4b153b5d0/azure_storage_blob-1.5.0-py2.py3-none-any.whl\n",
      "Requirement already satisfied: azure-applicationinsights~=0.1.0 in /User/.pythonlibs/lib/python3.6/site-packages (from azure) (0.1.0)\n",
      "Requirement already satisfied: azure-mgmt~=4.0 in /User/.pythonlibs/lib/python3.6/site-packages (from azure) (4.0.0)\n",
      "Requirement already satisfied: cffi in /conda/lib/python3.6/site-packages (from azure-datalake-store~=0.0.18->azure) (1.13.0)\n",
      "Requirement already satisfied: adal>=0.4.2 in /User/.pythonlibs/lib/python3.6/site-packages (from azure-datalake-store~=0.0.18->azure) (1.2.2)\n",
      "Requirement already satisfied: requests>=2.20.0 in /conda/lib/python3.6/site-packages (from azure-datalake-store~=0.0.18->azure) (2.22.0)\n",
      "Requirement already satisfied: azure-common~=1.1 in /User/.pythonlibs/lib/python3.6/site-packages (from azure-graphrbac~=0.40.0->azure) (1.1.23)\n",
      "Requirement already satisfied: msrestazure<2.0.0,>=0.4.20 in /User/.pythonlibs/lib/python3.6/site-packages (from azure-graphrbac~=0.40.0->azure) (0.6.2)\n",
      "Requirement already satisfied: azure-nspkg>=2.0.0 in /User/.pythonlibs/lib/python3.6/site-packages (from azure-graphrbac~=0.40.0->azure) (3.0.2)\n",
      "Requirement already satisfied: msrest>=0.5.0 in /User/.pythonlibs/lib/python3.6/site-packages (from azure-eventgrid~=1.1->azure) (0.6.10)\n",
      "Requirement already satisfied: azure-storage-common~=1.4 in /User/.pythonlibs/lib/python3.6/site-packages (from azure-storage-queue~=1.3->azure) (1.4.2)\n",
      "Requirement already satisfied: cryptography>=2.1.4 in /conda/lib/python3.6/site-packages (from azure-keyvault~=1.0->azure) (2.8)\n",
      "Requirement already satisfied: azure-cosmosdb-nspkg>=2.0.0 in /User/.pythonlibs/lib/python3.6/site-packages (from azure-cosmosdb-table~=1.0->azure) (2.0.2)\n",
      "Requirement already satisfied: python-dateutil in /conda/lib/python3.6/site-packages (from azure-cosmosdb-table~=1.0->azure) (2.8.0)\n",
      "Requirement already satisfied: azure-mgmt-notificationhubs~=2.0 in /User/.pythonlibs/lib/python3.6/site-packages (from azure-mgmt~=4.0->azure) (2.1.0)\n",
      "Requirement already satisfied: azure-mgmt-subscription~=0.2.0 in /User/.pythonlibs/lib/python3.6/site-packages (from azure-mgmt~=4.0->azure) (0.2.0)\n",
      "Requirement already satisfied: azure-mgmt-cosmosdb~=0.4.1 in /User/.pythonlibs/lib/python3.6/site-packages (from azure-mgmt~=4.0->azure) (0.4.1)\n",
      "Requirement already satisfied: azure-mgmt-resource~=2.0 in /User/.pythonlibs/lib/python3.6/site-packages (from azure-mgmt~=4.0->azure) (2.2.0)\n",
      "Requirement already satisfied: azure-mgmt-scheduler~=2.0 in /User/.pythonlibs/lib/python3.6/site-packages (from azure-mgmt~=4.0->azure) (2.0.0)\n",
      "Requirement already satisfied: azure-mgmt-datalake-analytics~=0.6.0 in /User/.pythonlibs/lib/python3.6/site-packages (from azure-mgmt~=4.0->azure) (0.6.0)\n",
      "Requirement already satisfied: azure-mgmt-maps~=0.1.0 in /User/.pythonlibs/lib/python3.6/site-packages (from azure-mgmt~=4.0->azure) (0.1.0)\n",
      "Requirement already satisfied: azure-mgmt-advisor~=1.0 in /User/.pythonlibs/lib/python3.6/site-packages (from azure-mgmt~=4.0->azure) (1.0.1)\n",
      "Requirement already satisfied: azure-mgmt-search~=2.0 in /User/.pythonlibs/lib/python3.6/site-packages (from azure-mgmt~=4.0->azure) (2.1.0)\n",
      "Requirement already satisfied: azure-mgmt-media~=1.0.0rc2 in /User/.pythonlibs/lib/python3.6/site-packages (from azure-mgmt~=4.0->azure) (1.0.0)\n",
      "Requirement already satisfied: azure-mgmt-containerservice~=4.2 in /User/.pythonlibs/lib/python3.6/site-packages (from azure-mgmt~=4.0->azure) (4.4.0)\n",
      "Requirement already satisfied: azure-mgmt-containerregistry~=2.1 in /User/.pythonlibs/lib/python3.6/site-packages (from azure-mgmt~=4.0->azure) (2.8.0)\n",
      "Requirement already satisfied: azure-mgmt-devspaces~=0.1.0 in /User/.pythonlibs/lib/python3.6/site-packages (from azure-mgmt~=4.0->azure) (0.1.0)\n",
      "Requirement already satisfied: azure-mgmt-iotcentral~=0.1.0 in /User/.pythonlibs/lib/python3.6/site-packages (from azure-mgmt~=4.0->azure) (0.1.0)\n",
      "Requirement already satisfied: azure-mgmt-compute~=4.0 in /User/.pythonlibs/lib/python3.6/site-packages (from azure-mgmt~=4.0->azure) (4.6.2)\n",
      "Requirement already satisfied: azure-mgmt-eventgrid~=1.0 in /User/.pythonlibs/lib/python3.6/site-packages (from azure-mgmt~=4.0->azure) (1.0.0)\n",
      "Requirement already satisfied: azure-mgmt-recoveryservices~=0.3.0 in /User/.pythonlibs/lib/python3.6/site-packages (from azure-mgmt~=4.0->azure) (0.3.0)\n",
      "Requirement already satisfied: azure-mgmt-machinelearningcompute~=0.4.1 in /User/.pythonlibs/lib/python3.6/site-packages (from azure-mgmt~=4.0->azure) (0.4.1)\n",
      "Requirement already satisfied: azure-mgmt-rdbms~=1.2 in /User/.pythonlibs/lib/python3.6/site-packages (from azure-mgmt~=4.0->azure) (1.9.0)\n",
      "Requirement already satisfied: azure-mgmt-commerce~=1.0 in /User/.pythonlibs/lib/python3.6/site-packages (from azure-mgmt~=4.0->azure) (1.0.1)\n",
      "Requirement already satisfied: azure-mgmt-devtestlabs~=2.2 in /User/.pythonlibs/lib/python3.6/site-packages (from azure-mgmt~=4.0->azure) (2.2.0)\n",
      "Requirement already satisfied: azure-mgmt-dns~=2.0 in /User/.pythonlibs/lib/python3.6/site-packages (from azure-mgmt~=4.0->azure) (2.1.0)\n",
      "Requirement already satisfied: azure-mgmt-consumption~=2.0 in /User/.pythonlibs/lib/python3.6/site-packages (from azure-mgmt~=4.0->azure) (2.0.0)\n",
      "Requirement already satisfied: azure-mgmt-batchai~=2.0 in /User/.pythonlibs/lib/python3.6/site-packages (from azure-mgmt~=4.0->azure) (2.0.0)\n",
      "Requirement already satisfied: azure-mgmt-loganalytics~=0.2.0 in /User/.pythonlibs/lib/python3.6/site-packages (from azure-mgmt~=4.0->azure) (0.2.0)\n",
      "Requirement already satisfied: azure-mgmt-monitor~=0.5.2 in /User/.pythonlibs/lib/python3.6/site-packages (from azure-mgmt~=4.0->azure) (0.5.2)\n",
      "Requirement already satisfied: azure-mgmt-servicefabric~=0.2.0 in /User/.pythonlibs/lib/python3.6/site-packages (from azure-mgmt~=4.0->azure) (0.2.0)\n",
      "Requirement already satisfied: azure-mgmt-network~=2.0 in /User/.pythonlibs/lib/python3.6/site-packages (from azure-mgmt~=4.0->azure) (2.7.0)\n",
      "Requirement already satisfied: azure-mgmt-datamigration~=1.0 in /User/.pythonlibs/lib/python3.6/site-packages (from azure-mgmt~=4.0->azure) (1.0.0)\n",
      "Requirement already satisfied: azure-mgmt-applicationinsights~=0.1.1 in /User/.pythonlibs/lib/python3.6/site-packages (from azure-mgmt~=4.0->azure) (0.1.1)\n",
      "Requirement already satisfied: azure-mgmt-managementpartner~=0.1.0 in /User/.pythonlibs/lib/python3.6/site-packages (from azure-mgmt~=4.0->azure) (0.1.1)\n",
      "Requirement already satisfied: azure-mgmt-redis~=5.0 in /User/.pythonlibs/lib/python3.6/site-packages (from azure-mgmt~=4.0->azure) (5.0.0)\n",
      "Requirement already satisfied: azure-mgmt-policyinsights~=0.1.0 in /User/.pythonlibs/lib/python3.6/site-packages (from azure-mgmt~=4.0->azure) (0.1.0)\n",
      "Requirement already satisfied: azure-mgmt-servicebus~=0.5.1 in /User/.pythonlibs/lib/python3.6/site-packages (from azure-mgmt~=4.0->azure) (0.5.3)\n",
      "Requirement already satisfied: azure-mgmt-relay~=0.1.0 in /User/.pythonlibs/lib/python3.6/site-packages (from azure-mgmt~=4.0->azure) (0.1.0)\n",
      "Requirement already satisfied: azure-mgmt-cdn~=3.0 in /User/.pythonlibs/lib/python3.6/site-packages (from azure-mgmt~=4.0->azure) (3.1.0)\n",
      "Requirement already satisfied: azure-mgmt-iothubprovisioningservices~=0.2.0 in /User/.pythonlibs/lib/python3.6/site-packages (from azure-mgmt~=4.0->azure) (0.2.0)\n",
      "Requirement already satisfied: azure-mgmt-reservations~=0.2.1 in /User/.pythonlibs/lib/python3.6/site-packages (from azure-mgmt~=4.0->azure) (0.2.1)\n",
      "Requirement already satisfied: azure-mgmt-keyvault~=1.0 in /User/.pythonlibs/lib/python3.6/site-packages (from azure-mgmt~=4.0->azure) (1.1.0)\n",
      "Requirement already satisfied: azure-mgmt-sql~=0.9.1 in /User/.pythonlibs/lib/python3.6/site-packages (from azure-mgmt~=4.0->azure) (0.9.1)\n",
      "Requirement already satisfied: azure-mgmt-datafactory~=0.6.0 in /User/.pythonlibs/lib/python3.6/site-packages (from azure-mgmt~=4.0->azure) (0.6.0)\n",
      "Requirement already satisfied: azure-mgmt-recoveryservicesbackup~=0.3.0 in /User/.pythonlibs/lib/python3.6/site-packages (from azure-mgmt~=4.0->azure) (0.3.0)\n",
      "Requirement already satisfied: azure-mgmt-hanaonazure~=0.1.1 in /User/.pythonlibs/lib/python3.6/site-packages (from azure-mgmt~=4.0->azure) (0.1.1)\n",
      "Requirement already satisfied: azure-mgmt-iothub~=0.5.0 in /User/.pythonlibs/lib/python3.6/site-packages (from azure-mgmt~=4.0->azure) (0.5.0)\n",
      "Requirement already satisfied: azure-mgmt-authorization~=0.50.0 in /User/.pythonlibs/lib/python3.6/site-packages (from azure-mgmt~=4.0->azure) (0.50.0)\n",
      "Requirement already satisfied: azure-mgmt-billing~=0.2.0 in /User/.pythonlibs/lib/python3.6/site-packages (from azure-mgmt~=4.0->azure) (0.2.0)\n",
      "Requirement already satisfied: azure-mgmt-storage~=2.0 in /User/.pythonlibs/lib/python3.6/site-packages (from azure-mgmt~=4.0->azure) (2.0.0)\n",
      "Requirement already satisfied: azure-mgmt-batch~=5.0 in /User/.pythonlibs/lib/python3.6/site-packages (from azure-mgmt~=4.0->azure) (5.0.1)\n",
      "Requirement already satisfied: azure-mgmt-managementgroups~=0.1.0 in /User/.pythonlibs/lib/python3.6/site-packages (from azure-mgmt~=4.0->azure) (0.1.0)\n",
      "Requirement already satisfied: azure-mgmt-containerinstance~=1.0 in /User/.pythonlibs/lib/python3.6/site-packages (from azure-mgmt~=4.0->azure) (1.5.0)\n",
      "Requirement already satisfied: azure-mgmt-marketplaceordering~=0.1.0 in /User/.pythonlibs/lib/python3.6/site-packages (from azure-mgmt~=4.0->azure) (0.1.0)\n",
      "Requirement already satisfied: azure-mgmt-msi~=0.2.0 in /User/.pythonlibs/lib/python3.6/site-packages (from azure-mgmt~=4.0->azure) (0.2.0)\n",
      "Requirement already satisfied: azure-mgmt-trafficmanager~=0.50.0 in /User/.pythonlibs/lib/python3.6/site-packages (from azure-mgmt~=4.0->azure) (0.50.0)\n",
      "Requirement already satisfied: azure-mgmt-cognitiveservices~=3.0 in /User/.pythonlibs/lib/python3.6/site-packages (from azure-mgmt~=4.0->azure) (3.0.0)\n",
      "Requirement already satisfied: azure-mgmt-logic~=3.0 in /User/.pythonlibs/lib/python3.6/site-packages (from azure-mgmt~=4.0->azure) (3.0.0)\n",
      "Requirement already satisfied: azure-mgmt-web~=0.35.0 in /User/.pythonlibs/lib/python3.6/site-packages (from azure-mgmt~=4.0->azure) (0.35.0)\n",
      "Requirement already satisfied: azure-mgmt-datalake-store~=0.5.0 in /User/.pythonlibs/lib/python3.6/site-packages (from azure-mgmt~=4.0->azure) (0.5.0)\n",
      "Requirement already satisfied: azure-mgmt-powerbiembedded~=2.0 in /User/.pythonlibs/lib/python3.6/site-packages (from azure-mgmt~=4.0->azure) (2.0.0)\n",
      "Requirement already satisfied: azure-mgmt-eventhub~=2.1 in /User/.pythonlibs/lib/python3.6/site-packages (from azure-mgmt~=4.0->azure) (2.6.0)\n",
      "Requirement already satisfied: azure-mgmt-signalr~=0.1.0 in /User/.pythonlibs/lib/python3.6/site-packages (from azure-mgmt~=4.0->azure) (0.1.1)\n",
      "Requirement already satisfied: pycparser in /conda/lib/python3.6/site-packages (from cffi->azure-datalake-store~=0.0.18->azure) (2.19)\n",
      "Requirement already satisfied: PyJWT>=1.0.0 in /User/.pythonlibs/lib/python3.6/site-packages (from adal>=0.4.2->azure-datalake-store~=0.0.18->azure) (1.7.1)\n",
      "Requirement already satisfied: certifi>=2017.4.17 in /conda/lib/python3.6/site-packages (from requests>=2.20.0->azure-datalake-store~=0.0.18->azure) (2019.9.11)\n",
      "Requirement already satisfied: urllib3!=1.25.0,!=1.25.1,<1.26,>=1.21.1 in /conda/lib/python3.6/site-packages (from requests>=2.20.0->azure-datalake-store~=0.0.18->azure) (1.24.2)\n",
      "Requirement already satisfied: chardet<3.1.0,>=3.0.2 in /conda/lib/python3.6/site-packages (from requests>=2.20.0->azure-datalake-store~=0.0.18->azure) (3.0.4)\n",
      "Requirement already satisfied: idna<2.9,>=2.5 in /conda/lib/python3.6/site-packages (from requests>=2.20.0->azure-datalake-store~=0.0.18->azure) (2.8)\n",
      "Requirement already satisfied: isodate>=0.6.0 in /User/.pythonlibs/lib/python3.6/site-packages (from msrest>=0.5.0->azure-eventgrid~=1.1->azure) (0.6.0)\n",
      "Requirement already satisfied: requests-oauthlib>=0.5.0 in /User/.pythonlibs/lib/python3.6/site-packages (from msrest>=0.5.0->azure-eventgrid~=1.1->azure) (1.3.0)\n",
      "Requirement already satisfied: six>=1.4.1 in /conda/lib/python3.6/site-packages (from cryptography>=2.1.4->azure-keyvault~=1.0->azure) (1.12.0)\n",
      "Requirement already satisfied: azure-mgmt-nspkg>=2.0.0 in /User/.pythonlibs/lib/python3.6/site-packages (from azure-mgmt-subscription~=0.2.0->azure-mgmt~=4.0->azure) (3.0.2)\n",
      "Requirement already satisfied: azure-mgmt-datalake-nspkg>=2.0.0 in /User/.pythonlibs/lib/python3.6/site-packages (from azure-mgmt-datalake-analytics~=0.6.0->azure-mgmt~=4.0->azure) (3.0.1)\n",
      "Requirement already satisfied: oauthlib>=3.0.0 in /User/.pythonlibs/lib/python3.6/site-packages (from requests-oauthlib>=0.5.0->msrest>=0.5.0->azure-eventgrid~=1.1->azure) (3.1.0)\n",
      "\u001b[31mkfserving 0.2.0 has requirement azure-storage-blob>=2.1.0, but you'll have azure-storage-blob 1.5.0 which is incompatible.\u001b[0m\n",
      "Installing collected packages: azure-storage-blob\n",
      "  Found existing installation: azure-storage-blob 12.1.0\n",
      "    Uninstalling azure-storage-blob-12.1.0:\n",
      "      Successfully uninstalled azure-storage-blob-12.1.0\n",
      "Successfully installed azure-storage-blob-1.5.0\n",
      "Requirement already satisfied: numpy in /User/.pythonlibs/lib/python3.6/site-packages (1.16.4)\n",
      "Requirement already satisfied: xgboost in /User/.pythonlibs/lib/python3.6/site-packages (0.90)\n",
      "Requirement already satisfied: scipy in /conda/lib/python3.6/site-packages (from xgboost) (1.3.1)\n",
      "Requirement already satisfied: numpy in /User/.pythonlibs/lib/python3.6/site-packages (from xgboost) (1.16.4)\n"
     ]
    }
   ],
   "source": [
    "%%nuclio cmd\n",
    "pip install kfserving==0.2.0 --upgrade\n",
    "pip install azure\n",
    "pip install numpy\n",
    "pip install xgboost\n",
    "pip install --upgrade git+https://github.com/fchollet/keras"
   ]
  },
  {
   "cell_type": "code",
   "execution_count": 9,
   "metadata": {},
   "outputs": [],
   "source": [
    "import kfserving\n",
    "import os\n",
    "import numpy as np\n",
    "from typing import List, Any\n",
    "\n",
    "import xgboost as xgb"
   ]
  },
  {
   "cell_type": "code",
   "execution_count": 10,
   "metadata": {},
   "outputs": [],
   "source": [
    "BOOSTER_FILE = \"model.bst\"\n",
    "\n",
    "class RNNModel(kfserving.KFModel):\n",
    "    def __init__(self, name: str, model_dir: str, booster: xgb.XGBModel = None):\n",
    "        super().__init__(name)\n",
    "        self.name = name\n",
    "        self.model_dir = model_dir\n",
    "        if not booster is None:\n",
    "            self._booster = booster\n",
    "            self.ready = True\n",
    "\n",
    "    def load(self):\n",
    "        model_file = os.path.join(\n",
    "            kfserving.Storage.download(self.model_dir), BOOSTER_FILE)\n",
    "        self._booster = xgb.Booster(model_file=model_file)\n",
    "        self.ready = True\n",
    "\n",
    "    def predict(self, body: List) -> List:\n",
    "        try:\n",
    "            # Use of list as input is deprecated see https://github.com/dmlc/xgboost/pull/3970\n",
    "            dmatrix = xgb.DMatrix(body)\n",
    "            result: xgb.DMatrix = self._booster.predict(dmatrix)\n",
    "            return result.tolist()\n",
    "        except Exception as e:\n",
    "            raise Exception(\"Failed to predict %s\" % e)\n"
   ]
  },
  {
   "cell_type": "code",
   "execution_count": 25,
   "metadata": {},
   "outputs": [],
   "source": [
    "# nuclio: end-code\n",
    "from mlrun import new_model_server\n",
    "import requests"
   ]
  },
  {
   "cell_type": "code",
   "execution_count": 34,
   "metadata": {},
   "outputs": [
    {
     "data": {
      "text/plain": [
       "<mlrun.runtimes.function.RemoteRuntime at 0x7f459c7df4a8>"
      ]
     },
     "execution_count": 34,
     "metadata": {},
     "output_type": "execute_result"
    }
   ],
   "source": [
    "fn = new_model_server('Credit-srv', models={'Credit_v1': '/User/Credit_run1/mlrun/data/1'}, model_class='RNNModel')\n",
    "fn.with_v3io('User','~/') "
   ]
  },
  {
   "cell_type": "code",
   "execution_count": 35,
   "metadata": {},
   "outputs": [
    {
     "name": "stdout",
     "output_type": "stream",
     "text": [
      "[mlrun] 2019-12-05 10:56:02,294 deploy started\n",
      "[nuclio.deploy] 2019-12-05 10:56:03,460 (info) Building processor image\n"
     ]
    },
    {
     "name": "stderr",
     "output_type": "stream",
     "text": [
      "INFO:nuclio.deploy:(info) Building processor image\n"
     ]
    },
    {
     "name": "stdout",
     "output_type": "stream",
     "text": [
      "[nuclio.deploy] 2019-12-05 10:56:09,566 (info) Build complete\n"
     ]
    },
    {
     "name": "stderr",
     "output_type": "stream",
     "text": [
      "INFO:nuclio.deploy:(info) Build complete\n"
     ]
    },
    {
     "name": "stdout",
     "output_type": "stream",
     "text": [
      "[nuclio.deploy] 2019-12-05 10:56:17,717 (info) Function deploy complete\n"
     ]
    },
    {
     "name": "stderr",
     "output_type": "stream",
     "text": [
      "INFO:nuclio.deploy:(info) Function deploy complete\n"
     ]
    },
    {
     "name": "stdout",
     "output_type": "stream",
     "text": [
      "[nuclio.deploy] 2019-12-05 10:56:17,729 done updating higgs-srv, function address: 172.29.142.121:32519\n"
     ]
    },
    {
     "name": "stderr",
     "output_type": "stream",
     "text": [
      "INFO:nuclio.deploy:done updating higgs-srv, function address: 172.29.142.121:32519\n"
     ]
    }
   ],
   "source": [
    "addr = fn.deploy(project='Credit-demo')"
   ]
  },
  {
   "cell_type": "code",
   "execution_count": 36,
   "metadata": {},
   "outputs": [],
   "source": [
    "# Seldon protocol event\n",
    "event_seldon = {\"data\": {\"ndarray\": [[5], [10]]}}\n",
    "csel = str(event_seldon).replace(\"\\'\", \"\\\"\")"
   ]
  },
  {
   "cell_type": "code",
   "execution_count": 37,
   "metadata": {},
   "outputs": [
    {
     "name": "stdout",
     "output_type": "stream",
     "text": [
      "b'{\"data\": {\"ndarray\": [[0.34849661588668823, 0.1382627934217453, 0.06415506452322006, 0.06415506452322006, 0.06415506452322006, 0.06415506452322006, 0.06415506452322006, 0.06415506452322006, 0.06415506452322006, 0.06415506452322006], [0.34849661588668823, 0.1382627934217453, 0.06415506452322006, 0.06415506452322006, 0.06415506452322006, 0.06415506452322006, 0.06415506452322006, 0.06415506452322006, 0.06415506452322006, 0.06415506452322006]]}}'\n"
     ]
    }
   ],
   "source": [
    "resp = requests.put(addr + '/predict/Credit_v1', data=csel)\n",
    "print(resp.content)"
   ]
  },
  {
   "cell_type": "code",
   "execution_count": null,
   "metadata": {},
   "outputs": [],
   "source": []
  }
 ],
 "metadata": {
  "kernelspec": {
   "display_name": "Python 3",
   "language": "python",
   "name": "python3"
  },
  "language_info": {
   "codemirror_mode": {
    "name": "ipython",
    "version": 3
   },
   "file_extension": ".py",
   "mimetype": "text/x-python",
   "name": "python",
   "nbconvert_exporter": "python",
   "pygments_lexer": "ipython3",
   "version": "3.6.8"
  }
 },
 "nbformat": 4,
 "nbformat_minor": 4
}
