{
 "cells": [
  {
   "cell_type": "markdown",
   "metadata": {},
   "source": [
    "# Historical Fraud Report"
   ]
  },
  {
   "cell_type": "markdown",
   "metadata": {},
   "source": [
    "### Submit a (api) request for a date interval in the last 30 days and get a summary report."
   ]
  },
  {
   "cell_type": "code",
   "execution_count": 8,
   "metadata": {},
   "outputs": [],
   "source": [
    "from os import path, makedirs\n",
    "import pandas as pd\n",
    "import numpy as np\n",
    "import pyarrow.parquet as pq\n",
    "import pyarrow as pa\n",
    "\n",
    "%matplotlib inline\n",
    "import matplotlib.pyplot as plt\n",
    "import matplotlib.lines as mlines\n",
    "from mpl_toolkits.mplot3d import Axes3D\n",
    "import seaborn as sns"
   ]
  },
  {
   "cell_type": "code",
   "execution_count": 10,
   "metadata": {},
   "outputs": [],
   "source": [
    "target_path = path.join('/v3io', 'bigdata', 'parquet', 'paysim')"
   ]
  },
  {
   "cell_type": "code",
   "execution_count": 18,
   "metadata": {},
   "outputs": [],
   "source": [
    "paysim = pq.read_table(path.join(target_path, 'paysim')).to_pandas()"
   ]
  },
  {
   "cell_type": "code",
   "execution_count": 20,
   "metadata": {},
   "outputs": [
    {
     "data": {
      "text/plain": [
       "step                int64\n",
       "type               object\n",
       "amount            float64\n",
       "nameOrig           object\n",
       "oldbalanceOrg     float64\n",
       "newbalanceOrig    float64\n",
       "nameDest           object\n",
       "oldbalanceDest    float64\n",
       "newbalanceDest    float64\n",
       "isFraud             int64\n",
       "isFlaggedFraud      int64\n",
       "dtype: object"
      ]
     },
     "execution_count": 20,
     "metadata": {},
     "output_type": "execute_result"
    }
   ],
   "source": [
    "paysim.dtypes"
   ]
  },
  {
   "cell_type": "code",
   "execution_count": 21,
   "metadata": {},
   "outputs": [],
   "source": [
    "paysim.rename(columns={'oldbalanceOrg':'oldBalanceOrig', \n",
    "                       'newbalanceOrig':'newBalanceOrig',\n",
    "                       'oldbalanceDest':'oldBalanceDest',\n",
    "                       'newbalanceDest':'newBalanceDest'},\n",
    "              inplace=True)"
   ]
  },
  {
   "cell_type": "code",
   "execution_count": 22,
   "metadata": {},
   "outputs": [],
   "source": [
    "format_mapping={\n",
    "    'amount': '${:,.2f}',\n",
    "    'oldBalanceOrig': '${:,.2f}',\n",
    "    'newBalanceOrig': '${:,.2f}',\n",
    "    'oldBalanceDest': '${:,.2f}',\n",
    "    'newBalanceDest': '${:,.2f}',}"
   ]
  },
  {
   "cell_type": "code",
   "execution_count": 23,
   "metadata": {},
   "outputs": [],
   "source": [
    "for key, value in format_mapping.items():\n",
    "    paysim[key] = paysim[key].apply(value.format)"
   ]
  },
  {
   "cell_type": "code",
   "execution_count": 24,
   "metadata": {},
   "outputs": [
    {
     "data": {
      "text/html": [
       "<div>\n",
       "<style scoped>\n",
       "    .dataframe tbody tr th:only-of-type {\n",
       "        vertical-align: middle;\n",
       "    }\n",
       "\n",
       "    .dataframe tbody tr th {\n",
       "        vertical-align: top;\n",
       "    }\n",
       "\n",
       "    .dataframe thead th {\n",
       "        text-align: right;\n",
       "    }\n",
       "</style>\n",
       "<table border=\"1\" class=\"dataframe\">\n",
       "  <thead>\n",
       "    <tr style=\"text-align: right;\">\n",
       "      <th></th>\n",
       "      <th>step</th>\n",
       "      <th>type</th>\n",
       "      <th>amount</th>\n",
       "      <th>nameOrig</th>\n",
       "      <th>oldBalanceOrig</th>\n",
       "      <th>newBalanceOrig</th>\n",
       "      <th>nameDest</th>\n",
       "      <th>oldBalanceDest</th>\n",
       "      <th>newBalanceDest</th>\n",
       "      <th>isFraud</th>\n",
       "      <th>isFlaggedFraud</th>\n",
       "    </tr>\n",
       "  </thead>\n",
       "  <tbody>\n",
       "    <tr>\n",
       "      <th>0</th>\n",
       "      <td>1</td>\n",
       "      <td>PAYMENT</td>\n",
       "      <td>$9,839.64</td>\n",
       "      <td>C1231006815</td>\n",
       "      <td>$170,136.00</td>\n",
       "      <td>$160,296.36</td>\n",
       "      <td>M1979787155</td>\n",
       "      <td>$0.00</td>\n",
       "      <td>$0.00</td>\n",
       "      <td>0</td>\n",
       "      <td>0</td>\n",
       "    </tr>\n",
       "    <tr>\n",
       "      <th>1</th>\n",
       "      <td>1</td>\n",
       "      <td>PAYMENT</td>\n",
       "      <td>$1,864.28</td>\n",
       "      <td>C1666544295</td>\n",
       "      <td>$21,249.00</td>\n",
       "      <td>$19,384.72</td>\n",
       "      <td>M2044282225</td>\n",
       "      <td>$0.00</td>\n",
       "      <td>$0.00</td>\n",
       "      <td>0</td>\n",
       "      <td>0</td>\n",
       "    </tr>\n",
       "    <tr>\n",
       "      <th>2</th>\n",
       "      <td>1</td>\n",
       "      <td>TRANSFER</td>\n",
       "      <td>$181.00</td>\n",
       "      <td>C1305486145</td>\n",
       "      <td>$181.00</td>\n",
       "      <td>$0.00</td>\n",
       "      <td>C553264065</td>\n",
       "      <td>$0.00</td>\n",
       "      <td>$0.00</td>\n",
       "      <td>1</td>\n",
       "      <td>0</td>\n",
       "    </tr>\n",
       "    <tr>\n",
       "      <th>3</th>\n",
       "      <td>1</td>\n",
       "      <td>CASH_OUT</td>\n",
       "      <td>$181.00</td>\n",
       "      <td>C840083671</td>\n",
       "      <td>$181.00</td>\n",
       "      <td>$0.00</td>\n",
       "      <td>C38997010</td>\n",
       "      <td>$21,182.00</td>\n",
       "      <td>$0.00</td>\n",
       "      <td>1</td>\n",
       "      <td>0</td>\n",
       "    </tr>\n",
       "    <tr>\n",
       "      <th>4</th>\n",
       "      <td>1</td>\n",
       "      <td>PAYMENT</td>\n",
       "      <td>$11,668.14</td>\n",
       "      <td>C2048537720</td>\n",
       "      <td>$41,554.00</td>\n",
       "      <td>$29,885.86</td>\n",
       "      <td>M1230701703</td>\n",
       "      <td>$0.00</td>\n",
       "      <td>$0.00</td>\n",
       "      <td>0</td>\n",
       "      <td>0</td>\n",
       "    </tr>\n",
       "  </tbody>\n",
       "</table>\n",
       "</div>"
      ],
      "text/plain": [
       "   step      type      amount     nameOrig oldBalanceOrig newBalanceOrig  \\\n",
       "0     1   PAYMENT   $9,839.64  C1231006815    $170,136.00    $160,296.36   \n",
       "1     1   PAYMENT   $1,864.28  C1666544295     $21,249.00     $19,384.72   \n",
       "2     1  TRANSFER     $181.00  C1305486145        $181.00          $0.00   \n",
       "3     1  CASH_OUT     $181.00   C840083671        $181.00          $0.00   \n",
       "4     1   PAYMENT  $11,668.14  C2048537720     $41,554.00     $29,885.86   \n",
       "\n",
       "      nameDest oldBalanceDest newBalanceDest  isFraud  isFlaggedFraud  \n",
       "0  M1979787155          $0.00          $0.00        0               0  \n",
       "1  M2044282225          $0.00          $0.00        0               0  \n",
       "2   C553264065          $0.00          $0.00        1               0  \n",
       "3    C38997010     $21,182.00          $0.00        1               0  \n",
       "4  M1230701703          $0.00          $0.00        0               0  "
      ]
     },
     "execution_count": 24,
     "metadata": {},
     "output_type": "execute_result"
    }
   ],
   "source": [
    "paysim.head()"
   ]
  },
  {
   "cell_type": "markdown",
   "metadata": {},
   "source": [
    "[Apparently](predicting-fraud-in-financial-payment-services.ipynb#fraud-trans),\n",
    ">fraud is committed by first transferring out funds\n",
    "to another account which subsequently cashes it out"
   ]
  },
  {
   "cell_type": "code",
   "execution_count": 25,
   "metadata": {},
   "outputs": [
    {
     "name": "stdout",
     "output_type": "stream",
     "text": [
      "\n",
      " The types of fraudulent transactions are ['TRANSFER', 'CASH_OUT']\n",
      "\n",
      " The number of fraudulent TRANSFERs = 4097\n",
      "\n",
      " The number of fraudulent CASH_OUTs = 4116\n"
     ]
    }
   ],
   "source": [
    "print('\\n The types of fraudulent transactions are {}'.format(\\\n",
    "list(paysim.loc[paysim.isFraud == 1].type.drop_duplicates().values))) # only 'CASH_OUT' & 'TRANSFER'\n",
    "\n",
    "dfFraudTransfer = paysim.loc[(paysim.isFraud == 1) & (paysim.type == 'TRANSFER')]\n",
    "dfFraudCashout = paysim.loc[(paysim.isFraud == 1) & (paysim.type == 'CASH_OUT')]\n",
    "\n",
    "print ('\\n The number of fraudulent TRANSFERs = {}'.\\\n",
    "       format(len(dfFraudTransfer))) # 4097\n",
    "\n",
    "print ('\\n The number of fraudulent CASH_OUTs = {}'.\\\n",
    "       format(len(dfFraudCashout))) # 4116"
   ]
  },
  {
   "cell_type": "code",
   "execution_count": 29,
   "metadata": {},
   "outputs": [
    {
     "name": "stdout",
     "output_type": "stream",
     "text": [
      "\n",
      "The type of transactions in which isFlaggedFraud is set: ['TRANSFER']\n",
      "\n",
      "Min amount transacted when isFlaggedFraud is set= $1,343,002.08\n",
      "\n",
      "Max amount transacted in a TRANSFER where isFlaggedFraud is not set=$999,988.34\n"
     ]
    }
   ],
   "source": [
    "print('\\nThe type of transactions in which isFlaggedFraud is set: \\\n",
    "{}'.format(list(paysim.loc[paysim.isFlaggedFraud == 1].type.drop_duplicates()))) # only 'TRANSFER'\n",
    "\n",
    "dfTransfer = paysim.loc[paysim.type == 'TRANSFER']\n",
    "dfFlagged = paysim.loc[paysim.isFlaggedFraud == 1]\n",
    "dfNotFlagged = paysim.loc[paysim.isFlaggedFraud == 0]\n",
    "\n",
    "print(f'\\nMin amount transacted when isFlaggedFraud is set= {dfFlagged.amount.min()}') # 353874.22\n",
    "\n",
    "print(f'\\nMax amount transacted in a TRANSFER where isFlaggedFraud is not set=\\\n",
    "{dfTransfer.loc[dfTransfer.isFlaggedFraud == 0].amount.max()}') # 92445516.64"
   ]
  },
  {
   "cell_type": "code",
   "execution_count": 30,
   "metadata": {
    "collapsed": true,
    "jupyter": {
     "outputs_hidden": true
    }
   },
   "outputs": [
    {
     "name": "stderr",
     "output_type": "stream",
     "text": [
      "/User/.pythonlibs/lib/python3.6/site-packages/pandas/core/frame.py:4238: SettingWithCopyWarning: \n",
      "A value is trying to be set on a copy of a slice from a DataFrame\n",
      "\n",
      "See the caveats in the documentation: http://pandas.pydata.org/pandas-docs/stable/user_guide/indexing.html#returning-a-view-versus-a-copy\n",
      "  return super().rename(**kwargs)\n"
     ]
    }
   ],
   "source": [
    "dfTransfer.rename(columns={'oldbalanceOrg':'oldBalanceOrig', 'newbalanceOrig':'newBalanceOrig', \\\n",
    "               'oldbalanceDest':'oldBalanceDest', 'newbalanceDest':'newBalanceDest'},\n",
    "              inplace=True)"
   ]
  },
  {
   "cell_type": "code",
   "execution_count": 31,
   "metadata": {},
   "outputs": [
    {
     "name": "stdout",
     "output_type": "stream",
     "text": [
      "\n",
      "The number of TRANSFERs where isFlaggedFraud = 0, yet oldBalanceDest = 0 and newBalanceDest = 0: 0\n"
     ]
    }
   ],
   "source": [
    "print('\\nThe number of TRANSFERs where isFlaggedFraud = 0, yet oldBalanceDest = 0 and\\\n",
    " newBalanceDest = 0: {}'.\\\n",
    "format(len(dfTransfer.loc[(dfTransfer.isFlaggedFraud == 0) & \\\n",
    "(dfTransfer.oldBalanceDest == 0) & (dfTransfer.newBalanceDest == 0)]))) # 4158"
   ]
  },
  {
   "cell_type": "code",
   "execution_count": 34,
   "metadata": {
    "_cell_guid": "bcd12ad3-206d-4705-92c9-c6fd2afe8233",
    "_uuid": "a1ecf24b9ab510ea8f0d52db863a01fe8baf5c41"
   },
   "outputs": [
    {
     "name": "stdout",
     "output_type": "stream",
     "text": [
      "\n",
      "Min, Max of oldBalanceOrig for isFlaggedFraud = 1 TRANSFERs: ['$1,343,002.08', '$536,624.41']\n",
      "\n",
      "Min, Max of oldBalanceOrig for isFlaggedFraud = 0 TRANSFERs where oldBalanceOrig = newBalanceOrig: ['$0.00', '$575,667.54']\n"
     ]
    }
   ],
   "source": [
    "print('\\nMin, Max of oldBalanceOrig for isFlaggedFraud = 1 TRANSFERs: {}'.\\\n",
    "format([dfFlagged.oldBalanceOrig.min(), dfFlagged.oldBalanceOrig.max()]))\n",
    "\n",
    "print('\\nMin, Max of oldBalanceOrig for isFlaggedFraud = 0 TRANSFERs where \\\n",
    "oldBalanceOrig = \\\n",
    "newBalanceOrig: {}'.format(\\\n",
    "[dfTransfer.loc[(dfTransfer.isFlaggedFraud == 0) & (dfTransfer.oldBalanceOrig \\\n",
    "== dfTransfer.newBalanceOrig)].oldBalanceOrig.min(), \\\n",
    "dfTransfer.loc[(dfTransfer.isFlaggedFraud == 0) & (dfTransfer.oldBalanceOrig \\\n",
    "               == dfTransfer.newBalanceOrig)].oldBalanceOrig.max()]))"
   ]
  },
  {
   "cell_type": "code",
   "execution_count": 35,
   "metadata": {
    "_cell_guid": "b6d950f3-6c4e-443b-8096-0106a02929f8",
    "_uuid": "0202615ffa8bfee7af1c9cc8b13c54a936cf7df8"
   },
   "outputs": [
    {
     "name": "stdout",
     "output_type": "stream",
     "text": [
      "\n",
      "Have originators of transactions flagged as fraud transacted more than once? False\n",
      "\n",
      "Have destinations for transactions flagged as fraud initiated other transactions? False\n",
      "\n",
      "How many destination accounts of transactions flagged as fraud have been destination accounts more than once?: 2\n"
     ]
    }
   ],
   "source": [
    "print('\\nHave originators of transactions flagged as fraud transacted more than \\\n",
    "once? {}'\\\n",
    ".format((dfFlagged.nameOrig.isin(pd.concat([dfNotFlagged.nameOrig, \\\n",
    "                                    dfNotFlagged.nameDest]))).any())) # False\n",
    "\n",
    "print('\\nHave destinations for transactions flagged as fraud initiated\\\n",
    " other transactions? \\\n",
    "{}'.format((dfFlagged.nameDest.isin(dfNotFlagged.nameOrig)).any())) # False\n",
    "\n",
    "# Since only 2 destination accounts of 16 that have 'isFlaggedFraud' set have been\n",
    "# destination accounts more than once,\n",
    "# clearly 'isFlaggedFraud' being set is independent of whether a \n",
    "# destination account has been used before or not\n",
    "\n",
    "print('\\nHow many destination accounts of transactions flagged as fraud have been \\\n",
    "destination accounts more than once?: {}'\\\n",
    ".format(sum(dfFlagged.nameDest.isin(dfNotFlagged.nameDest)))) # 2"
   ]
  },
  {
   "cell_type": "code",
   "execution_count": 36,
   "metadata": {
    "_cell_guid": "16426d05-83d1-4ca0-a7c0-e65d0f63d640",
    "_uuid": "57f3a4f8b1a96a3904b190e75119869ecba9f441"
   },
   "outputs": [
    {
     "name": "stdout",
     "output_type": "stream",
     "text": [
      "\n",
      "Are there any merchants among originator accounts for CASH_IN transactions? False\n"
     ]
    }
   ],
   "source": [
    "print('\\nAre there any merchants among originator accounts for CASH_IN \\\n",
    "transactions? {}'.format(\\\n",
    "(paysim.loc[paysim.type == 'CASH_IN'].nameOrig.str.contains('M')).any())) # False"
   ]
  },
  {
   "cell_type": "code",
   "execution_count": 37,
   "metadata": {
    "_cell_guid": "1e8005fc-f470-4146-811a-53bf144bbebe",
    "_uuid": "a3fee89c25edcf20f1cac787c8c4a5c0804fb5d4"
   },
   "outputs": [
    {
     "name": "stdout",
     "output_type": "stream",
     "text": [
      "\n",
      "Are there any merchants among destination accounts for CASH_OUT transactions? False\n"
     ]
    }
   ],
   "source": [
    "print('\\nAre there any merchants among destination accounts for CASH_OUT \\\n",
    "transactions? {}'.format(\\\n",
    "(paysim.loc[paysim.type == 'CASH_OUT'].nameDest.str.contains('M')).any())) # False"
   ]
  },
  {
   "cell_type": "code",
   "execution_count": 38,
   "metadata": {
    "_cell_guid": "198925f6-559c-45f0-8ecf-386b80bc98c7",
    "_uuid": "0b933060f76aafc9cdf5c9a83f25b4ccd6503f13"
   },
   "outputs": [
    {
     "name": "stdout",
     "output_type": "stream",
     "text": [
      "\n",
      "Are there merchants among any originator accounts? False\n",
      "\n",
      "Are there any transactions having merchants among destination accounts other than the PAYMENT type? False\n"
     ]
    }
   ],
   "source": [
    "print('\\nAre there merchants among any originator accounts? {}'.format(\\\n",
    "      paysim.nameOrig.str.contains('M').any())) # False\n",
    "\n",
    "print('\\nAre there any transactions having merchants among destination accounts\\\n",
    " other than the PAYMENT type? {}'.format(\\\n",
    "(paysim.loc[paysim.nameDest.str.contains('M')].type != 'PAYMENT').any())) # False"
   ]
  },
  {
   "cell_type": "code",
   "execution_count": 39,
   "metadata": {
    "_cell_guid": "ba9c708c-2f0a-4598-9563-7abaf50120f9",
    "_uuid": "8598fa5d577c02ff00638da238a59663d8259a7d"
   },
   "outputs": [
    {
     "name": "stdout",
     "output_type": "stream",
     "text": [
      "\n",
      "Within fraudulent transactions, are there destinations for TRANSFERS that are also originators for CASH_OUTs? False\n"
     ]
    }
   ],
   "source": [
    "print('\\nWithin fraudulent transactions, are there destinations for TRANSFERS \\\n",
    "that are also originators for CASH_OUTs? {}'.format(\\\n",
    "(dfFraudTransfer.nameDest.isin(dfFraudCashout.nameOrig)).any())) # False\n",
    "dfNotFraud = paysim.loc[paysim.isFraud == 0]"
   ]
  },
  {
   "cell_type": "code",
   "execution_count": 40,
   "metadata": {
    "_cell_guid": "58d72273-5415-4391-9d01-c7e9cc09c2c9",
    "_uuid": "61386b6444d1dde29c2ba77944806fb08e146a1d"
   },
   "outputs": [
    {
     "name": "stdout",
     "output_type": "stream",
     "text": [
      "\n",
      "Fraudulent TRANSFERs whose destination accounts are originators of genuine CASH_OUTs: \n",
      "\n",
      "         step      type         amount     nameOrig oldBalanceOrig  \\\n",
      "1030443    65  TRANSFER  $1,282,971.57  C1175896731  $1,282,971.57   \n",
      "6039814   486  TRANSFER    $214,793.32  C2140495649    $214,793.32   \n",
      "6362556   738  TRANSFER    $814,689.88  C2029041842    $814,689.88   \n",
      "\n",
      "        newBalanceOrig     nameDest oldBalanceDest newBalanceDest  isFraud  \\\n",
      "1030443          $0.00  C1714931087          $0.00          $0.00        1   \n",
      "6039814          $0.00   C423543548          $0.00          $0.00        1   \n",
      "6362556          $0.00  C1023330867          $0.00          $0.00        1   \n",
      "\n",
      "         isFlaggedFraud  \n",
      "1030443               0  \n",
      "6039814               0  \n",
      "6362556               0  \n"
     ]
    }
   ],
   "source": [
    "print('\\nFraudulent TRANSFERs whose destination accounts are originators of \\\n",
    "genuine CASH_OUTs: \\n\\n{}'.format(dfFraudTransfer.loc[dfFraudTransfer.nameDest.\\\n",
    "isin(dfNotFraud.loc[dfNotFraud.type == 'CASH_OUT'].nameOrig.drop_duplicates())]))"
   ]
  },
  {
   "cell_type": "code",
   "execution_count": 41,
   "metadata": {
    "_cell_guid": "f3ad49db-c8af-4145-96a6-8f05fd94b377",
    "_uuid": "1f0e7510db0998f2bec79069eedd4757466d41f2"
   },
   "outputs": [
    {
     "name": "stdout",
     "output_type": "stream",
     "text": [
      "\n",
      "Fraudulent TRANSFER to C423543548 occured at step = 486 whereas genuine CASH_OUT from this account occured earlier at step = [185]\n"
     ]
    }
   ],
   "source": [
    "print('\\nFraudulent TRANSFER to C423543548 occured at step = 486 whereas \\\n",
    "genuine CASH_OUT from this account occured earlier at step = {}'.format(\\\n",
    "dfNotFraud.loc[(dfNotFraud.type == 'CASH_OUT') & (dfNotFraud.nameOrig == \\\n",
    "                           'C423543548')].step.values)) # 185"
   ]
  },
  {
   "cell_type": "code",
   "execution_count": null,
   "metadata": {},
   "outputs": [],
   "source": []
  }
 ],
 "metadata": {
  "kernelspec": {
   "display_name": "Python 3",
   "language": "python",
   "name": "python3"
  },
  "language_info": {
   "codemirror_mode": {
    "name": "ipython",
    "version": 3
   },
   "file_extension": ".py",
   "mimetype": "text/x-python",
   "name": "python",
   "nbconvert_exporter": "python",
   "pygments_lexer": "ipython3",
   "version": "3.6.8"
  }
 },
 "nbformat": 4,
 "nbformat_minor": 4
}
