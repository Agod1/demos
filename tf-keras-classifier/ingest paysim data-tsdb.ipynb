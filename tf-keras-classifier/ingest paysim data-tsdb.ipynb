{
 "cells": [
  {
   "cell_type": "markdown",
   "metadata": {},
   "source": [
    "# Paysim"
   ]
  },
  {
   "cell_type": "markdown",
   "metadata": {},
   "source": [
    "From Kaggle\"s site **[Synthetic Financial Datasets For Fraud Detection](https://www.kaggle.com/ntnu-testimon/paysim1)**\n",
    "\n",
    ">PaySim simulates mobile money transactions based on a sample of real transactions extracted from one month of financial logs from a mobile money service implemented in an African country. The original logs were provided by a multinational company, who is the provider of the mobile financial service which is currently running in more than 14 countries all around the world.\n",
    "\n",
    ">This synthetic dataset is scaled down 1/4 of the original dataset and it is created just for Kaggle.\n",
    "\n",
    "The following notebook rewrites the original using the ```mlrun``` package. At the end of this demonstration we will have a fraud report covering any period within the last 30 days, and a deployed fraud detection service."
   ]
  },
  {
   "cell_type": "markdown",
   "metadata": {},
   "source": [
    "## Data Description"
   ]
  },
  {
   "cell_type": "markdown",
   "metadata": {},
   "source": [
    "**This is a sample of 1 row with headers explanation:**\n",
    "\n",
    "1,PAYMENT,1060.31,C429214117,1089.0,28.69,M1591654462,0.0,0.0,0,0\n",
    "\n",
    "**step** - maps a unit of time in the real world. In this case 1 step is 1 hour of time. Total steps 744 (30 days simulation).\n",
    "\n",
    "**type** - CASH-IN, CASH-OUT, DEBIT, PAYMENT and TRANSFER.\n",
    "\n",
    "**amount** - amount of the transaction in local currency.\n",
    "\n",
    "**nameOrig** - customer who started the transaction\n",
    "\n",
    "**oldbalanceOrg** - initial balance before the transaction\n",
    "\n",
    "**newbalanceOrig** - new balance after the transaction\n",
    "\n",
    "**nameDest** - customer who is the recipient of the transaction\n",
    "\n",
    "**oldbalanceDest** - initial balance recipient before the transaction. Note that there is not information for customers that start with M (Merchants).\n",
    "\n",
    "**newbalanceDest** - new balance recipient after the transaction. Note that there is not information for customers that start with M (Merchants).\n",
    "\n",
    "**isFraud** - This is the transactions made by the fraudulent agents inside the simulation. In this specific dataset the fraudulent behavior of the agents aims to profit by taking control or customers accounts and try to empty the funds by transferring to another account and then cashing out of the system.\n",
    "\n",
    "**isFlaggedFraud** - The business model aims to control massive transfers from one account to another and flags illegal attempts. An illegal attempt in this dataset is an attempt to transfer more than 200.000 in a single transaction."
   ]
  },
  {
   "cell_type": "code",
   "execution_count": 1,
   "metadata": {},
   "outputs": [],
   "source": [
    "from os import path, makedirs, getenv\n",
    "import time\n",
    "\n",
    "import pandas as pd\n",
    "import numpy as np\n",
    "import v3io_frames as v3f\n",
    "\n",
    "import pyarrow.parquet as pq\n",
    "import pyarrow as pa\n",
    "\n",
    "%matplotlib inline\n",
    "import matplotlib.pyplot as plt\n",
    "import matplotlib.lines as mlines\n",
    "from mpl_toolkits.mplot3d import Axes3D\n",
    "import seaborn as sns"
   ]
  },
  {
   "cell_type": "markdown",
   "metadata": {},
   "source": [
    "### timing a tsdb read and write"
   ]
  },
  {
   "cell_type": "code",
   "execution_count": 2,
   "metadata": {},
   "outputs": [],
   "source": [
    "# %%time\n",
    "# paysim = pd.read_csv(path.join(target_path, \"PS_20174392719_1491204439457_log.csv.zip\"))"
   ]
  },
  {
   "cell_type": "markdown",
   "metadata": {},
   "source": [
    "#### Creating a time index\n",
    "\n",
    "The raw data only contains a ```step``` variable, which represents a time period of 1 hour.  There are 742 unique steps in the data, which is approximately 1 month.  Here we will translate (map) the step values into a ```DateTime ```s:"
   ]
  },
  {
   "cell_type": "code",
   "execution_count": 3,
   "metadata": {},
   "outputs": [],
   "source": [
    "import v3io_frames as v3f\n",
    "client = v3f.Client(\"framesd:8081\", container=\"users\")\n",
    "\n",
    "# Relative path to the TSDB table within the parent platform data container\n",
    "tsdb_table = path.join(getenv(\"V3IO_USERNAME\") + \"/projects/paysim/tsdb_tbl\")"
   ]
  },
  {
   "cell_type": "code",
   "execution_count": 4,
   "metadata": {},
   "outputs": [],
   "source": [
    "if path.isdir(tsdb_table):\n",
    "    print(\"found existing table, deleting\")\n",
    "    # takes too long... just delete folder\n",
    "    client.delete(\"tsdb\", tsdb_table)\n",
    "\n",
    "client.create(backend=\"tsdb\", table=tsdb_table, attrs={\"rate\": \"1/s\"})"
   ]
  },
  {
   "cell_type": "code",
   "execution_count": 5,
   "metadata": {},
   "outputs": [],
   "source": [
    "# create a time sequence of the required length, there are <744 periods in the\n",
    "# raw data\n",
    "df = pd.DataFrame(\n",
    "        {\"hours\": pd.date_range(\"2019-01-01\", freq=\"1H\", periods=744)})\n",
    "\n",
    "# Create the mappings ```dict``` where each unique step is mapped to a start time\n",
    "time_mappings = {}\n",
    "for a,b in zip(range(744), df.hours):\n",
    "    time_mappings[a] = b"
   ]
  },
  {
   "cell_type": "code",
   "execution_count": null,
   "metadata": {},
   "outputs": [],
   "source": [
    "%%time\n",
    "\n",
    "reader = pd.read_csv(\n",
    "    path.join('/User/projects/paysim/data', \"PS_20174392719_1491204439457_log.csv.zip\"),\n",
    "    chunksize=1_000)\n",
    "\n",
    "timeproc = []\n",
    "for (i, chunk) in enumerate(reader):\n",
    "    start = time.time()\n",
    "    chunk.step = chunk.step.map(time_mappings)\n",
    "    chunk.rename(columns={\"step\":\"time\"}, inplace=True)\n",
    "    chunk.set_index([\"time\"], inplace=True)\n",
    "    client.write(backend=\"tsdb\", table=tsdb_table, dfs=chunk)\n",
    "    tm = time.time()-start\n",
    "    timeproc.append(int(tm))"
   ]
  },
  {
   "cell_type": "code",
   "execution_count": null,
   "metadata": {},
   "outputs": [],
   "source": [
    "# display ingestion rates for blocks using grafana"
   ]
  },
  {
   "cell_type": "code",
   "execution_count": null,
   "metadata": {},
   "outputs": [],
   "source": []
  }
 ],
 "metadata": {
  "kernelspec": {
   "display_name": "Python 3",
   "language": "python",
   "name": "python3"
  },
  "language_info": {
   "codemirror_mode": {
    "name": "ipython",
    "version": 3
   },
   "file_extension": ".py",
   "mimetype": "text/x-python",
   "name": "python",
   "nbconvert_exporter": "python",
   "pygments_lexer": "ipython3",
   "version": "3.6.8"
  }
 },
 "nbformat": 4,
 "nbformat_minor": 4
}
