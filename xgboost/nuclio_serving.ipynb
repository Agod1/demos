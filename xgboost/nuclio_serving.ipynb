{
 "cells": [
  {
   "cell_type": "code",
   "execution_count": 1,
   "metadata": {},
   "outputs": [],
   "source": [
    "# nuclio: ignore\n",
    "# if the nuclio-jupyter package is not installed run !pip install nuclio-jupyter\n",
    "import nuclio "
   ]
  },
  {
   "cell_type": "code",
   "execution_count": null,
   "metadata": {},
   "outputs": [],
   "source": [
    "%%nuclio cmd\n",
    "pip install kfserving==0.2.0 --upgrade\n",
    "pip install azure\n",
    "pip install numpy\n",
    "pip install xgboost"
   ]
  },
  {
   "cell_type": "code",
   "execution_count": 6,
   "metadata": {},
   "outputs": [],
   "source": [
    "import kfserving\n",
    "import os\n",
    "import numpy as np\n",
    "from typing import List, Any\n",
    "\n",
    "import xgboost as xgb"
   ]
  },
  {
   "cell_type": "code",
   "execution_count": 7,
   "metadata": {},
   "outputs": [],
   "source": [
    "BOOSTER_FILE = \"model.bst\"\n",
    "\n",
    "class XGBoostModel(kfserving.KFModel):\n",
    "    def __init__(self, name: str, model_dir: str, booster: xgb.XGBModel = None):\n",
    "        super().__init__(name)\n",
    "        self.name = name\n",
    "        self.model_dir = model_dir\n",
    "        if not booster is None:\n",
    "            self._booster = booster\n",
    "            self.ready = True\n",
    "\n",
    "    def load(self):\n",
    "        model_file = os.path.join(\n",
    "            kfserving.Storage.download(self.model_dir), BOOSTER_FILE)\n",
    "        self._booster = xgb.Booster(model_file=model_file)\n",
    "        self.ready = True\n",
    "\n",
    "    def predict(self, body: List) -> List:\n",
    "        try:\n",
    "            # Use of list as input is deprecated see https://github.com/dmlc/xgboost/pull/3970\n",
    "            dmatrix = xgb.DMatrix(body)\n",
    "            result: xgb.DMatrix = self._booster.predict(dmatrix)\n",
    "            return result.tolist()\n",
    "        except Exception as e:\n",
    "            raise Exception(\"Failed to predict %s\" % e)\n"
   ]
  },
  {
   "cell_type": "code",
   "execution_count": 8,
   "metadata": {},
   "outputs": [],
   "source": [
    "# nuclio: end-code\n",
    "from mlrun import new_model_server\n",
    "import requests"
   ]
  },
  {
   "cell_type": "code",
   "execution_count": 13,
   "metadata": {},
   "outputs": [
    {
     "data": {
      "text/plain": [
       "<mlrun.runtimes.function.RemoteRuntime at 0x7f0d42e761d0>"
      ]
     },
     "execution_count": 13,
     "metadata": {},
     "output_type": "execute_result"
    }
   ],
   "source": [
    "fn = new_model_server('iris-srv', models={'iris_v1': '/User/mlrun'}, model_class='XGBoostModel')\n",
    "fn.with_v3io('User','~/') "
   ]
  },
  {
   "cell_type": "code",
   "execution_count": null,
   "metadata": {},
   "outputs": [],
   "source": [
    "addr = fn.deploy(project='iris')"
   ]
  },
  {
   "cell_type": "code",
   "execution_count": 16,
   "metadata": {},
   "outputs": [],
   "source": [
    "# Seldon protocol event\n",
    "event_seldon = {\"data\": {\"ndarray\": [[5], [10]]}}\n",
    "csel = str(event_seldon).replace(\"\\'\", \"\\\"\")"
   ]
  },
  {
   "cell_type": "code",
   "execution_count": 17,
   "metadata": {},
   "outputs": [
    {
     "name": "stdout",
     "output_type": "stream",
     "text": [
      "b'{\"data\": {\"ndarray\": [[0.9523019790649414, 0.007880364544689655, 0.007672834675759077, 0.00459211366251111, 0.00459211366251111, 0.00459211366251111, 0.00459211366251111, 0.00459211366251111, 0.00459211366251111, 0.00459211366251111], [0.9494358897209167, 0.011671468615531921, 0.006844568531960249, 0.004578292835503817, 0.004578292835503817, 0.004578292835503817, 0.004578292835503817, 0.004578292835503817, 0.004578292835503817, 0.004578292835503817]]}}'\n"
     ]
    }
   ],
   "source": [
    "resp = requests.put(addr + '/predict/iris_v1', data=csel)\n",
    "print(resp.content)"
   ]
  },
  {
   "cell_type": "code",
   "execution_count": null,
   "metadata": {},
   "outputs": [],
   "source": []
  }
 ],
 "metadata": {
  "kernelspec": {
   "display_name": "Python 3",
   "language": "python",
   "name": "python3"
  },
  "language_info": {
   "codemirror_mode": {
    "name": "ipython",
    "version": 3
   },
   "file_extension": ".py",
   "mimetype": "text/x-python",
   "name": "python",
   "nbconvert_exporter": "python",
   "pygments_lexer": "ipython3",
   "version": "3.6.8"
  }
 },
 "nbformat": 4,
 "nbformat_minor": 4
}
