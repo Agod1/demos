{
 "cells": [
  {
   "cell_type": "markdown",
   "metadata": {},
   "source": [
    "# Retrieve HIGGS UCI dataset\n",
    "\n",
    "Run the function ```load_higgs()``` to download the raw data from the \n",
    "**[Machine Learning Repository](https://archive.ics.uci.edu/ml/datasets/HIGGS)**\n",
    "into the sub-directory ```datapath```.  \n",
    "\n",
    "The column headers can be found on the site, and no further description is provided."
   ]
  },
  {
   "cell_type": "code",
   "execution_count": 32,
   "metadata": {},
   "outputs": [],
   "source": [
    "from os import path, makedirs\n",
    "from urllib.request import urlretrieve"
   ]
  },
  {
   "cell_type": "markdown",
   "metadata": {},
   "source": [
    "### Acquire data"
   ]
  },
  {
   "cell_type": "code",
   "execution_count": 47,
   "metadata": {},
   "outputs": [],
   "source": [
    "def load_higgs(url, destfile='HIGGS.csv.gz', datapath='data'):\n",
    "    \"\"\"Download the HIGGS dataset.\n",
    "    \n",
    "    Args:\n",
    "        url (str) : The UCI repository location for the HIGGS file.\n",
    "        destfile  : The local file name.\n",
    "        datapath  : Our data repository for this project.\n",
    "    \"\"\"\n",
    "    if not path.isdir(datapath):\n",
    "        makedirs(datapath)\n",
    "    fn = f'{datapath}/{destfile}'\n",
    "    if not path.isfile(fn):\n",
    "        try:\n",
    "            urlretrieve(url, fn)\n",
    "        except Exception as e:\n",
    "            print(f'failure to retrieve data {e}')"
   ]
  },
  {
   "cell_type": "code",
   "execution_count": 48,
   "metadata": {},
   "outputs": [],
   "source": [
    "url = 'https://archive.ics.uci.edu/ml/machine-learning-databases/00280/HIGGS.csv.gz'     # Machine Learning Repository url."
   ]
  },
  {
   "cell_type": "code",
   "execution_count": 29,
   "metadata": {},
   "outputs": [],
   "source": [
    "load_higgs(url)"
   ]
  },
  {
   "cell_type": "code",
   "execution_count": null,
   "metadata": {},
   "outputs": [],
   "source": []
  }
 ],
 "metadata": {
  "kernelspec": {
   "display_name": "Python 3",
   "language": "python",
   "name": "python3"
  },
  "language_info": {
   "codemirror_mode": {
    "name": "ipython",
    "version": 3
   },
   "file_extension": ".py",
   "mimetype": "text/x-python",
   "name": "python",
   "nbconvert_exporter": "python",
   "pygments_lexer": "ipython3",
   "version": "3.6.8"
  }
 },
 "nbformat": 4,
 "nbformat_minor": 4
}
