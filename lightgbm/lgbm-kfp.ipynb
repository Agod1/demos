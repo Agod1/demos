{
 "cells": [
  {
   "cell_type": "markdown",
   "metadata": {},
   "source": [
    "# serverless lightgbm"
   ]
  },
  {
   "cell_type": "code",
   "execution_count": 1,
   "metadata": {},
   "outputs": [],
   "source": [
    "ARCHIVE_URL = \"https://archive.ics.uci.edu/ml/machine-learning-databases/00280/HIGGS.csv.gz\"\n",
    "FILE_NAME = 'higgs.parquet'\n",
    "CHUNK_SIZE = 10_000\n",
    "TARGET_PATH = '/User/mlrun/models/'\n",
    "MODEL_NAME = 'lgb-classifier.pkl'"
   ]
  },
  {
   "cell_type": "code",
   "execution_count": 2,
   "metadata": {},
   "outputs": [],
   "source": [
    "HIGGS_HEADER = ['labels', 'lepton_pT', 'lepton_eta', 'lepton_phi', 'missing_energy_magnitude', 'missing_energy_phi',\n",
    " 'jet_1_pt', 'jet_1_eta', 'jet_1_phi', 'jet_1_b-tag', 'jet_2_pt', 'jet_2_eta', 'jet_2_phi', 'jet_2_b-tag', 'jet_3_pt',\n",
    " 'jet_3_eta', 'jet_3_phi', 'jet_3_b-tag', 'jet_4_pt', 'jet_4_eta', 'jet_4_phi', 'jet_4_b-tag', 'm_jj', 'm_jjj', 'm_lv',\n",
    " 'm_jlv', 'm_bb', 'm_wbb', 'm_wwbb']"
   ]
  },
  {
   "cell_type": "code",
   "execution_count": 7,
   "metadata": {},
   "outputs": [],
   "source": [
    "import mlrun\n",
    "mlrun.mlconf.dbpath = 'http://mlrun-api:8080'"
   ]
  },
  {
   "cell_type": "code",
   "execution_count": 8,
   "metadata": {},
   "outputs": [
    {
     "name": "stdout",
     "output_type": "stream",
     "text": [
      "[mlrun] 2020-01-26 01:19:01,850 starting remote build, image: .mlrun/func-default-arc-to-parquet-latest\n"
     ]
    },
    {
     "data": {
      "text/plain": [
       "True"
      ]
     },
     "execution_count": 8,
     "metadata": {},
     "output_type": "execute_result"
    }
   ],
   "source": [
    "acquire_job = mlrun.import_function('/User/repos/functions/fileutils/arc_to_parquet/arc_to_parquet.yaml').apply(mlrun.mount_v3io())\n",
    "acquire_job.deploy(skip_deployed=True, with_mlrun=False)"
   ]
  },
  {
   "cell_type": "code",
   "execution_count": 10,
   "metadata": {},
   "outputs": [
    {
     "data": {
      "text/plain": [
       "'ready'"
      ]
     },
     "execution_count": 10,
     "metadata": {},
     "output_type": "execute_result"
    }
   ],
   "source": [
    "split_job = mlrun.import_function('/User/repos/functions/datagen/splitters/train_valid_test.yaml').apply(mlrun.mount_v3io())\n",
    "split_job.deploy(skip_deployed=True, with_mlrun=False)"
   ]
  },
  {
   "cell_type": "code",
   "execution_count": 11,
   "metadata": {},
   "outputs": [
    {
     "name": "stdout",
     "output_type": "stream",
     "text": [
      "[mlrun] 2020-01-26 01:19:13,467 starting remote build, image: .mlrun/func-default-sklearn-classifier-latest\n"
     ]
    },
    {
     "data": {
      "text/plain": [
       "True"
      ]
     },
     "execution_count": 11,
     "metadata": {},
     "output_type": "execute_result"
    }
   ],
   "source": [
    "train_job = mlrun.import_function('/User/repos/functions/train/sklearn-classifier.yaml').apply(mlrun.mount_v3io())\n",
    "train_job.deploy(skip_deployed=True, with_mlrun=False)"
   ]
  },
  {
   "cell_type": "code",
   "execution_count": 12,
   "metadata": {},
   "outputs": [
    {
     "data": {
      "text/plain": [
       "'ready'"
      ]
     },
     "execution_count": 12,
     "metadata": {},
     "output_type": "execute_result"
    }
   ],
   "source": [
    "test_job = mlrun.import_function('/User/repos/functions/evaluation/test-classifier.yaml').apply(mlrun.mount_v3io())\n",
    "test_job.deploy(skip_deployed=True, with_mlrun=False)"
   ]
  },
  {
   "cell_type": "markdown",
   "metadata": {},
   "source": [
    "<a id=\"pipeline\"></a>\n",
    "### create a kubeflow pipeline  INCOMPLETE"
   ]
  },
  {
   "cell_type": "code",
   "execution_count": 13,
   "metadata": {},
   "outputs": [],
   "source": [
    "import kfp\n",
    "from kfp import dsl"
   ]
  },
  {
   "cell_type": "code",
   "execution_count": 14,
   "metadata": {},
   "outputs": [
    {
     "data": {
      "text/plain": [
       "<mlrun.runtimes.function.RemoteRuntime at 0x7f73f582c550>"
      ]
     },
     "execution_count": 14,
     "metadata": {},
     "output_type": "execute_result"
    }
   ],
   "source": [
    "srvfn = mlrun.new_model_server(\n",
    "    'classifier', \n",
    "    model_class='ClassifierModel', \n",
    "    filename='/User/repos/functions/serving/classifier_server.ipynb')\n",
    "\n",
    "srvfn.apply(mlrun.mount_v3io())"
   ]
  },
  {
   "cell_type": "code",
   "execution_count": null,
   "metadata": {},
   "outputs": [],
   "source": [
    "@dsl.pipeline(name='LGBM', description='lightgbm classifier')\n",
    "def lgbm_pipeline(learning_rate = [0.1, 0.3], num_leaves = [31, 32]):\n",
    "    acquire_step = acquire_job.as_step(\n",
    "            name='acquire_remote_data',\n",
    "            handler='arc_to_parquet',\n",
    "            params={\n",
    "                'archive_url': ARCHIVE_URL,\n",
    "                'header':      HIGGS_HEADER,\n",
    "                'name':        FILE_NAME,\n",
    "                'target_path': TARGET_PATH},\n",
    "            outputs=['header'], \n",
    "            out_path=TARGET_PATH).apply(mlrun.mount_v3io())\n",
    "    \n",
    "    train_step = train_job.as_step(\n",
    "            name='train_model', \n",
    "            handler='train',\n",
    "            inputs={'header' : acquire_step.outputs['header']},\n",
    "            params={\n",
    "                'src_file':         FILE_NAME,\n",
    "                'header':           '/User/mlrun/models/header.pkl',\n",
    "                'model_logger':     \n",
    "                'sample':           20000,\n",
    "                'test_size':        0.1,\n",
    "                'train_val_split':  0.75,\n",
    "                'target_path':      TARGET_PATH,\n",
    "                'name':             MODEL_NAME,\n",
    "                'key' :             'model',\n",
    "                'verbose':          False},\n",
    "            outputs=['model'],\n",
    "            out_path= TARGET_PATH).apply(mlrun.mount_v3io())\n",
    "\n",
    "    srvfn.deploy_step(\n",
    "        project='default', \n",
    "        models={'classifier_gen': train_step.outputs['model']})"
   ]
  },
  {
   "cell_type": "markdown",
   "metadata": {},
   "source": [
    "<a id=\"compile the pipeline\"></a>\n",
    "### compile the pipeline\n",
    "\n",
    "We can compile our KubeFlow pipeline and produce a yaml description of the pipeline worflow:"
   ]
  },
  {
   "cell_type": "code",
   "execution_count": null,
   "metadata": {},
   "outputs": [],
   "source": [
    "kfp.compiler.Compiler().compile(lgbm_pipeline, TARGET_PATH + '/mlrunpipe.yaml')"
   ]
  },
  {
   "cell_type": "code",
   "execution_count": null,
   "metadata": {},
   "outputs": [],
   "source": [
    "client = kfp.Client(namespace='default-tenant')"
   ]
  },
  {
   "cell_type": "markdown",
   "metadata": {},
   "source": [
    "Finally, the following line will run the pipeline as a job::"
   ]
  },
  {
   "cell_type": "code",
   "execution_count": null,
   "metadata": {},
   "outputs": [],
   "source": [
    "arguments = {}\n",
    "\n",
    "run_result = client.create_run_from_pipeline_func(\n",
    "    lgbm_pipeline, \n",
    "    arguments, \n",
    "    run_name='my classifier run',\n",
    "    experiment_name='classifier')"
   ]
  },
  {
   "cell_type": "code",
   "execution_count": null,
   "metadata": {},
   "outputs": [],
   "source": []
  }
 ],
 "metadata": {
  "celltoolbar": "Edit Metadata",
  "kernelspec": {
   "display_name": "Python 3",
   "language": "python",
   "name": "python3"
  },
  "language_info": {
   "codemirror_mode": {
    "name": "ipython",
    "version": 3
   },
   "file_extension": ".py",
   "mimetype": "text/x-python",
   "name": "python",
   "nbconvert_exporter": "python",
   "pygments_lexer": "ipython3",
   "version": "3.6.8"
  }
 },
 "nbformat": 4,
 "nbformat_minor": 4
}
