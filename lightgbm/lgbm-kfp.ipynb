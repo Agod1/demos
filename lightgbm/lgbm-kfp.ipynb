{
 "cells": [
  {
   "cell_type": "markdown",
   "metadata": {},
   "source": [
    "# serverless lightgbm"
   ]
  },
  {
   "cell_type": "code",
   "execution_count": null,
   "metadata": {},
   "outputs": [],
   "source": [
    "CODE_BASE   = '/User/repos/functions/'\n",
    "TARGET_PATH = '/User/mlrun/models'\n",
    "\n",
    "# acquire params\n",
    "ARCHIVE_URL = \"https://archive.ics.uci.edu/ml/machine-learning-databases/00280/HIGGS.csv.gz\"\n",
    "FILE_NAME = 'higgs.pqt'\n",
    "FILE_PATH = TARGET_PATH + '/' + FILE_NAME\n",
    "RAW_FILE_KEY = 'raw'\n",
    "CHUNK_SIZE = 10_000\n",
    "HEADER = ['labels', 'lepton_pT', 'lepton_eta', 'lepton_phi', 'missing_energy_magnitude', 'missing_energy_phi',\n",
    " 'jet_1_pt', 'jet_1_eta', 'jet_1_phi', 'jet_1_b-tag', 'jet_2_pt', 'jet_2_eta', 'jet_2_phi', 'jet_2_b-tag', 'jet_3_pt',\n",
    " 'jet_3_eta', 'jet_3_phi', 'jet_3_b-tag', 'jet_4_pt', 'jet_4_eta', 'jet_4_phi', 'jet_4_b-tag', 'm_jj', 'm_jjj', 'm_lv',\n",
    " 'm_jlv', 'm_bb', 'm_wbb', 'm_wwbb']\n",
    "\n",
    "# split params\n",
    "RNG = 1\n",
    "\n",
    "# model params\n",
    "SKLEARN_CLASSIFIER = 'lightgbm.sklearn.LGBMClassifier'\n",
    "MODEL_FILE = 'lgb-classifier.pkl'\n",
    "MODEL_KEY = 'model'\n",
    "VERBOSE = False\n",
    "\n",
    "# evaluation params\n",
    "XTEST_FILE         = TARGET_PATH + '/xtest.pqt'\n",
    "YTEST_FILE         = TARGET_PATH + '/ytest.pqt'"
   ]
  },
  {
   "cell_type": "code",
   "execution_count": 2,
   "metadata": {},
   "outputs": [],
   "source": [
    "import mlrun\n",
    "mlrun.mlconf.dbpath = 'http://mlrun-api:8080'"
   ]
  },
  {
   "cell_type": "code",
   "execution_count": 3,
   "metadata": {},
   "outputs": [
    {
     "data": {
      "text/plain": [
       "'ready'"
      ]
     },
     "execution_count": 3,
     "metadata": {},
     "output_type": "execute_result"
    }
   ],
   "source": [
    "acquire_job = mlrun.import_function(CODE_BASE + 'fileutils/arc_to_parquet/arc_to_parquet.yaml').apply(mlrun.mount_v3io())\n",
    "acquire_job.deploy(skip_deployed=True, with_mlrun=False)"
   ]
  },
  {
   "cell_type": "code",
   "execution_count": 4,
   "metadata": {},
   "outputs": [
    {
     "data": {
      "text/plain": [
       "'ready'"
      ]
     },
     "execution_count": 4,
     "metadata": {},
     "output_type": "execute_result"
    }
   ],
   "source": [
    "split_job = mlrun.import_function(CODE_BASE + 'datagen/splitters/train_valid_test.yaml').apply(mlrun.mount_v3io())\n",
    "split_job.deploy(skip_deployed=True, with_mlrun=False)"
   ]
  },
  {
   "cell_type": "code",
   "execution_count": 5,
   "metadata": {},
   "outputs": [
    {
     "data": {
      "text/plain": [
       "'ready'"
      ]
     },
     "execution_count": 5,
     "metadata": {},
     "output_type": "execute_result"
    }
   ],
   "source": [
    "train_job = mlrun.import_function(CODE_BASE + 'train/sklearn-classifier.yaml').apply(mlrun.mount_v3io())\n",
    "train_job.deploy(skip_deployed=True, with_mlrun=False)"
   ]
  },
  {
   "cell_type": "code",
   "execution_count": 6,
   "metadata": {},
   "outputs": [
    {
     "data": {
      "text/plain": [
       "'ready'"
      ]
     },
     "execution_count": 6,
     "metadata": {},
     "output_type": "execute_result"
    }
   ],
   "source": [
    "test_job = mlrun.import_function(CODE_BASE + 'evaluation/test-classifier.yaml').apply(mlrun.mount_v3io())\n",
    "test_job.deploy(skip_deployed=True, with_mlrun=False)"
   ]
  },
  {
   "cell_type": "markdown",
   "metadata": {},
   "source": [
    "<a id=\"pipeline\"></a>\n",
    "### create a kubeflow pipeline"
   ]
  },
  {
   "cell_type": "code",
   "execution_count": 7,
   "metadata": {},
   "outputs": [],
   "source": [
    "import kfp\n",
    "from kfp import dsl"
   ]
  },
  {
   "cell_type": "code",
   "execution_count": 8,
   "metadata": {},
   "outputs": [
    {
     "data": {
      "text/plain": [
       "<mlrun.runtimes.function.RemoteRuntime at 0x7f8ba9770438>"
      ]
     },
     "execution_count": 8,
     "metadata": {},
     "output_type": "execute_result"
    }
   ],
   "source": [
    "srvfn = mlrun.new_model_server(\n",
    "    'classifier', \n",
    "    model_class='ClassifierModel', \n",
    "    filename=CODE_BASE + 'serving/classifier_server.ipynb')\n",
    "\n",
    "srvfn.apply(mlrun.mount_v3io())"
   ]
  },
  {
   "cell_type": "code",
   "execution_count": 13,
   "metadata": {},
   "outputs": [],
   "source": [
    "@dsl.pipeline(name='LGBM', description='lightgbm classifier')\n",
    "def lgbm_pipeline():\n",
    "    acquire_step = acquire_job.as_step(\n",
    "            name='acquire_remote_data',\n",
    "            handler='arc_to_parquet',\n",
    "            params={\n",
    "                'archive_url': ARCHIVE_URL,\n",
    "                'header':      HEADER,\n",
    "                'name':        FILE_NAME,\n",
    "                'target_path': TARGET_PATH,\n",
    "                'key':         RAW_FILE_KEY},\n",
    "            outputs=['header']).apply(mlrun.mount_v3io())\n",
    "    \n",
    "    split_step = split_job.as_step(\n",
    "            name='split_data', \n",
    "            handler='train_valid_test_splitter',\n",
    "            inputs={'header' : acquire_step.outputs['header']},\n",
    "            params={\n",
    "                'src_file':         FILE_NAME,\n",
    "                'sample':           100_000,\n",
    "                'target_path':      TARGET_PATH,\n",
    "                'random_state':     RNG},\n",
    "            outputs=['header', 'xtrain', 'ytrain', 'xvalid', 'yvalid', 'xtest', 'ytest']\n",
    "    ).apply(mlrun.mount_v3io())\n",
    "    \n",
    "    train_step = train_job.as_step(\n",
    "            name='train_model', \n",
    "            handler='train',\n",
    "            inputs={'xtrain' : split_step.outputs['xtrain'],\n",
    "                    'ytrain' : split_step.outputs['ytrain'],\n",
    "                    'xvalid' : split_step.outputs['xvalid'],\n",
    "                    'yvalid' : split_step.outputs['yvalid']\n",
    "                    },\n",
    "            params={\n",
    "                'SKClassifier':     SKLEARN_CLASSIFIER,\n",
    "                'target_path':      TARGET_PATH,\n",
    "                'name':             MODEL_KEY,\n",
    "                'key' :             MODEL_KEY,\n",
    "                'verbose':          False},\n",
    "            outputs=['model']).apply(mlrun.mount_v3io())\n",
    "    \n",
    "    test_step = test_job.as_step(\n",
    "            name='test_model',\n",
    "            handler='test_model',\n",
    "            inputs={'model' : train_step.outputs['model'], \n",
    "                    'xtest' : split_step.outputs['xtest'],\n",
    "                    'ytest' : split_step.outputs['ytest']}).apply(mlrun.mount_v3io())\n",
    "\n",
    "    srvfn.deploy_step(\n",
    "        project='default', \n",
    "        models={'classifier_gen': train_step.outputs['model']})"
   ]
  },
  {
   "cell_type": "markdown",
   "metadata": {},
   "source": [
    "<a id=\"compile the pipeline\"></a>\n",
    "### compile the pipeline\n",
    "\n",
    "We can compile our KubeFlow pipeline and produce a yaml description of the pipeline worflow:"
   ]
  },
  {
   "cell_type": "code",
   "execution_count": 14,
   "metadata": {},
   "outputs": [],
   "source": [
    "kfp.compiler.Compiler().compile(lgbm_pipeline, TARGET_PATH + '/mlrunpipe.yaml')"
   ]
  },
  {
   "cell_type": "code",
   "execution_count": 15,
   "metadata": {},
   "outputs": [],
   "source": [
    "client = kfp.Client(namespace='default-tenant')"
   ]
  },
  {
   "cell_type": "markdown",
   "metadata": {},
   "source": [
    "Finally, the following line will run the pipeline as a job::"
   ]
  },
  {
   "cell_type": "code",
   "execution_count": 16,
   "metadata": {},
   "outputs": [
    {
     "data": {
      "text/html": [
       "Experiment link <a href=\"https://dashboard.default-tenant.app.yjb-ds.iguazio-cd1.com/pipelines//#/experiments/details/cb7e4ff6-35b0-4ef7-8381-291188181033\" target=\"_blank\" >here</a>"
      ],
      "text/plain": [
       "<IPython.core.display.HTML object>"
      ]
     },
     "metadata": {},
     "output_type": "display_data"
    },
    {
     "data": {
      "text/html": [
       "Run link <a href=\"https://dashboard.default-tenant.app.yjb-ds.iguazio-cd1.com/pipelines//#/runs/details/3a6789f1-c655-473b-9c1a-8d1b4c116c10\" target=\"_blank\" >here</a>"
      ],
      "text/plain": [
       "<IPython.core.display.HTML object>"
      ]
     },
     "metadata": {},
     "output_type": "display_data"
    }
   ],
   "source": [
    "arguments = {}\n",
    "\n",
    "run_result = client.create_run_from_pipeline_func(\n",
    "    lgbm_pipeline, \n",
    "    arguments, \n",
    "    run_name='my classifier run',\n",
    "    experiment_name='classifier')"
   ]
  },
  {
   "cell_type": "code",
   "execution_count": null,
   "metadata": {},
   "outputs": [],
   "source": []
  },
  {
   "cell_type": "code",
   "execution_count": null,
   "metadata": {},
   "outputs": [],
   "source": []
  }
 ],
 "metadata": {
  "celltoolbar": "Edit Metadata",
  "kernelspec": {
   "display_name": "Python 3",
   "language": "python",
   "name": "python3"
  },
  "language_info": {
   "codemirror_mode": {
    "name": "ipython",
    "version": 3
   },
   "file_extension": ".py",
   "mimetype": "text/x-python",
   "name": "python",
   "nbconvert_exporter": "python",
   "pygments_lexer": "ipython3",
   "version": "3.6.8"
  }
 },
 "nbformat": 4,
 "nbformat_minor": 4
}
