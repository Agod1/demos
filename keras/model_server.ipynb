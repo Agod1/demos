{
 "cells": [
  {
   "cell_type": "markdown",
   "metadata": {},
   "source": [
    "# **Model Server**"
   ]
  },
  {
   "cell_type": "markdown",
   "metadata": {},
   "source": [
    "_______________________________________________________________________________"
   ]
  },
  {
   "cell_type": "markdown",
   "metadata": {},
   "source": [
    "<a id=\"top\"></a>\n",
    "## **steps**\n",
    "**[notebook installs](#installs)**<br>\n",
    "**[nuclio code section](#nuclio)**<br>\n",
    "    - [inference server](#server)<br>\n",
    "**[deploy](#deploy)**<br>\n",
    "**[test deployment](#test)**<br>\n",
    "**[test saved model object](#testingoutside)**\n"
   ]
  },
  {
   "cell_type": "markdown",
   "metadata": {},
   "source": [
    "<a id=\"installs\"></a>\n",
    "_______________________________________________________________________________"
   ]
  },
  {
   "cell_type": "markdown",
   "metadata": {},
   "source": [
    "## **notebook installs**"
   ]
  },
  {
   "cell_type": "markdown",
   "metadata": {},
   "source": [
    "These are the packages we'll need to run this notebook, please install them once:"
   ]
  },
  {
   "cell_type": "markdown",
   "metadata": {
    "jupyter": {
     "outputs_hidden": true
    }
   },
   "source": [
    "    !pip install -U kfserving==0.2.0 tensorflow==2.0.0b1 keras pandas \n",
    "    !pip install -U kubernetes==9.0.0\n",
    "    !pip install -U azure"
   ]
  },
  {
   "cell_type": "code",
   "execution_count": 1,
   "metadata": {
    "collapsed": true,
    "jupyter": {
     "outputs_hidden": true
    }
   },
   "outputs": [
    {
     "name": "stdout",
     "output_type": "stream",
     "text": [
      "Uninstalling mlrun-0.4.1:\n",
      "  Successfully uninstalled mlrun-0.4.1\n",
      "Collecting git+https://github.com/mlrun/mlrun.git@development\n",
      "  Cloning https://github.com/mlrun/mlrun.git (to revision development) to /tmp/pip-req-build-escg07rc\n",
      "Branch development set up to track remote branch development from origin.\n",
      "Switched to a new branch 'development'\n",
      "Requirement already satisfied: Flask>=1.1.1 in /User/.pythonlibs/jupyter-1/lib/python3.6/site-packages (from mlrun==0.4.1) (1.1.1)\n",
      "Requirement already satisfied: GitPython>=2.1.0 in /conda/lib/python3.6/site-packages (from mlrun==0.4.1) (3.0.5)\n",
      "Requirement already satisfied: aiohttp>=3.5.0 in /User/.pythonlibs/jupyter-1/lib/python3.6/site-packages (from mlrun==0.4.1) (3.6.2)\n",
      "Requirement already satisfied: boto3>=1.9 in /conda/lib/python3.6/site-packages (from mlrun==0.4.1) (1.10.46)\n",
      "Requirement already satisfied: click>=7.0 in /conda/lib/python3.6/site-packages (from mlrun==0.4.1) (7.0)\n",
      "Requirement already satisfied: gunicorn==19.9.0 in /User/.pythonlibs/jupyter-1/lib/python3.6/site-packages (from mlrun==0.4.1) (19.9.0)\n",
      "Requirement already satisfied: kfp>=0.1.29 in /User/.pythonlibs/jupyter-1/lib/python3.6/site-packages (from mlrun==0.4.1) (0.1.39)\n",
      "Requirement already satisfied: nest-asyncio>=1.0.0 in /User/.pythonlibs/jupyter-1/lib/python3.6/site-packages (from mlrun==0.4.1) (1.2.1)\n",
      "Requirement already satisfied: nuclio-jupyter>=0.8.0 in /User/.pythonlibs/jupyter-1/lib/python3.6/site-packages (from mlrun==0.4.1) (0.8.0)\n",
      "Requirement already satisfied: nuclio-sdk>=0.0.3 in /conda/lib/python3.6/site-packages (from mlrun==0.4.1) (0.0.5)\n",
      "Requirement already satisfied: pandas>=0.23.0 in /conda/lib/python3.6/site-packages (from mlrun==0.4.1) (0.24.2)\n",
      "Requirement already satisfied: pyyaml>=5.1.0 in /conda/lib/python3.6/site-packages (from mlrun==0.4.1) (5.2)\n",
      "Requirement already satisfied: requests>=2.20.1 in /conda/lib/python3.6/site-packages (from mlrun==0.4.1) (2.22.0)\n",
      "Requirement already satisfied: sqlalchemy==1.3.11 in /User/.pythonlibs/jupyter-1/lib/python3.6/site-packages (from mlrun==0.4.1) (1.3.11)\n",
      "Requirement already satisfied: tabulate<=0.8.3,>=0.8.0 in /User/.pythonlibs/jupyter-1/lib/python3.6/site-packages (from mlrun==0.4.1) (0.8.3)\n",
      "Requirement already satisfied: Werkzeug>=0.15 in /User/.pythonlibs/jupyter-1/lib/python3.6/site-packages (from Flask>=1.1.1->mlrun==0.4.1) (0.16.0)\n",
      "Requirement already satisfied: itsdangerous>=0.24 in /User/.pythonlibs/jupyter-1/lib/python3.6/site-packages (from Flask>=1.1.1->mlrun==0.4.1) (1.1.0)\n",
      "Requirement already satisfied: Jinja2>=2.10.1 in /conda/lib/python3.6/site-packages (from Flask>=1.1.1->mlrun==0.4.1) (2.10.3)\n",
      "Requirement already satisfied: gitdb2>=2.0.0 in /conda/lib/python3.6/site-packages (from GitPython>=2.1.0->mlrun==0.4.1) (2.0.6)\n",
      "Requirement already satisfied: typing-extensions>=3.6.5; python_version < \"3.7\" in /User/.pythonlibs/jupyter-1/lib/python3.6/site-packages (from aiohttp>=3.5.0->mlrun==0.4.1) (3.7.4.1)\n",
      "Requirement already satisfied: multidict<5.0,>=4.5 in /User/.pythonlibs/jupyter-1/lib/python3.6/site-packages (from aiohttp>=3.5.0->mlrun==0.4.1) (4.7.3)\n",
      "Requirement already satisfied: attrs>=17.3.0 in /conda/lib/python3.6/site-packages (from aiohttp>=3.5.0->mlrun==0.4.1) (19.3.0)\n",
      "Requirement already satisfied: chardet<4.0,>=2.0 in /conda/lib/python3.6/site-packages (from aiohttp>=3.5.0->mlrun==0.4.1) (3.0.4)\n",
      "Requirement already satisfied: idna-ssl>=1.0; python_version < \"3.7\" in /User/.pythonlibs/jupyter-1/lib/python3.6/site-packages (from aiohttp>=3.5.0->mlrun==0.4.1) (1.1.0)\n",
      "Requirement already satisfied: async-timeout<4.0,>=3.0 in /User/.pythonlibs/jupyter-1/lib/python3.6/site-packages (from aiohttp>=3.5.0->mlrun==0.4.1) (3.0.1)\n",
      "Requirement already satisfied: yarl<2.0,>=1.0 in /User/.pythonlibs/jupyter-1/lib/python3.6/site-packages (from aiohttp>=3.5.0->mlrun==0.4.1) (1.4.2)\n",
      "Requirement already satisfied: jmespath<1.0.0,>=0.7.1 in /conda/lib/python3.6/site-packages (from boto3>=1.9->mlrun==0.4.1) (0.9.4)\n",
      "Requirement already satisfied: s3transfer<0.3.0,>=0.2.0 in /conda/lib/python3.6/site-packages (from boto3>=1.9->mlrun==0.4.1) (0.2.1)\n",
      "Requirement already satisfied: botocore<1.14.0,>=1.13.46 in /conda/lib/python3.6/site-packages (from boto3>=1.9->mlrun==0.4.1) (1.13.46)\n",
      "Requirement already satisfied: google-cloud-storage>=1.13.0 in /User/.pythonlibs/jupyter-1/lib/python3.6/site-packages (from kfp>=0.1.29->mlrun==0.4.1) (1.24.1)\n",
      "Requirement already satisfied: argo-models==2.2.1a in /User/.pythonlibs/jupyter-1/lib/python3.6/site-packages (from kfp>=0.1.29->mlrun==0.4.1) (2.2.1a0)\n",
      "Requirement already satisfied: google-auth>=1.6.1 in /User/.pythonlibs/jupyter-1/lib/python3.6/site-packages (from kfp>=0.1.29->mlrun==0.4.1) (1.10.0)\n",
      "Requirement already satisfied: requests-toolbelt>=0.8.0 in /User/.pythonlibs/jupyter-1/lib/python3.6/site-packages (from kfp>=0.1.29->mlrun==0.4.1) (0.9.1)\n",
      "Requirement already satisfied: python-dateutil in /conda/lib/python3.6/site-packages (from kfp>=0.1.29->mlrun==0.4.1) (2.8.1)\n",
      "Requirement already satisfied: kubernetes<=9.0.0,>=8.0.0 in /User/.pythonlibs/jupyter-1/lib/python3.6/site-packages (from kfp>=0.1.29->mlrun==0.4.1) (9.0.0)\n",
      "Requirement already satisfied: urllib3<1.25,>=1.15 in /User/.pythonlibs/jupyter-1/lib/python3.6/site-packages (from kfp>=0.1.29->mlrun==0.4.1) (1.24.3)\n",
      "Requirement already satisfied: cloudpickle==1.1.1 in /User/.pythonlibs/jupyter-1/lib/python3.6/site-packages (from kfp>=0.1.29->mlrun==0.4.1) (1.1.1)\n",
      "Requirement already satisfied: kfp-server-api<=0.1.37,>=0.1.18 in /User/.pythonlibs/jupyter-1/lib/python3.6/site-packages (from kfp>=0.1.29->mlrun==0.4.1) (0.1.37)\n",
      "Requirement already satisfied: six>=1.10 in /conda/lib/python3.6/site-packages (from kfp>=0.1.29->mlrun==0.4.1) (1.13.0)\n",
      "Requirement already satisfied: jsonschema>=3.0.1 in /conda/lib/python3.6/site-packages (from kfp>=0.1.29->mlrun==0.4.1) (3.2.0)\n",
      "Requirement already satisfied: Deprecated in /User/.pythonlibs/jupyter-1/lib/python3.6/site-packages (from kfp>=0.1.29->mlrun==0.4.1) (1.2.7)\n",
      "Requirement already satisfied: PyJWT>=1.6.4 in /User/.pythonlibs/jupyter-1/lib/python3.6/site-packages (from kfp>=0.1.29->mlrun==0.4.1) (1.7.1)\n",
      "Requirement already satisfied: certifi in /conda/lib/python3.6/site-packages (from kfp>=0.1.29->mlrun==0.4.1) (2019.11.28)\n",
      "Requirement already satisfied: cryptography>=2.4.2 in /conda/lib/python3.6/site-packages (from kfp>=0.1.29->mlrun==0.4.1) (2.8)\n",
      "Requirement already satisfied: nbconvert>=5.4 in /conda/lib/python3.6/site-packages (from nuclio-jupyter>=0.8.0->mlrun==0.4.1) (5.6.1)\n",
      "Requirement already satisfied: tornado<6,>=5 in /User/.pythonlibs/jupyter-1/lib/python3.6/site-packages (from nuclio-jupyter>=0.8.0->mlrun==0.4.1) (5.1.1)\n",
      "Requirement already satisfied: ipython>=7.2 in /conda/lib/python3.6/site-packages (from nuclio-jupyter>=0.8.0->mlrun==0.4.1) (7.10.2)\n",
      "Requirement already satisfied: notebook>=5.7.2 in /conda/lib/python3.6/site-packages (from nuclio-jupyter>=0.8.0->mlrun==0.4.1) (6.0.2)\n",
      "Requirement already satisfied: jupyterlab>=0.35.4 in /conda/lib/python3.6/site-packages (from nuclio-jupyter>=0.8.0->mlrun==0.4.1) (1.0.10)\n",
      "Requirement already satisfied: numpy>=1.12.0 in /User/.pythonlibs/jupyter-1/lib/python3.6/site-packages (from pandas>=0.23.0->mlrun==0.4.1) (1.16.4)\n",
      "Requirement already satisfied: pytz>=2011k in /conda/lib/python3.6/site-packages (from pandas>=0.23.0->mlrun==0.4.1) (2019.3)\n",
      "Requirement already satisfied: idna<2.9,>=2.5 in /conda/lib/python3.6/site-packages (from requests>=2.20.1->mlrun==0.4.1) (2.8)\n",
      "Requirement already satisfied: MarkupSafe>=0.23 in /conda/lib/python3.6/site-packages (from Jinja2>=2.10.1->Flask>=1.1.1->mlrun==0.4.1) (1.1.1)\n",
      "Requirement already satisfied: smmap2>=2.0.0 in /conda/lib/python3.6/site-packages (from gitdb2>=2.0.0->GitPython>=2.1.0->mlrun==0.4.1) (2.0.5)\n",
      "Requirement already satisfied: docutils<0.16,>=0.10 in /conda/lib/python3.6/site-packages (from botocore<1.14.0,>=1.13.46->boto3>=1.9->mlrun==0.4.1) (0.15.2)\n",
      "Requirement already satisfied: google-cloud-core<2.0dev,>=1.1.0 in /User/.pythonlibs/jupyter-1/lib/python3.6/site-packages (from google-cloud-storage>=1.13.0->kfp>=0.1.29->mlrun==0.4.1) (1.1.0)\n",
      "Requirement already satisfied: google-resumable-media<0.6dev,>=0.5.0 in /User/.pythonlibs/jupyter-1/lib/python3.6/site-packages (from google-cloud-storage>=1.13.0->kfp>=0.1.29->mlrun==0.4.1) (0.5.0)\n",
      "Requirement already satisfied: pyasn1-modules>=0.2.1 in /User/.pythonlibs/jupyter-1/lib/python3.6/site-packages (from google-auth>=1.6.1->kfp>=0.1.29->mlrun==0.4.1) (0.2.7)\n",
      "Requirement already satisfied: rsa<4.1,>=3.1.4 in /User/.pythonlibs/jupyter-1/lib/python3.6/site-packages (from google-auth>=1.6.1->kfp>=0.1.29->mlrun==0.4.1) (4.0)\n",
      "Requirement already satisfied: cachetools<5.0,>=2.0.0 in /User/.pythonlibs/jupyter-1/lib/python3.6/site-packages (from google-auth>=1.6.1->kfp>=0.1.29->mlrun==0.4.1) (4.0.0)\n",
      "Requirement already satisfied: setuptools>=40.3.0 in /conda/lib/python3.6/site-packages (from google-auth>=1.6.1->kfp>=0.1.29->mlrun==0.4.1) (42.0.2.post20191203)\n",
      "Requirement already satisfied: requests-oauthlib in /User/.pythonlibs/jupyter-1/lib/python3.6/site-packages (from kubernetes<=9.0.0,>=8.0.0->kfp>=0.1.29->mlrun==0.4.1) (1.3.0)\n",
      "Requirement already satisfied: websocket-client!=0.40.0,!=0.41.*,!=0.42.*,>=0.32.0 in /User/.pythonlibs/jupyter-1/lib/python3.6/site-packages (from kubernetes<=9.0.0,>=8.0.0->kfp>=0.1.29->mlrun==0.4.1) (0.57.0)\n",
      "Requirement already satisfied: importlib-metadata; python_version < \"3.8\" in /conda/lib/python3.6/site-packages (from jsonschema>=3.0.1->kfp>=0.1.29->mlrun==0.4.1) (1.3.0)\n",
      "Requirement already satisfied: pyrsistent>=0.14.0 in /conda/lib/python3.6/site-packages (from jsonschema>=3.0.1->kfp>=0.1.29->mlrun==0.4.1) (0.15.6)\n",
      "Requirement already satisfied: wrapt<2,>=1.10 in /User/.pythonlibs/jupyter-1/lib/python3.6/site-packages (from Deprecated->kfp>=0.1.29->mlrun==0.4.1) (1.11.2)\n",
      "Requirement already satisfied: cffi!=1.11.3,>=1.8 in /conda/lib/python3.6/site-packages (from cryptography>=2.4.2->kfp>=0.1.29->mlrun==0.4.1) (1.13.2)\n",
      "Requirement already satisfied: nbformat>=4.4 in /conda/lib/python3.6/site-packages (from nbconvert>=5.4->nuclio-jupyter>=0.8.0->mlrun==0.4.1) (4.4.0)\n",
      "Requirement already satisfied: defusedxml in /conda/lib/python3.6/site-packages (from nbconvert>=5.4->nuclio-jupyter>=0.8.0->mlrun==0.4.1) (0.6.0)\n",
      "Requirement already satisfied: testpath in /conda/lib/python3.6/site-packages (from nbconvert>=5.4->nuclio-jupyter>=0.8.0->mlrun==0.4.1) (0.4.4)\n",
      "Requirement already satisfied: jupyter-core in /conda/lib/python3.6/site-packages (from nbconvert>=5.4->nuclio-jupyter>=0.8.0->mlrun==0.4.1) (4.6.1)\n",
      "Requirement already satisfied: bleach in /conda/lib/python3.6/site-packages (from nbconvert>=5.4->nuclio-jupyter>=0.8.0->mlrun==0.4.1) (3.1.0)\n",
      "Requirement already satisfied: traitlets>=4.2 in /conda/lib/python3.6/site-packages (from nbconvert>=5.4->nuclio-jupyter>=0.8.0->mlrun==0.4.1) (4.3.3)\n",
      "Requirement already satisfied: pandocfilters>=1.4.1 in /conda/lib/python3.6/site-packages (from nbconvert>=5.4->nuclio-jupyter>=0.8.0->mlrun==0.4.1) (1.4.2)\n",
      "Requirement already satisfied: mistune<2,>=0.8.1 in /conda/lib/python3.6/site-packages (from nbconvert>=5.4->nuclio-jupyter>=0.8.0->mlrun==0.4.1) (0.8.4)\n",
      "Requirement already satisfied: pygments in /conda/lib/python3.6/site-packages (from nbconvert>=5.4->nuclio-jupyter>=0.8.0->mlrun==0.4.1) (2.5.2)\n",
      "Requirement already satisfied: entrypoints>=0.2.2 in /conda/lib/python3.6/site-packages (from nbconvert>=5.4->nuclio-jupyter>=0.8.0->mlrun==0.4.1) (0.3)\n",
      "Requirement already satisfied: prompt-toolkit!=3.0.0,!=3.0.1,<3.1.0,>=2.0.0 in /conda/lib/python3.6/site-packages (from ipython>=7.2->nuclio-jupyter>=0.8.0->mlrun==0.4.1) (3.0.2)\n",
      "Requirement already satisfied: backcall in /conda/lib/python3.6/site-packages (from ipython>=7.2->nuclio-jupyter>=0.8.0->mlrun==0.4.1) (0.1.0)\n",
      "Requirement already satisfied: pexpect; sys_platform != \"win32\" in /conda/lib/python3.6/site-packages (from ipython>=7.2->nuclio-jupyter>=0.8.0->mlrun==0.4.1) (4.7.0)\n",
      "Requirement already satisfied: decorator in /conda/lib/python3.6/site-packages (from ipython>=7.2->nuclio-jupyter>=0.8.0->mlrun==0.4.1) (4.4.1)\n",
      "Requirement already satisfied: jedi>=0.10 in /conda/lib/python3.6/site-packages (from ipython>=7.2->nuclio-jupyter>=0.8.0->mlrun==0.4.1) (0.15.1)\n",
      "Requirement already satisfied: pickleshare in /conda/lib/python3.6/site-packages (from ipython>=7.2->nuclio-jupyter>=0.8.0->mlrun==0.4.1) (0.7.5)\n",
      "Requirement already satisfied: ipykernel in /conda/lib/python3.6/site-packages (from notebook>=5.7.2->nuclio-jupyter>=0.8.0->mlrun==0.4.1) (5.1.3)\n",
      "Requirement already satisfied: terminado>=0.8.1 in /conda/lib/python3.6/site-packages (from notebook>=5.7.2->nuclio-jupyter>=0.8.0->mlrun==0.4.1) (0.8.3)\n",
      "Requirement already satisfied: ipython-genutils in /conda/lib/python3.6/site-packages (from notebook>=5.7.2->nuclio-jupyter>=0.8.0->mlrun==0.4.1) (0.2.0)\n",
      "Requirement already satisfied: pyzmq>=17 in /conda/lib/python3.6/site-packages (from notebook>=5.7.2->nuclio-jupyter>=0.8.0->mlrun==0.4.1) (18.1.0)\n",
      "Requirement already satisfied: prometheus-client in /conda/lib/python3.6/site-packages (from notebook>=5.7.2->nuclio-jupyter>=0.8.0->mlrun==0.4.1) (0.7.1)\n",
      "Requirement already satisfied: jupyter-client>=5.3.4 in /conda/lib/python3.6/site-packages (from notebook>=5.7.2->nuclio-jupyter>=0.8.0->mlrun==0.4.1) (5.3.4)\n",
      "Requirement already satisfied: Send2Trash in /conda/lib/python3.6/site-packages (from notebook>=5.7.2->nuclio-jupyter>=0.8.0->mlrun==0.4.1) (1.5.0)\n",
      "Requirement already satisfied: jupyterlab_server~=1.0.0 in /conda/lib/python3.6/site-packages (from jupyterlab>=0.35.4->nuclio-jupyter>=0.8.0->mlrun==0.4.1) (1.0.6)\n",
      "Requirement already satisfied: google-api-core<2.0.0dev,>=1.14.0 in /User/.pythonlibs/jupyter-1/lib/python3.6/site-packages (from google-cloud-core<2.0dev,>=1.1.0->google-cloud-storage>=1.13.0->kfp>=0.1.29->mlrun==0.4.1) (1.15.0)\n",
      "Requirement already satisfied: pyasn1<0.5.0,>=0.4.6 in /User/.pythonlibs/jupyter-1/lib/python3.6/site-packages (from pyasn1-modules>=0.2.1->google-auth>=1.6.1->kfp>=0.1.29->mlrun==0.4.1) (0.4.8)\n",
      "Requirement already satisfied: oauthlib>=3.0.0 in /User/.pythonlibs/jupyter-1/lib/python3.6/site-packages (from requests-oauthlib->kubernetes<=9.0.0,>=8.0.0->kfp>=0.1.29->mlrun==0.4.1) (3.1.0)\n",
      "Requirement already satisfied: zipp>=0.5 in /conda/lib/python3.6/site-packages (from importlib-metadata; python_version < \"3.8\"->jsonschema>=3.0.1->kfp>=0.1.29->mlrun==0.4.1) (0.6.0)\n",
      "Requirement already satisfied: pycparser in /conda/lib/python3.6/site-packages (from cffi!=1.11.3,>=1.8->cryptography>=2.4.2->kfp>=0.1.29->mlrun==0.4.1) (2.19)\n",
      "Requirement already satisfied: webencodings in /conda/lib/python3.6/site-packages (from bleach->nbconvert>=5.4->nuclio-jupyter>=0.8.0->mlrun==0.4.1) (0.5.1)\n",
      "Requirement already satisfied: wcwidth in /conda/lib/python3.6/site-packages (from prompt-toolkit!=3.0.0,!=3.0.1,<3.1.0,>=2.0.0->ipython>=7.2->nuclio-jupyter>=0.8.0->mlrun==0.4.1) (0.1.7)\n",
      "Requirement already satisfied: ptyprocess>=0.5 in /conda/lib/python3.6/site-packages (from pexpect; sys_platform != \"win32\"->ipython>=7.2->nuclio-jupyter>=0.8.0->mlrun==0.4.1) (0.6.0)\n",
      "Requirement already satisfied: parso>=0.5.0 in /conda/lib/python3.6/site-packages (from jedi>=0.10->ipython>=7.2->nuclio-jupyter>=0.8.0->mlrun==0.4.1) (0.5.2)\n",
      "Requirement already satisfied: json5 in /conda/lib/python3.6/site-packages (from jupyterlab_server~=1.0.0->jupyterlab>=0.35.4->nuclio-jupyter>=0.8.0->mlrun==0.4.1) (0.8.5)\n",
      "Requirement already satisfied: protobuf>=3.4.0 in /conda/lib/python3.6/site-packages (from google-api-core<2.0.0dev,>=1.14.0->google-cloud-core<2.0dev,>=1.1.0->google-cloud-storage>=1.13.0->kfp>=0.1.29->mlrun==0.4.1) (3.11.2)\n",
      "Requirement already satisfied: googleapis-common-protos<2.0dev,>=1.6.0 in /conda/lib/python3.6/site-packages (from google-api-core<2.0.0dev,>=1.14.0->google-cloud-core<2.0dev,>=1.1.0->google-cloud-storage>=1.13.0->kfp>=0.1.29->mlrun==0.4.1) (1.6.0)\n",
      "Requirement already satisfied: more-itertools in /conda/lib/python3.6/site-packages (from zipp>=0.5->importlib-metadata; python_version < \"3.8\"->jsonschema>=3.0.1->kfp>=0.1.29->mlrun==0.4.1) (8.0.2)\n",
      "Building wheels for collected packages: mlrun\n",
      "  Running setup.py bdist_wheel for mlrun ... \u001b[?25ldone\n",
      "\u001b[?25h  Stored in directory: /tmp/pip-ephem-wheel-cache-dbpmdcil/wheels/ce/82/2f/a98d204a5dd1b27fa2a685cd11e705f1690d8f7ce2d8c08c9a\n",
      "Successfully built mlrun\n",
      "Installing collected packages: mlrun\n",
      "Successfully installed mlrun-0.4.1\n",
      "Collecting git+https://github.com/yjb-ds/functions-demo.git\n",
      "  Cloning https://github.com/yjb-ds/functions-demo.git to /tmp/pip-req-build-55keye6e\n",
      "Requirement already satisfied, skipping upgrade: aiohttp>=3.6.2 in /User/.pythonlibs/jupyter-1/lib/python3.6/site-packages (from functions==0.1.0) (3.6.2)\n",
      "Requirement already satisfied, skipping upgrade: azure>=4.0.0 in /User/.pythonlibs/jupyter-1/lib/python3.6/site-packages (from functions==0.1.0) (4.0.0)\n",
      "Requirement already satisfied, skipping upgrade: bokeh>=1.0.3 in /conda/lib/python3.6/site-packages (from functions==0.1.0) (1.0.3)\n",
      "Requirement already satisfied, skipping upgrade: boto3>=1.10.0 in /conda/lib/python3.6/site-packages (from functions==0.1.0) (1.10.46)\n",
      "Requirement already satisfied, skipping upgrade: botocore>=1.13.0 in /conda/lib/python3.6/site-packages (from functions==0.1.0) (1.13.46)\n",
      "Requirement already satisfied, skipping upgrade: dask>=2.9.0 in /User/.pythonlibs/jupyter-1/lib/python3.6/site-packages (from functions==0.1.0) (2.9.1)\n",
      "Requirement already satisfied, skipping upgrade: distributed>=2.9.0 in /conda/lib/python3.6/site-packages (from functions==0.1.0) (2.9.1)\n",
      "Requirement already satisfied, skipping upgrade: h5py>=2.10.0 in /User/.pythonlibs/jupyter-1/lib/python3.6/site-packages (from functions==0.1.0) (2.10.0)\n",
      "Requirement already satisfied, skipping upgrade: joblib>=0.14.1 in /User/.pythonlibs/jupyter-1/lib/python3.6/site-packages (from functions==0.1.0) (0.14.1)\n",
      "Requirement already satisfied, skipping upgrade: Keras>=2.3.1 in /User/.pythonlibs/jupyter-1/lib/python3.6/site-packages (from functions==0.1.0) (2.3.1)\n",
      "Requirement already satisfied, skipping upgrade: Keras-Applications>=1.0.8 in /User/.pythonlibs/jupyter-1/lib/python3.6/site-packages (from functions==0.1.0) (1.0.8)\n",
      "Requirement already satisfied, skipping upgrade: Keras-Preprocessing>=1.1.0 in /User/.pythonlibs/jupyter-1/lib/python3.6/site-packages (from functions==0.1.0) (1.1.0)\n",
      "Requirement already satisfied, skipping upgrade: kfp>=0.1.38 in /User/.pythonlibs/jupyter-1/lib/python3.6/site-packages (from functions==0.1.0) (0.1.39)\n",
      "Requirement already satisfied, skipping upgrade: kfp-server-api>=0.1.37 in /User/.pythonlibs/jupyter-1/lib/python3.6/site-packages (from functions==0.1.0) (0.1.37)\n",
      "Requirement already satisfied, skipping upgrade: kfserving==0.2.0 in /User/.pythonlibs/jupyter-1/lib/python3.6/site-packages (from functions==0.1.0) (0.2.0)\n",
      "Requirement already satisfied, skipping upgrade: kubernetes>=9.0.0 in /User/.pythonlibs/jupyter-1/lib/python3.6/site-packages (from functions==0.1.0) (9.0.0)\n",
      "Requirement already satisfied, skipping upgrade: lightgbm>=2.3.1 in /User/.pythonlibs/jupyter-1/lib/python3.6/site-packages (from functions==0.1.0) (2.3.1)\n",
      "Requirement already satisfied, skipping upgrade: matplotlib>=3.1.2 in /User/.pythonlibs/jupyter-1/lib/python3.6/site-packages (from functions==0.1.0) (3.1.2)\n",
      "Requirement already satisfied, skipping upgrade: nuclio-jupyter>=0.7.6 in /User/.pythonlibs/jupyter-1/lib/python3.6/site-packages (from functions==0.1.0) (0.8.0)\n",
      "Requirement already satisfied, skipping upgrade: nuclio-sdk>=0.0.3 in /conda/lib/python3.6/site-packages (from functions==0.1.0) (0.0.5)\n",
      "Requirement already satisfied, skipping upgrade: numpy==1.16.4 in /User/.pythonlibs/jupyter-1/lib/python3.6/site-packages (from functions==0.1.0) (1.16.4)\n",
      "Requirement already satisfied, skipping upgrade: pandas>=0.23.0 in /conda/lib/python3.6/site-packages (from functions==0.1.0) (0.24.2)\n",
      "Requirement already satisfied, skipping upgrade: Pillow>=6.2.0 in /conda/lib/python3.6/site-packages (from functions==0.1.0) (6.2.1)\n",
      "Requirement already satisfied, skipping upgrade: prometheus-client>=0.7.1 in /conda/lib/python3.6/site-packages (from functions==0.1.0) (0.7.1)\n",
      "Requirement already satisfied, skipping upgrade: protobuf>=3.11.1 in /conda/lib/python3.6/site-packages (from functions==0.1.0) (3.11.2)\n",
      "Requirement already satisfied, skipping upgrade: pyarrow>=0.15.1 in /User/.pythonlibs/jupyter-1/lib/python3.6/site-packages (from functions==0.1.0) (0.15.1)\n",
      "Requirement already satisfied, skipping upgrade: pyspark>=2.3.2 in /spark/python (from functions==0.1.0) (2.4.4)\n",
      "Requirement already satisfied, skipping upgrade: PyYAML>=5.1.2 in /conda/lib/python3.6/site-packages (from functions==0.1.0) (5.2)\n",
      "Requirement already satisfied, skipping upgrade: pyzmq>=18.1.0 in /conda/lib/python3.6/site-packages (from functions==0.1.0) (18.1.0)\n",
      "Requirement already satisfied, skipping upgrade: requests>=2.22.0 in /conda/lib/python3.6/site-packages (from functions==0.1.0) (2.22.0)\n",
      "Requirement already satisfied, skipping upgrade: requests-oauthlib>=1.3.0 in /User/.pythonlibs/jupyter-1/lib/python3.6/site-packages (from functions==0.1.0) (1.3.0)\n",
      "Requirement already satisfied, skipping upgrade: requests-toolbelt>=0.9.1 in /User/.pythonlibs/jupyter-1/lib/python3.6/site-packages (from functions==0.1.0) (0.9.1)\n",
      "Requirement already satisfied, skipping upgrade: scikit-image>=0.14.1 in /conda/lib/python3.6/site-packages (from functions==0.1.0) (0.14.1)\n",
      "Requirement already satisfied, skipping upgrade: scikit-learn>=0.22 in /User/.pythonlibs/jupyter-1/lib/python3.6/site-packages (from functions==0.1.0) (0.22.1)\n",
      "Requirement already satisfied, skipping upgrade: scipy>=1.3.1 in /conda/lib/python3.6/site-packages (from functions==0.1.0) (1.3.2)\n",
      "Requirement already satisfied, skipping upgrade: seaborn>=0.9.0 in /conda/lib/python3.6/site-packages (from functions==0.1.0) (0.9.0)\n",
      "Requirement already satisfied, skipping upgrade: statsmodels>=0.10.1 in /conda/lib/python3.6/site-packages (from functions==0.1.0) (0.10.1)\n",
      "Requirement already satisfied, skipping upgrade: tensorboard>=1.14.0 in /User/.pythonlibs/jupyter-1/lib/python3.6/site-packages (from functions==0.1.0) (2.1.0)\n",
      "Requirement already satisfied, skipping upgrade: tensorflow>=2.0.0b1 in /User/.pythonlibs/jupyter-1/lib/python3.6/site-packages (from functions==0.1.0) (2.0.0b1)\n",
      "Requirement already satisfied, skipping upgrade: v3io-frames>=0.6.5 in /conda/lib/python3.6/site-packages (from functions==0.1.0) (0.6.8)\n",
      "Requirement already satisfied, skipping upgrade: click>=7.0 in /conda/lib/python3.6/site-packages (from functions==0.1.0) (7.0)\n",
      "Requirement already satisfied, skipping upgrade: gunicorn>=19.9.0 in /User/.pythonlibs/jupyter-1/lib/python3.6/site-packages (from functions==0.1.0) (19.9.0)\n",
      "Requirement already satisfied, skipping upgrade: nest-asyncio>=1.0.0 in /User/.pythonlibs/jupyter-1/lib/python3.6/site-packages (from functions==0.1.0) (1.2.1)\n",
      "Requirement already satisfied, skipping upgrade: tabulate>=0.8.0 in /User/.pythonlibs/jupyter-1/lib/python3.6/site-packages (from functions==0.1.0) (0.8.3)\n",
      "Requirement already satisfied, skipping upgrade: yarl<2.0,>=1.0 in /User/.pythonlibs/jupyter-1/lib/python3.6/site-packages (from aiohttp>=3.6.2->functions==0.1.0) (1.4.2)\n",
      "Requirement already satisfied, skipping upgrade: async-timeout<4.0,>=3.0 in /User/.pythonlibs/jupyter-1/lib/python3.6/site-packages (from aiohttp>=3.6.2->functions==0.1.0) (3.0.1)\n",
      "Requirement already satisfied, skipping upgrade: typing-extensions>=3.6.5; python_version < \"3.7\" in /User/.pythonlibs/jupyter-1/lib/python3.6/site-packages (from aiohttp>=3.6.2->functions==0.1.0) (3.7.4.1)\n",
      "Requirement already satisfied, skipping upgrade: attrs>=17.3.0 in /conda/lib/python3.6/site-packages (from aiohttp>=3.6.2->functions==0.1.0) (19.3.0)\n",
      "Requirement already satisfied, skipping upgrade: multidict<5.0,>=4.5 in /User/.pythonlibs/jupyter-1/lib/python3.6/site-packages (from aiohttp>=3.6.2->functions==0.1.0) (4.7.3)\n",
      "Requirement already satisfied, skipping upgrade: chardet<4.0,>=2.0 in /conda/lib/python3.6/site-packages (from aiohttp>=3.6.2->functions==0.1.0) (3.0.4)\n",
      "Requirement already satisfied, skipping upgrade: idna-ssl>=1.0; python_version < \"3.7\" in /User/.pythonlibs/jupyter-1/lib/python3.6/site-packages (from aiohttp>=3.6.2->functions==0.1.0) (1.1.0)\n",
      "Requirement already satisfied, skipping upgrade: azure-servicefabric~=6.3.0.0 in /User/.pythonlibs/jupyter-1/lib/python3.6/site-packages (from azure>=4.0.0->functions==0.1.0) (6.3.0.0)\n",
      "Requirement already satisfied, skipping upgrade: azure-storage-file~=1.3 in /User/.pythonlibs/jupyter-1/lib/python3.6/site-packages (from azure>=4.0.0->functions==0.1.0) (1.4.0)\n",
      "Requirement already satisfied, skipping upgrade: azure-cosmosdb-table~=1.0 in /User/.pythonlibs/jupyter-1/lib/python3.6/site-packages (from azure>=4.0.0->functions==0.1.0) (1.0.6)\n",
      "Requirement already satisfied, skipping upgrade: azure-mgmt~=4.0 in /User/.pythonlibs/jupyter-1/lib/python3.6/site-packages (from azure>=4.0.0->functions==0.1.0) (4.0.0)\n",
      "Requirement already satisfied, skipping upgrade: azure-graphrbac~=0.40.0 in /User/.pythonlibs/jupyter-1/lib/python3.6/site-packages (from azure>=4.0.0->functions==0.1.0) (0.40.0)\n",
      "Requirement already satisfied, skipping upgrade: azure-servicebus~=0.21.1 in /User/.pythonlibs/jupyter-1/lib/python3.6/site-packages (from azure>=4.0.0->functions==0.1.0) (0.21.1)\n",
      "Requirement already satisfied, skipping upgrade: azure-datalake-store~=0.0.18 in /User/.pythonlibs/jupyter-1/lib/python3.6/site-packages (from azure>=4.0.0->functions==0.1.0) (0.0.48)\n",
      "Requirement already satisfied, skipping upgrade: azure-servicemanagement-legacy~=0.20.6 in /User/.pythonlibs/jupyter-1/lib/python3.6/site-packages (from azure>=4.0.0->functions==0.1.0) (0.20.6)\n",
      "Requirement already satisfied, skipping upgrade: azure-storage-blob~=1.3 in /User/.pythonlibs/jupyter-1/lib/python3.6/site-packages (from azure>=4.0.0->functions==0.1.0) (1.5.0)\n",
      "Requirement already satisfied, skipping upgrade: azure-storage-queue~=1.3 in /User/.pythonlibs/jupyter-1/lib/python3.6/site-packages (from azure>=4.0.0->functions==0.1.0) (1.4.0)\n",
      "Requirement already satisfied, skipping upgrade: azure-loganalytics~=0.1.0 in /User/.pythonlibs/jupyter-1/lib/python3.6/site-packages (from azure>=4.0.0->functions==0.1.0) (0.1.0)\n",
      "Requirement already satisfied, skipping upgrade: azure-keyvault~=1.0 in /User/.pythonlibs/jupyter-1/lib/python3.6/site-packages (from azure>=4.0.0->functions==0.1.0) (1.1.0)\n",
      "Requirement already satisfied, skipping upgrade: azure-batch~=4.1 in /User/.pythonlibs/jupyter-1/lib/python3.6/site-packages (from azure>=4.0.0->functions==0.1.0) (4.1.3)\n",
      "Requirement already satisfied, skipping upgrade: azure-eventgrid~=1.1 in /User/.pythonlibs/jupyter-1/lib/python3.6/site-packages (from azure>=4.0.0->functions==0.1.0) (1.3.0)\n",
      "Requirement already satisfied, skipping upgrade: azure-applicationinsights~=0.1.0 in /User/.pythonlibs/jupyter-1/lib/python3.6/site-packages (from azure>=4.0.0->functions==0.1.0) (0.1.0)\n",
      "Requirement already satisfied, skipping upgrade: Jinja2>=2.7 in /conda/lib/python3.6/site-packages (from bokeh>=1.0.3->functions==0.1.0) (2.10.3)\n",
      "Requirement already satisfied, skipping upgrade: tornado>=4.3 in /User/.pythonlibs/jupyter-1/lib/python3.6/site-packages (from bokeh>=1.0.3->functions==0.1.0) (5.1.1)\n",
      "Requirement already satisfied, skipping upgrade: python-dateutil>=2.1 in /conda/lib/python3.6/site-packages (from bokeh>=1.0.3->functions==0.1.0) (2.8.1)\n",
      "Requirement already satisfied, skipping upgrade: six>=1.5.2 in /conda/lib/python3.6/site-packages (from bokeh>=1.0.3->functions==0.1.0) (1.13.0)\n",
      "Requirement already satisfied, skipping upgrade: packaging>=16.8 in /conda/lib/python3.6/site-packages (from bokeh>=1.0.3->functions==0.1.0) (19.2)\n",
      "Requirement already satisfied, skipping upgrade: jmespath<1.0.0,>=0.7.1 in /conda/lib/python3.6/site-packages (from boto3>=1.10.0->functions==0.1.0) (0.9.4)\n",
      "Requirement already satisfied, skipping upgrade: s3transfer<0.3.0,>=0.2.0 in /conda/lib/python3.6/site-packages (from boto3>=1.10.0->functions==0.1.0) (0.2.1)\n",
      "Requirement already satisfied, skipping upgrade: docutils<0.16,>=0.10 in /conda/lib/python3.6/site-packages (from botocore>=1.13.0->functions==0.1.0) (0.15.2)\n",
      "Requirement already satisfied, skipping upgrade: urllib3<1.26,>=1.20; python_version >= \"3.4\" in /User/.pythonlibs/jupyter-1/lib/python3.6/site-packages (from botocore>=1.13.0->functions==0.1.0) (1.24.3)\n",
      "Requirement already satisfied, skipping upgrade: sortedcontainers!=2.0.0,!=2.0.1 in /conda/lib/python3.6/site-packages (from distributed>=2.9.0->functions==0.1.0) (2.1.0)\n",
      "Requirement already satisfied, skipping upgrade: zict>=0.1.3 in /conda/lib/python3.6/site-packages (from distributed>=2.9.0->functions==0.1.0) (1.0.0)\n",
      "Requirement already satisfied, skipping upgrade: msgpack in /conda/lib/python3.6/site-packages (from distributed>=2.9.0->functions==0.1.0) (0.6.2)\n",
      "Requirement already satisfied, skipping upgrade: toolz>=0.7.4 in /conda/lib/python3.6/site-packages (from distributed>=2.9.0->functions==0.1.0) (0.10.0)\n",
      "Requirement already satisfied, skipping upgrade: setuptools in /conda/lib/python3.6/site-packages (from distributed>=2.9.0->functions==0.1.0) (42.0.2.post20191203)\n",
      "Requirement already satisfied, skipping upgrade: tblib in /conda/lib/python3.6/site-packages (from distributed>=2.9.0->functions==0.1.0) (1.6.0)\n",
      "Requirement already satisfied, skipping upgrade: psutil>=5.0 in /conda/lib/python3.6/site-packages (from distributed>=2.9.0->functions==0.1.0) (5.6.7)\n",
      "Requirement already satisfied, skipping upgrade: cloudpickle>=0.2.2 in /User/.pythonlibs/jupyter-1/lib/python3.6/site-packages (from distributed>=2.9.0->functions==0.1.0) (1.1.1)\n",
      "Requirement already satisfied, skipping upgrade: Deprecated in /User/.pythonlibs/jupyter-1/lib/python3.6/site-packages (from kfp>=0.1.38->functions==0.1.0) (1.2.7)\n",
      "Requirement already satisfied, skipping upgrade: google-cloud-storage>=1.13.0 in /User/.pythonlibs/jupyter-1/lib/python3.6/site-packages (from kfp>=0.1.38->functions==0.1.0) (1.24.1)\n",
      "Requirement already satisfied, skipping upgrade: jsonschema>=3.0.1 in /conda/lib/python3.6/site-packages (from kfp>=0.1.38->functions==0.1.0) (3.2.0)\n",
      "Requirement already satisfied, skipping upgrade: google-auth>=1.6.1 in /User/.pythonlibs/jupyter-1/lib/python3.6/site-packages (from kfp>=0.1.38->functions==0.1.0) (1.10.0)\n",
      "Requirement already satisfied, skipping upgrade: PyJWT>=1.6.4 in /User/.pythonlibs/jupyter-1/lib/python3.6/site-packages (from kfp>=0.1.38->functions==0.1.0) (1.7.1)\n",
      "Requirement already satisfied, skipping upgrade: certifi in /conda/lib/python3.6/site-packages (from kfp>=0.1.38->functions==0.1.0) (2019.11.28)\n",
      "Requirement already satisfied, skipping upgrade: cryptography>=2.4.2 in /conda/lib/python3.6/site-packages (from kfp>=0.1.38->functions==0.1.0) (2.8)\n",
      "Requirement already satisfied, skipping upgrade: argo-models==2.2.1a in /User/.pythonlibs/jupyter-1/lib/python3.6/site-packages (from kfp>=0.1.38->functions==0.1.0) (2.2.1a0)\n",
      "Requirement already satisfied, skipping upgrade: adal>=1.2.2 in /User/.pythonlibs/jupyter-1/lib/python3.6/site-packages (from kfserving==0.2.0->functions==0.1.0) (1.2.2)\n",
      "Requirement already satisfied, skipping upgrade: minio>=4.0.9 in /User/.pythonlibs/jupyter-1/lib/python3.6/site-packages (from kfserving==0.2.0->functions==0.1.0) (5.0.6)\n",
      "Requirement already satisfied, skipping upgrade: argparse>=1.4.0 in /User/.pythonlibs/jupyter-1/lib/python3.6/site-packages (from kfserving==0.2.0->functions==0.1.0) (1.4.0)\n",
      "Requirement already satisfied, skipping upgrade: table-logger>=0.3.5 in /User/.pythonlibs/jupyter-1/lib/python3.6/site-packages (from kfserving==0.2.0->functions==0.1.0) (0.3.6)\n",
      "Requirement already satisfied, skipping upgrade: websocket-client!=0.40.0,!=0.41.*,!=0.42.*,>=0.32.0 in /User/.pythonlibs/jupyter-1/lib/python3.6/site-packages (from kubernetes>=9.0.0->functions==0.1.0) (0.57.0)\n",
      "Requirement already satisfied, skipping upgrade: pyparsing!=2.0.4,!=2.1.2,!=2.1.6,>=2.0.1 in /conda/lib/python3.6/site-packages (from matplotlib>=3.1.2->functions==0.1.0) (2.4.5)\n",
      "Requirement already satisfied, skipping upgrade: kiwisolver>=1.0.1 in /conda/lib/python3.6/site-packages (from matplotlib>=3.1.2->functions==0.1.0) (1.1.0)\n",
      "Requirement already satisfied, skipping upgrade: cycler>=0.10 in /conda/lib/python3.6/site-packages (from matplotlib>=3.1.2->functions==0.1.0) (0.10.0)\n",
      "Requirement already satisfied, skipping upgrade: jupyterlab>=0.35.4 in /conda/lib/python3.6/site-packages (from nuclio-jupyter>=0.7.6->functions==0.1.0) (1.0.10)\n",
      "Requirement already satisfied, skipping upgrade: notebook>=5.7.2 in /conda/lib/python3.6/site-packages (from nuclio-jupyter>=0.7.6->functions==0.1.0) (6.0.2)\n",
      "Requirement already satisfied, skipping upgrade: ipython>=7.2 in /conda/lib/python3.6/site-packages (from nuclio-jupyter>=0.7.6->functions==0.1.0) (7.10.2)\n",
      "Requirement already satisfied, skipping upgrade: nbconvert>=5.4 in /conda/lib/python3.6/site-packages (from nuclio-jupyter>=0.7.6->functions==0.1.0) (5.6.1)\n",
      "Requirement already satisfied, skipping upgrade: pytz>=2011k in /conda/lib/python3.6/site-packages (from pandas>=0.23.0->functions==0.1.0) (2019.3)\n",
      "Requirement already satisfied, skipping upgrade: py4j==0.10.7 in /User/.pythonlibs/jupyter-1/lib/python3.6/site-packages (from pyspark>=2.3.2->functions==0.1.0) (0.10.7)\n",
      "Requirement already satisfied, skipping upgrade: idna<2.9,>=2.5 in /conda/lib/python3.6/site-packages (from requests>=2.22.0->functions==0.1.0) (2.8)\n",
      "Requirement already satisfied, skipping upgrade: oauthlib>=3.0.0 in /User/.pythonlibs/jupyter-1/lib/python3.6/site-packages (from requests-oauthlib>=1.3.0->functions==0.1.0) (3.1.0)\n",
      "Requirement already satisfied, skipping upgrade: networkx>=1.8 in /conda/lib/python3.6/site-packages (from scikit-image>=0.14.1->functions==0.1.0) (2.4)\n",
      "Requirement already satisfied, skipping upgrade: PyWavelets>=0.4.0 in /conda/lib/python3.6/site-packages (from scikit-image>=0.14.1->functions==0.1.0) (1.1.1)\n",
      "Requirement already satisfied, skipping upgrade: patsy>=0.4.0 in /conda/lib/python3.6/site-packages (from statsmodels>=0.10.1->functions==0.1.0) (0.5.1)\n",
      "Requirement already satisfied, skipping upgrade: markdown>=2.6.8 in /User/.pythonlibs/jupyter-1/lib/python3.6/site-packages (from tensorboard>=1.14.0->functions==0.1.0) (3.1.1)\n",
      "Requirement already satisfied, skipping upgrade: wheel>=0.26; python_version >= \"3\" in /conda/lib/python3.6/site-packages (from tensorboard>=1.14.0->functions==0.1.0) (0.33.6)\n",
      "Requirement already satisfied, skipping upgrade: werkzeug>=0.11.15 in /User/.pythonlibs/jupyter-1/lib/python3.6/site-packages (from tensorboard>=1.14.0->functions==0.1.0) (0.16.0)\n",
      "Requirement already satisfied, skipping upgrade: absl-py>=0.4 in /User/.pythonlibs/jupyter-1/lib/python3.6/site-packages (from tensorboard>=1.14.0->functions==0.1.0) (0.9.0)\n",
      "Requirement already satisfied, skipping upgrade: google-auth-oauthlib<0.5,>=0.4.1 in /User/.pythonlibs/jupyter-1/lib/python3.6/site-packages (from tensorboard>=1.14.0->functions==0.1.0) (0.4.1)\n",
      "Requirement already satisfied, skipping upgrade: grpcio>=1.24.3 in /conda/lib/python3.6/site-packages (from tensorboard>=1.14.0->functions==0.1.0) (1.26.0)\n",
      "Requirement already satisfied, skipping upgrade: astor>=0.6.0 in /User/.pythonlibs/jupyter-1/lib/python3.6/site-packages (from tensorflow>=2.0.0b1->functions==0.1.0) (0.8.1)\n",
      "Requirement already satisfied, skipping upgrade: gast>=0.2.0 in /User/.pythonlibs/jupyter-1/lib/python3.6/site-packages (from tensorflow>=2.0.0b1->functions==0.1.0) (0.3.2)\n",
      "Requirement already satisfied, skipping upgrade: tb-nightly<1.14.0a20190604,>=1.14.0a20190603 in /User/.pythonlibs/jupyter-1/lib/python3.6/site-packages (from tensorflow>=2.0.0b1->functions==0.1.0) (1.14.0a20190603)\n",
      "Requirement already satisfied, skipping upgrade: tf-estimator-nightly<1.14.0.dev2019060502,>=1.14.0.dev2019060501 in /User/.pythonlibs/jupyter-1/lib/python3.6/site-packages (from tensorflow>=2.0.0b1->functions==0.1.0) (1.14.0.dev2019060501)\n",
      "Requirement already satisfied, skipping upgrade: wrapt>=1.11.1 in /User/.pythonlibs/jupyter-1/lib/python3.6/site-packages (from tensorflow>=2.0.0b1->functions==0.1.0) (1.11.2)\n",
      "Requirement already satisfied, skipping upgrade: termcolor>=1.1.0 in /User/.pythonlibs/jupyter-1/lib/python3.6/site-packages (from tensorflow>=2.0.0b1->functions==0.1.0) (1.1.0)\n",
      "Requirement already satisfied, skipping upgrade: google-pasta>=0.1.6 in /User/.pythonlibs/jupyter-1/lib/python3.6/site-packages (from tensorflow>=2.0.0b1->functions==0.1.0) (0.1.8)\n",
      "Requirement already satisfied, skipping upgrade: grpcio-tools>=1.16.0 in /conda/lib/python3.6/site-packages (from v3io-frames>=0.6.5->functions==0.1.0) (1.26.0)\n",
      "Requirement already satisfied, skipping upgrade: googleapis-common-protos>=1.5.3 in /conda/lib/python3.6/site-packages (from v3io-frames>=0.6.5->functions==0.1.0) (1.6.0)\n",
      "Requirement already satisfied, skipping upgrade: azure-common~=1.1 in /User/.pythonlibs/jupyter-1/lib/python3.6/site-packages (from azure-servicefabric~=6.3.0.0->azure>=4.0.0->functions==0.1.0) (1.1.24)\n",
      "Requirement already satisfied, skipping upgrade: azure-nspkg>=2.0.0 in /User/.pythonlibs/jupyter-1/lib/python3.6/site-packages (from azure-servicefabric~=6.3.0.0->azure>=4.0.0->functions==0.1.0) (3.0.2)\n",
      "Requirement already satisfied, skipping upgrade: msrest<2.0.0,>=0.4.26 in /User/.pythonlibs/jupyter-1/lib/python3.6/site-packages (from azure-servicefabric~=6.3.0.0->azure>=4.0.0->functions==0.1.0) (0.6.10)\n",
      "Requirement already satisfied, skipping upgrade: azure-storage-common~=1.4 in /User/.pythonlibs/jupyter-1/lib/python3.6/site-packages (from azure-storage-file~=1.3->azure>=4.0.0->functions==0.1.0) (1.4.2)\n",
      "Requirement already satisfied, skipping upgrade: azure-cosmosdb-nspkg>=2.0.0 in /User/.pythonlibs/jupyter-1/lib/python3.6/site-packages (from azure-cosmosdb-table~=1.0->azure>=4.0.0->functions==0.1.0) (2.0.2)\n",
      "Requirement already satisfied, skipping upgrade: azure-mgmt-media~=1.0.0rc2 in /User/.pythonlibs/jupyter-1/lib/python3.6/site-packages (from azure-mgmt~=4.0->azure>=4.0.0->functions==0.1.0) (1.0.0)\n",
      "Requirement already satisfied, skipping upgrade: azure-mgmt-devspaces~=0.1.0 in /User/.pythonlibs/jupyter-1/lib/python3.6/site-packages (from azure-mgmt~=4.0->azure>=4.0.0->functions==0.1.0) (0.1.0)\n",
      "Requirement already satisfied, skipping upgrade: azure-mgmt-signalr~=0.1.0 in /User/.pythonlibs/jupyter-1/lib/python3.6/site-packages (from azure-mgmt~=4.0->azure>=4.0.0->functions==0.1.0) (0.1.1)\n",
      "Requirement already satisfied, skipping upgrade: azure-mgmt-network~=2.0 in /User/.pythonlibs/jupyter-1/lib/python3.6/site-packages (from azure-mgmt~=4.0->azure>=4.0.0->functions==0.1.0) (2.7.0)\n",
      "Requirement already satisfied, skipping upgrade: azure-mgmt-redis~=5.0 in /User/.pythonlibs/jupyter-1/lib/python3.6/site-packages (from azure-mgmt~=4.0->azure>=4.0.0->functions==0.1.0) (5.0.0)\n",
      "Requirement already satisfied, skipping upgrade: azure-mgmt-servicefabric~=0.2.0 in /User/.pythonlibs/jupyter-1/lib/python3.6/site-packages (from azure-mgmt~=4.0->azure>=4.0.0->functions==0.1.0) (0.2.0)\n",
      "Requirement already satisfied, skipping upgrade: azure-mgmt-loganalytics~=0.2.0 in /User/.pythonlibs/jupyter-1/lib/python3.6/site-packages (from azure-mgmt~=4.0->azure>=4.0.0->functions==0.1.0) (0.2.0)\n",
      "Requirement already satisfied, skipping upgrade: azure-mgmt-sql~=0.9.1 in /User/.pythonlibs/jupyter-1/lib/python3.6/site-packages (from azure-mgmt~=4.0->azure>=4.0.0->functions==0.1.0) (0.9.1)\n",
      "Requirement already satisfied, skipping upgrade: azure-mgmt-managementpartner~=0.1.0 in /User/.pythonlibs/jupyter-1/lib/python3.6/site-packages (from azure-mgmt~=4.0->azure>=4.0.0->functions==0.1.0) (0.1.1)\n",
      "Requirement already satisfied, skipping upgrade: azure-mgmt-search~=2.0 in /User/.pythonlibs/jupyter-1/lib/python3.6/site-packages (from azure-mgmt~=4.0->azure>=4.0.0->functions==0.1.0) (2.1.0)\n",
      "Requirement already satisfied, skipping upgrade: azure-mgmt-keyvault~=1.0 in /User/.pythonlibs/jupyter-1/lib/python3.6/site-packages (from azure-mgmt~=4.0->azure>=4.0.0->functions==0.1.0) (1.1.0)\n",
      "Requirement already satisfied, skipping upgrade: azure-mgmt-logic~=3.0 in /User/.pythonlibs/jupyter-1/lib/python3.6/site-packages (from azure-mgmt~=4.0->azure>=4.0.0->functions==0.1.0) (3.0.0)\n",
      "Requirement already satisfied, skipping upgrade: azure-mgmt-rdbms~=1.2 in /User/.pythonlibs/jupyter-1/lib/python3.6/site-packages (from azure-mgmt~=4.0->azure>=4.0.0->functions==0.1.0) (1.9.0)\n",
      "Requirement already satisfied, skipping upgrade: azure-mgmt-relay~=0.1.0 in /User/.pythonlibs/jupyter-1/lib/python3.6/site-packages (from azure-mgmt~=4.0->azure>=4.0.0->functions==0.1.0) (0.1.0)\n",
      "Requirement already satisfied, skipping upgrade: azure-mgmt-compute~=4.0 in /User/.pythonlibs/jupyter-1/lib/python3.6/site-packages (from azure-mgmt~=4.0->azure>=4.0.0->functions==0.1.0) (4.6.2)\n",
      "Requirement already satisfied, skipping upgrade: azure-mgmt-resource~=2.0 in /User/.pythonlibs/jupyter-1/lib/python3.6/site-packages (from azure-mgmt~=4.0->azure>=4.0.0->functions==0.1.0) (2.2.0)\n",
      "Requirement already satisfied, skipping upgrade: azure-mgmt-cosmosdb~=0.4.1 in /User/.pythonlibs/jupyter-1/lib/python3.6/site-packages (from azure-mgmt~=4.0->azure>=4.0.0->functions==0.1.0) (0.4.1)\n",
      "Requirement already satisfied, skipping upgrade: azure-mgmt-iothub~=0.5.0 in /User/.pythonlibs/jupyter-1/lib/python3.6/site-packages (from azure-mgmt~=4.0->azure>=4.0.0->functions==0.1.0) (0.5.0)\n",
      "Requirement already satisfied, skipping upgrade: azure-mgmt-datalake-store~=0.5.0 in /User/.pythonlibs/jupyter-1/lib/python3.6/site-packages (from azure-mgmt~=4.0->azure>=4.0.0->functions==0.1.0) (0.5.0)\n",
      "Requirement already satisfied, skipping upgrade: azure-mgmt-datalake-analytics~=0.6.0 in /User/.pythonlibs/jupyter-1/lib/python3.6/site-packages (from azure-mgmt~=4.0->azure>=4.0.0->functions==0.1.0) (0.6.0)\n",
      "Requirement already satisfied, skipping upgrade: azure-mgmt-cognitiveservices~=3.0 in /User/.pythonlibs/jupyter-1/lib/python3.6/site-packages (from azure-mgmt~=4.0->azure>=4.0.0->functions==0.1.0) (3.0.0)\n",
      "Requirement already satisfied, skipping upgrade: azure-mgmt-hanaonazure~=0.1.1 in /User/.pythonlibs/jupyter-1/lib/python3.6/site-packages (from azure-mgmt~=4.0->azure>=4.0.0->functions==0.1.0) (0.1.1)\n",
      "Requirement already satisfied, skipping upgrade: azure-mgmt-notificationhubs~=2.0 in /User/.pythonlibs/jupyter-1/lib/python3.6/site-packages (from azure-mgmt~=4.0->azure>=4.0.0->functions==0.1.0) (2.1.0)\n",
      "Requirement already satisfied, skipping upgrade: azure-mgmt-trafficmanager~=0.50.0 in /User/.pythonlibs/jupyter-1/lib/python3.6/site-packages (from azure-mgmt~=4.0->azure>=4.0.0->functions==0.1.0) (0.50.0)\n",
      "Requirement already satisfied, skipping upgrade: azure-mgmt-batch~=5.0 in /User/.pythonlibs/jupyter-1/lib/python3.6/site-packages (from azure-mgmt~=4.0->azure>=4.0.0->functions==0.1.0) (5.0.1)\n",
      "Requirement already satisfied, skipping upgrade: azure-mgmt-recoveryservicesbackup~=0.3.0 in /User/.pythonlibs/jupyter-1/lib/python3.6/site-packages (from azure-mgmt~=4.0->azure>=4.0.0->functions==0.1.0) (0.3.0)\n",
      "Requirement already satisfied, skipping upgrade: azure-mgmt-maps~=0.1.0 in /User/.pythonlibs/jupyter-1/lib/python3.6/site-packages (from azure-mgmt~=4.0->azure>=4.0.0->functions==0.1.0) (0.1.0)\n",
      "Requirement already satisfied, skipping upgrade: azure-mgmt-authorization~=0.50.0 in /User/.pythonlibs/jupyter-1/lib/python3.6/site-packages (from azure-mgmt~=4.0->azure>=4.0.0->functions==0.1.0) (0.50.0)\n",
      "Requirement already satisfied, skipping upgrade: azure-mgmt-consumption~=2.0 in /User/.pythonlibs/jupyter-1/lib/python3.6/site-packages (from azure-mgmt~=4.0->azure>=4.0.0->functions==0.1.0) (2.0.0)\n",
      "Requirement already satisfied, skipping upgrade: azure-mgmt-powerbiembedded~=2.0 in /User/.pythonlibs/jupyter-1/lib/python3.6/site-packages (from azure-mgmt~=4.0->azure>=4.0.0->functions==0.1.0) (2.0.0)\n",
      "Requirement already satisfied, skipping upgrade: azure-mgmt-iothubprovisioningservices~=0.2.0 in /User/.pythonlibs/jupyter-1/lib/python3.6/site-packages (from azure-mgmt~=4.0->azure>=4.0.0->functions==0.1.0) (0.2.0)\n",
      "Requirement already satisfied, skipping upgrade: azure-mgmt-datafactory~=0.6.0 in /User/.pythonlibs/jupyter-1/lib/python3.6/site-packages (from azure-mgmt~=4.0->azure>=4.0.0->functions==0.1.0) (0.6.0)\n",
      "Requirement already satisfied, skipping upgrade: azure-mgmt-containerregistry~=2.1 in /User/.pythonlibs/jupyter-1/lib/python3.6/site-packages (from azure-mgmt~=4.0->azure>=4.0.0->functions==0.1.0) (2.8.0)\n",
      "Requirement already satisfied, skipping upgrade: azure-mgmt-containerservice~=4.2 in /User/.pythonlibs/jupyter-1/lib/python3.6/site-packages (from azure-mgmt~=4.0->azure>=4.0.0->functions==0.1.0) (4.4.0)\n",
      "Requirement already satisfied, skipping upgrade: azure-mgmt-policyinsights~=0.1.0 in /User/.pythonlibs/jupyter-1/lib/python3.6/site-packages (from azure-mgmt~=4.0->azure>=4.0.0->functions==0.1.0) (0.1.0)\n",
      "Requirement already satisfied, skipping upgrade: azure-mgmt-recoveryservices~=0.3.0 in /User/.pythonlibs/jupyter-1/lib/python3.6/site-packages (from azure-mgmt~=4.0->azure>=4.0.0->functions==0.1.0) (0.3.0)\n",
      "Requirement already satisfied, skipping upgrade: azure-mgmt-datamigration~=1.0 in /User/.pythonlibs/jupyter-1/lib/python3.6/site-packages (from azure-mgmt~=4.0->azure>=4.0.0->functions==0.1.0) (1.0.0)\n",
      "Requirement already satisfied, skipping upgrade: azure-mgmt-eventhub~=2.1 in /User/.pythonlibs/jupyter-1/lib/python3.6/site-packages (from azure-mgmt~=4.0->azure>=4.0.0->functions==0.1.0) (2.6.0)\n",
      "Requirement already satisfied, skipping upgrade: azure-mgmt-servicebus~=0.5.1 in /User/.pythonlibs/jupyter-1/lib/python3.6/site-packages (from azure-mgmt~=4.0->azure>=4.0.0->functions==0.1.0) (0.5.3)\n",
      "Requirement already satisfied, skipping upgrade: azure-mgmt-subscription~=0.2.0 in /User/.pythonlibs/jupyter-1/lib/python3.6/site-packages (from azure-mgmt~=4.0->azure>=4.0.0->functions==0.1.0) (0.2.0)\n",
      "Requirement already satisfied, skipping upgrade: azure-mgmt-scheduler~=2.0 in /User/.pythonlibs/jupyter-1/lib/python3.6/site-packages (from azure-mgmt~=4.0->azure>=4.0.0->functions==0.1.0) (2.0.0)\n",
      "Requirement already satisfied, skipping upgrade: azure-mgmt-batchai~=2.0 in /User/.pythonlibs/jupyter-1/lib/python3.6/site-packages (from azure-mgmt~=4.0->azure>=4.0.0->functions==0.1.0) (2.0.0)\n",
      "Requirement already satisfied, skipping upgrade: azure-mgmt-dns~=2.0 in /User/.pythonlibs/jupyter-1/lib/python3.6/site-packages (from azure-mgmt~=4.0->azure>=4.0.0->functions==0.1.0) (2.1.0)\n",
      "Requirement already satisfied, skipping upgrade: azure-mgmt-devtestlabs~=2.2 in /User/.pythonlibs/jupyter-1/lib/python3.6/site-packages (from azure-mgmt~=4.0->azure>=4.0.0->functions==0.1.0) (2.2.0)\n",
      "Requirement already satisfied, skipping upgrade: azure-mgmt-msi~=0.2.0 in /User/.pythonlibs/jupyter-1/lib/python3.6/site-packages (from azure-mgmt~=4.0->azure>=4.0.0->functions==0.1.0) (0.2.0)\n",
      "Requirement already satisfied, skipping upgrade: azure-mgmt-monitor~=0.5.2 in /User/.pythonlibs/jupyter-1/lib/python3.6/site-packages (from azure-mgmt~=4.0->azure>=4.0.0->functions==0.1.0) (0.5.2)\n",
      "Requirement already satisfied, skipping upgrade: azure-mgmt-cdn~=3.0 in /User/.pythonlibs/jupyter-1/lib/python3.6/site-packages (from azure-mgmt~=4.0->azure>=4.0.0->functions==0.1.0) (3.1.0)\n",
      "Requirement already satisfied, skipping upgrade: azure-mgmt-machinelearningcompute~=0.4.1 in /User/.pythonlibs/jupyter-1/lib/python3.6/site-packages (from azure-mgmt~=4.0->azure>=4.0.0->functions==0.1.0) (0.4.1)\n",
      "Requirement already satisfied, skipping upgrade: azure-mgmt-advisor~=1.0 in /User/.pythonlibs/jupyter-1/lib/python3.6/site-packages (from azure-mgmt~=4.0->azure>=4.0.0->functions==0.1.0) (1.0.1)\n",
      "Requirement already satisfied, skipping upgrade: azure-mgmt-reservations~=0.2.1 in /User/.pythonlibs/jupyter-1/lib/python3.6/site-packages (from azure-mgmt~=4.0->azure>=4.0.0->functions==0.1.0) (0.2.1)\n",
      "Requirement already satisfied, skipping upgrade: azure-mgmt-web~=0.35.0 in /User/.pythonlibs/jupyter-1/lib/python3.6/site-packages (from azure-mgmt~=4.0->azure>=4.0.0->functions==0.1.0) (0.35.0)\n",
      "Requirement already satisfied, skipping upgrade: azure-mgmt-iotcentral~=0.1.0 in /User/.pythonlibs/jupyter-1/lib/python3.6/site-packages (from azure-mgmt~=4.0->azure>=4.0.0->functions==0.1.0) (0.1.0)\n",
      "Requirement already satisfied, skipping upgrade: azure-mgmt-managementgroups~=0.1.0 in /User/.pythonlibs/jupyter-1/lib/python3.6/site-packages (from azure-mgmt~=4.0->azure>=4.0.0->functions==0.1.0) (0.1.0)\n",
      "Requirement already satisfied, skipping upgrade: azure-mgmt-marketplaceordering~=0.1.0 in /User/.pythonlibs/jupyter-1/lib/python3.6/site-packages (from azure-mgmt~=4.0->azure>=4.0.0->functions==0.1.0) (0.1.0)\n",
      "Requirement already satisfied, skipping upgrade: azure-mgmt-commerce~=1.0 in /User/.pythonlibs/jupyter-1/lib/python3.6/site-packages (from azure-mgmt~=4.0->azure>=4.0.0->functions==0.1.0) (1.0.1)\n",
      "Requirement already satisfied, skipping upgrade: azure-mgmt-storage~=2.0 in /User/.pythonlibs/jupyter-1/lib/python3.6/site-packages (from azure-mgmt~=4.0->azure>=4.0.0->functions==0.1.0) (2.0.0)\n",
      "Requirement already satisfied, skipping upgrade: azure-mgmt-containerinstance~=1.0 in /User/.pythonlibs/jupyter-1/lib/python3.6/site-packages (from azure-mgmt~=4.0->azure>=4.0.0->functions==0.1.0) (1.5.0)\n",
      "Requirement already satisfied, skipping upgrade: azure-mgmt-eventgrid~=1.0 in /User/.pythonlibs/jupyter-1/lib/python3.6/site-packages (from azure-mgmt~=4.0->azure>=4.0.0->functions==0.1.0) (1.0.0)\n",
      "Requirement already satisfied, skipping upgrade: azure-mgmt-applicationinsights~=0.1.1 in /User/.pythonlibs/jupyter-1/lib/python3.6/site-packages (from azure-mgmt~=4.0->azure>=4.0.0->functions==0.1.0) (0.1.1)\n",
      "Requirement already satisfied, skipping upgrade: azure-mgmt-billing~=0.2.0 in /User/.pythonlibs/jupyter-1/lib/python3.6/site-packages (from azure-mgmt~=4.0->azure>=4.0.0->functions==0.1.0) (0.2.0)\n",
      "Requirement already satisfied, skipping upgrade: msrestazure<2.0.0,>=0.4.20 in /User/.pythonlibs/jupyter-1/lib/python3.6/site-packages (from azure-graphrbac~=0.40.0->azure>=4.0.0->functions==0.1.0) (0.6.2)\n",
      "Requirement already satisfied, skipping upgrade: cffi in /conda/lib/python3.6/site-packages (from azure-datalake-store~=0.0.18->azure>=4.0.0->functions==0.1.0) (1.13.2)\n",
      "Requirement already satisfied, skipping upgrade: MarkupSafe>=0.23 in /conda/lib/python3.6/site-packages (from Jinja2>=2.7->bokeh>=1.0.3->functions==0.1.0) (1.1.1)\n",
      "Requirement already satisfied, skipping upgrade: heapdict in /conda/lib/python3.6/site-packages (from zict>=0.1.3->distributed>=2.9.0->functions==0.1.0) (1.0.1)\n",
      "Requirement already satisfied, skipping upgrade: google-resumable-media<0.6dev,>=0.5.0 in /User/.pythonlibs/jupyter-1/lib/python3.6/site-packages (from google-cloud-storage>=1.13.0->kfp>=0.1.38->functions==0.1.0) (0.5.0)\n",
      "Requirement already satisfied, skipping upgrade: google-cloud-core<2.0dev,>=1.1.0 in /User/.pythonlibs/jupyter-1/lib/python3.6/site-packages (from google-cloud-storage>=1.13.0->kfp>=0.1.38->functions==0.1.0) (1.1.0)\n",
      "Requirement already satisfied, skipping upgrade: pyrsistent>=0.14.0 in /conda/lib/python3.6/site-packages (from jsonschema>=3.0.1->kfp>=0.1.38->functions==0.1.0) (0.15.6)\n",
      "Requirement already satisfied, skipping upgrade: importlib-metadata; python_version < \"3.8\" in /conda/lib/python3.6/site-packages (from jsonschema>=3.0.1->kfp>=0.1.38->functions==0.1.0) (1.3.0)\n",
      "Requirement already satisfied, skipping upgrade: cachetools<5.0,>=2.0.0 in /User/.pythonlibs/jupyter-1/lib/python3.6/site-packages (from google-auth>=1.6.1->kfp>=0.1.38->functions==0.1.0) (4.0.0)\n",
      "Requirement already satisfied, skipping upgrade: pyasn1-modules>=0.2.1 in /User/.pythonlibs/jupyter-1/lib/python3.6/site-packages (from google-auth>=1.6.1->kfp>=0.1.38->functions==0.1.0) (0.2.7)\n",
      "Requirement already satisfied, skipping upgrade: rsa<4.1,>=3.1.4 in /User/.pythonlibs/jupyter-1/lib/python3.6/site-packages (from google-auth>=1.6.1->kfp>=0.1.38->functions==0.1.0) (4.0)\n",
      "Requirement already satisfied, skipping upgrade: jupyterlab_server~=1.0.0 in /conda/lib/python3.6/site-packages (from jupyterlab>=0.35.4->nuclio-jupyter>=0.7.6->functions==0.1.0) (1.0.6)\n",
      "Requirement already satisfied, skipping upgrade: jupyter-client>=5.3.4 in /conda/lib/python3.6/site-packages (from notebook>=5.7.2->nuclio-jupyter>=0.7.6->functions==0.1.0) (5.3.4)\n",
      "Requirement already satisfied, skipping upgrade: terminado>=0.8.1 in /conda/lib/python3.6/site-packages (from notebook>=5.7.2->nuclio-jupyter>=0.7.6->functions==0.1.0) (0.8.3)\n",
      "Requirement already satisfied, skipping upgrade: ipykernel in /conda/lib/python3.6/site-packages (from notebook>=5.7.2->nuclio-jupyter>=0.7.6->functions==0.1.0) (5.1.3)\n",
      "Requirement already satisfied, skipping upgrade: traitlets>=4.2.1 in /conda/lib/python3.6/site-packages (from notebook>=5.7.2->nuclio-jupyter>=0.7.6->functions==0.1.0) (4.3.3)\n",
      "Requirement already satisfied, skipping upgrade: Send2Trash in /conda/lib/python3.6/site-packages (from notebook>=5.7.2->nuclio-jupyter>=0.7.6->functions==0.1.0) (1.5.0)\n",
      "Requirement already satisfied, skipping upgrade: jupyter-core>=4.6.0 in /conda/lib/python3.6/site-packages (from notebook>=5.7.2->nuclio-jupyter>=0.7.6->functions==0.1.0) (4.6.1)\n",
      "Requirement already satisfied, skipping upgrade: nbformat in /conda/lib/python3.6/site-packages (from notebook>=5.7.2->nuclio-jupyter>=0.7.6->functions==0.1.0) (4.4.0)\n",
      "Requirement already satisfied, skipping upgrade: ipython-genutils in /conda/lib/python3.6/site-packages (from notebook>=5.7.2->nuclio-jupyter>=0.7.6->functions==0.1.0) (0.2.0)\n",
      "Requirement already satisfied, skipping upgrade: pickleshare in /conda/lib/python3.6/site-packages (from ipython>=7.2->nuclio-jupyter>=0.7.6->functions==0.1.0) (0.7.5)\n",
      "Requirement already satisfied, skipping upgrade: prompt-toolkit!=3.0.0,!=3.0.1,<3.1.0,>=2.0.0 in /conda/lib/python3.6/site-packages (from ipython>=7.2->nuclio-jupyter>=0.7.6->functions==0.1.0) (3.0.2)\n",
      "Requirement already satisfied, skipping upgrade: pexpect; sys_platform != \"win32\" in /conda/lib/python3.6/site-packages (from ipython>=7.2->nuclio-jupyter>=0.7.6->functions==0.1.0) (4.7.0)\n",
      "Requirement already satisfied, skipping upgrade: jedi>=0.10 in /conda/lib/python3.6/site-packages (from ipython>=7.2->nuclio-jupyter>=0.7.6->functions==0.1.0) (0.15.1)\n",
      "Requirement already satisfied, skipping upgrade: decorator in /conda/lib/python3.6/site-packages (from ipython>=7.2->nuclio-jupyter>=0.7.6->functions==0.1.0) (4.4.1)\n",
      "Requirement already satisfied, skipping upgrade: backcall in /conda/lib/python3.6/site-packages (from ipython>=7.2->nuclio-jupyter>=0.7.6->functions==0.1.0) (0.1.0)\n",
      "Requirement already satisfied, skipping upgrade: pygments in /conda/lib/python3.6/site-packages (from ipython>=7.2->nuclio-jupyter>=0.7.6->functions==0.1.0) (2.5.2)\n",
      "Requirement already satisfied, skipping upgrade: bleach in /conda/lib/python3.6/site-packages (from nbconvert>=5.4->nuclio-jupyter>=0.7.6->functions==0.1.0) (3.1.0)\n",
      "Requirement already satisfied, skipping upgrade: mistune<2,>=0.8.1 in /conda/lib/python3.6/site-packages (from nbconvert>=5.4->nuclio-jupyter>=0.7.6->functions==0.1.0) (0.8.4)\n",
      "Requirement already satisfied, skipping upgrade: entrypoints>=0.2.2 in /conda/lib/python3.6/site-packages (from nbconvert>=5.4->nuclio-jupyter>=0.7.6->functions==0.1.0) (0.3)\n",
      "Requirement already satisfied, skipping upgrade: pandocfilters>=1.4.1 in /conda/lib/python3.6/site-packages (from nbconvert>=5.4->nuclio-jupyter>=0.7.6->functions==0.1.0) (1.4.2)\n",
      "Requirement already satisfied, skipping upgrade: testpath in /conda/lib/python3.6/site-packages (from nbconvert>=5.4->nuclio-jupyter>=0.7.6->functions==0.1.0) (0.4.4)\n",
      "Requirement already satisfied, skipping upgrade: defusedxml in /conda/lib/python3.6/site-packages (from nbconvert>=5.4->nuclio-jupyter>=0.7.6->functions==0.1.0) (0.6.0)\n",
      "Requirement already satisfied, skipping upgrade: isodate>=0.6.0 in /User/.pythonlibs/jupyter-1/lib/python3.6/site-packages (from msrest<2.0.0,>=0.4.26->azure-servicefabric~=6.3.0.0->azure>=4.0.0->functions==0.1.0) (0.6.0)\n",
      "Requirement already satisfied, skipping upgrade: azure-mgmt-nspkg>=2.0.0 in /User/.pythonlibs/jupyter-1/lib/python3.6/site-packages (from azure-mgmt-devspaces~=0.1.0->azure-mgmt~=4.0->azure>=4.0.0->functions==0.1.0) (3.0.2)\n",
      "Requirement already satisfied, skipping upgrade: azure-mgmt-datalake-nspkg>=2.0.0 in /User/.pythonlibs/jupyter-1/lib/python3.6/site-packages (from azure-mgmt-datalake-store~=0.5.0->azure-mgmt~=4.0->azure>=4.0.0->functions==0.1.0) (3.0.1)\n",
      "Requirement already satisfied, skipping upgrade: pycparser in /conda/lib/python3.6/site-packages (from cffi->azure-datalake-store~=0.0.18->azure>=4.0.0->functions==0.1.0) (2.19)\n",
      "Requirement already satisfied, skipping upgrade: google-api-core<2.0.0dev,>=1.14.0 in /User/.pythonlibs/jupyter-1/lib/python3.6/site-packages (from google-cloud-core<2.0dev,>=1.1.0->google-cloud-storage>=1.13.0->kfp>=0.1.38->functions==0.1.0) (1.15.0)\n",
      "Requirement already satisfied, skipping upgrade: zipp>=0.5 in /conda/lib/python3.6/site-packages (from importlib-metadata; python_version < \"3.8\"->jsonschema>=3.0.1->kfp>=0.1.38->functions==0.1.0) (0.6.0)\n",
      "Requirement already satisfied, skipping upgrade: pyasn1<0.5.0,>=0.4.6 in /User/.pythonlibs/jupyter-1/lib/python3.6/site-packages (from pyasn1-modules>=0.2.1->google-auth>=1.6.1->kfp>=0.1.38->functions==0.1.0) (0.4.8)\n",
      "Requirement already satisfied, skipping upgrade: json5 in /conda/lib/python3.6/site-packages (from jupyterlab_server~=1.0.0->jupyterlab>=0.35.4->nuclio-jupyter>=0.7.6->functions==0.1.0) (0.8.5)\n",
      "Requirement already satisfied, skipping upgrade: wcwidth in /conda/lib/python3.6/site-packages (from prompt-toolkit!=3.0.0,!=3.0.1,<3.1.0,>=2.0.0->ipython>=7.2->nuclio-jupyter>=0.7.6->functions==0.1.0) (0.1.7)\n",
      "Requirement already satisfied, skipping upgrade: ptyprocess>=0.5 in /conda/lib/python3.6/site-packages (from pexpect; sys_platform != \"win32\"->ipython>=7.2->nuclio-jupyter>=0.7.6->functions==0.1.0) (0.6.0)\n",
      "Requirement already satisfied, skipping upgrade: parso>=0.5.0 in /conda/lib/python3.6/site-packages (from jedi>=0.10->ipython>=7.2->nuclio-jupyter>=0.7.6->functions==0.1.0) (0.5.2)\n",
      "Requirement already satisfied, skipping upgrade: webencodings in /conda/lib/python3.6/site-packages (from bleach->nbconvert>=5.4->nuclio-jupyter>=0.7.6->functions==0.1.0) (0.5.1)\n",
      "Requirement already satisfied, skipping upgrade: more-itertools in /conda/lib/python3.6/site-packages (from zipp>=0.5->importlib-metadata; python_version < \"3.8\"->jsonschema>=3.0.1->kfp>=0.1.38->functions==0.1.0) (8.0.2)\n",
      "Building wheels for collected packages: functions\n",
      "  Running setup.py bdist_wheel for functions ... \u001b[?25ldone\n",
      "\u001b[?25h  Stored in directory: /tmp/pip-ephem-wheel-cache-jxdio3ab/wheels/2b/c7/ec/2c6ddbe3a11b59aa979259c6f2a12f1c7b8203c9e4c844ebe5\n",
      "Successfully built functions\n",
      "Installing collected packages: functions\n",
      "  Found existing installation: functions 0.1.0\n",
      "    Can't uninstall 'functions'. No files were found to uninstall.\n",
      "Successfully installed functions-0.1.0\n"
     ]
    }
   ],
   "source": [
    "    !pip uninstall -y mlrun\n",
    "    !pip install git+https://github.com/mlrun/mlrun.git@development\n",
    "    !pip install -U git+https://github.com/yjb-ds/functions-demo.git"
   ]
  },
  {
   "cell_type": "markdown",
   "metadata": {},
   "source": [
    "<a id=\"nuclio\"></a>\n",
    "_______________________________________________________________________________"
   ]
  },
  {
   "cell_type": "markdown",
   "metadata": {},
   "source": [
    "## **nuclio code section**"
   ]
  },
  {
   "cell_type": "markdown",
   "metadata": {},
   "source": [
    "If you have never run nuclio functions in your notebooks, please uncomment and run the following:"
   ]
  },
  {
   "cell_type": "markdown",
   "metadata": {
    "jupyter": {
     "outputs_hidden": true
    }
   },
   "source": [
    "    !pip install nuclio-jupyter"
   ]
  },
  {
   "cell_type": "code",
   "execution_count": 6,
   "metadata": {},
   "outputs": [],
   "source": [
    "# nuclio: ignore\n",
    "import nuclio"
   ]
  },
  {
   "cell_type": "markdown",
   "metadata": {},
   "source": [
    "Install the following packages so they are available to the function:"
   ]
  },
  {
   "cell_type": "code",
   "execution_count": 7,
   "metadata": {},
   "outputs": [],
   "source": [
    "%%nuclio cmd -c\n",
    "pip install kfserving==0.2.0\n",
    "pip install numpy==1.16.4 \n",
    "pip install tensorflow==2.0.0b1\n",
    "pip install pandas==0.25.3\n",
    "pip install azure\n",
    "pip install joblib\n",
    "pip install git+https://github.com/mlrun/mlrun.git@development\n",
    "pip install git+https://github.com/yjb-ds/functions-demo.git"
   ]
  },
  {
   "cell_type": "code",
   "execution_count": 8,
   "metadata": {},
   "outputs": [
    {
     "ename": "ModuleNotFoundError",
     "evalue": "No module named 'functions'",
     "output_type": "error",
     "traceback": [
      "\u001b[0;31m---------------------------------------------------------------------------\u001b[0m",
      "\u001b[0;31mModuleNotFoundError\u001b[0m                       Traceback (most recent call last)",
      "\u001b[0;32m<ipython-input-8-651a07c3b738>\u001b[0m in \u001b[0;36m<module>\u001b[0;34m\u001b[0m\n\u001b[1;32m      8\u001b[0m \u001b[0;32mfrom\u001b[0m \u001b[0mtensorflow\u001b[0m\u001b[0;34m.\u001b[0m\u001b[0mkeras\u001b[0m\u001b[0;34m.\u001b[0m\u001b[0mmodels\u001b[0m \u001b[0;32mimport\u001b[0m \u001b[0mSequential\u001b[0m\u001b[0;34m\u001b[0m\u001b[0;34m\u001b[0m\u001b[0m\n\u001b[1;32m      9\u001b[0m \u001b[0;34m\u001b[0m\u001b[0m\n\u001b[0;32m---> 10\u001b[0;31m from functions.models import (model_gen,\n\u001b[0m\u001b[1;32m     11\u001b[0m                               \u001b[0mFeaturesEngineer\u001b[0m\u001b[0;34m,\u001b[0m\u001b[0;34m\u001b[0m\u001b[0;34m\u001b[0m\u001b[0m\n\u001b[1;32m     12\u001b[0m                               pipeline_load)\n",
      "\u001b[0;31mModuleNotFoundError\u001b[0m: No module named 'functions'"
     ]
    }
   ],
   "source": [
    "import warnings\n",
    "warnings.simplefilter(action=\"ignore\", category=FutureWarning)\n",
    "\n",
    "import kfserving\n",
    "import numpy as np\n",
    "import joblib\n",
    "from typing import List\n",
    "from tensorflow.keras.models import Sequential\n",
    "\n",
    "from functions.models import (model_gen,\n",
    "                              FeaturesEngineer,\n",
    "                              pipeline_load)\n",
    "\n",
    "from sklearn.preprocessing import StandardScaler\n",
    "from sklearn.pipeline import make_pipeline, Pipeline\n",
    "\n",
    "\n",
    "class MyKerasClassifier(kfserving.KFModel):\n",
    "    def __init__(self,\n",
    "                 name: str,\n",
    "                 model_dir: str,\n",
    "                 classifier: Sequential = None):\n",
    "        \"\"\"TFKerasClassifier\n",
    "        \n",
    "        Server model wrapper.\n",
    "        \n",
    "        :param name:            model name\n",
    "        :param model_dir:       path of stored model\n",
    "        :param classifier:      class type of classifier model\n",
    "        \n",
    "        \"\"\"\n",
    "        super().__init__(name)\n",
    "        self.name = name\n",
    "        self.model_dir = model_dir\n",
    "        if classifier:\n",
    "            self.ready = True\n",
    "\n",
    "    def load(self):\n",
    "        \"\"\"Load model from storage.\n",
    "        \n",
    "        Note that loading to load a model we specify only a folder. Our custom\n",
    "        loader takes care of the details.\n",
    "        \"\"\"\n",
    "        self.classifier = pipeline_load(self.model_dir)\n",
    "    \n",
    "    def predict(self, body):\n",
    "        \"\"\"Generate model predictions from sample.\n",
    "        \n",
    "        :param body: A list of observations, each of which is an 1-dimensional feature vector.\n",
    "            \n",
    "        Returns model predictions as a `List`, one for each row in the `body` input `List`.\n",
    "        \"\"\"\n",
    "        try:\n",
    "            feats = np.asarray(body['instances'])\n",
    "            result: np.ndarray = self.classifier.predict(feats)\n",
    "            return result.tolist()\n",
    "        except Exception as e:\n",
    "            raise Exception(f\"Failed to predict {e}\")"
   ]
  },
  {
   "cell_type": "code",
   "execution_count": null,
   "metadata": {},
   "outputs": [],
   "source": [
    "# nuclio: end-code"
   ]
  },
  {
   "cell_type": "markdown",
   "metadata": {},
   "source": [
    "<a id=\"deploy\"></a>\n",
    "_______________________________________________________________________________"
   ]
  },
  {
   "cell_type": "markdown",
   "metadata": {},
   "source": [
    "## **deploy**"
   ]
  },
  {
   "cell_type": "code",
   "execution_count": null,
   "metadata": {},
   "outputs": [],
   "source": [
    "from mlrun import new_model_server, mount_v3io"
   ]
  },
  {
   "cell_type": "code",
   "execution_count": 10,
   "metadata": {},
   "outputs": [],
   "source": [
    "TARGET_PATH = \"/User/mlrun/simdata\"\n",
    "MODEL_NAME = \"tfkeras\""
   ]
  },
  {
   "cell_type": "code",
   "execution_count": 11,
   "metadata": {},
   "outputs": [],
   "source": [
    "fn = new_model_server(MODEL_NAME, \n",
    "                      models={\"tfkeras_joblib\": TARGET_PATH}, \n",
    "                      model_class=\"MyKerasClassifier\").apply(mount_v3io())"
   ]
  },
  {
   "cell_type": "markdown",
   "metadata": {},
   "source": [
    "While debugging your project code, you may want to set the following flag to `True` in order to ensure that all the layers in your image get rebuilt and your changes included:"
   ]
  },
  {
   "cell_type": "code",
   "execution_count": 12,
   "metadata": {},
   "outputs": [],
   "source": [
    "fn.spec.no_cache=True"
   ]
  },
  {
   "cell_type": "markdown",
   "metadata": {},
   "source": [
    "After running the following cell, you can start watching the function's deployment by selecting **Projects** in the Iguazio platform UI, and clicking on the project name, and selecting the correct function and version:"
   ]
  },
  {
   "cell_type": "code",
   "execution_count": null,
   "metadata": {},
   "outputs": [
    {
     "name": "stdout",
     "output_type": "stream",
     "text": [
      "[mlrun] 2020-01-04 16:13:35,635 deploy started\n",
      "[nuclio] 2020-01-04 16:13:35,662 project name not found created new (mlrun-demos)\n"
     ]
    }
   ],
   "source": [
    "addr = fn.deploy(project=(\"mlrun-demos\"))"
   ]
  },
  {
   "cell_type": "markdown",
   "metadata": {},
   "source": [
    "<a id=\"deploy\"></a>\n",
    "_______________________________________________________________________________"
   ]
  },
  {
   "cell_type": "markdown",
   "metadata": {},
   "source": [
    "## **test**"
   ]
  },
  {
   "cell_type": "code",
   "execution_count": 1,
   "metadata": {},
   "outputs": [],
   "source": [
    "import pandas as pd\n",
    "import requests\n",
    "import json"
   ]
  },
  {
   "cell_type": "markdown",
   "metadata": {},
   "source": [
    "#### grab 2 rows of data - balanced dataset"
   ]
  },
  {
   "cell_type": "code",
   "execution_count": 2,
   "metadata": {},
   "outputs": [],
   "source": [
    "features = pd.read_csv(\"x_test_50.csv\").iloc[:2,:]\n",
    "labels = pd.read_csv(\"y_test_50.csv\").iloc[:2,:]"
   ]
  },
  {
   "cell_type": "markdown",
   "metadata": {},
   "source": [
    "#### create an event and wrap it in json"
   ]
  },
  {
   "cell_type": "code",
   "execution_count": 3,
   "metadata": {},
   "outputs": [],
   "source": [
    "event = {\"instances\" : features.values.tolist()}"
   ]
  },
  {
   "cell_type": "markdown",
   "metadata": {},
   "source": [
    "If the notebook is restarted for some reason, however the function has already been deployed, simply uncomment the following cell and paste in the original endpoint here.  You can \n",
    "retrieve the function's enpoint address from the platform ui under **Projects**. Look for\n",
    "the project name you gave to the deployment of interest, in our case **mlrun-demos**.\n",
    "Click on the function in the project, copy the 'Invocation URL' and paste here:"
   ]
  },
  {
   "cell_type": "code",
   "execution_count": 4,
   "metadata": {},
   "outputs": [],
   "source": [
    "# addr = \"3.137.70.243:31811\""
   ]
  },
  {
   "cell_type": "code",
   "execution_count": 5,
   "metadata": {},
   "outputs": [
    {
     "ename": "NameError",
     "evalue": "name 'addr' is not defined",
     "output_type": "error",
     "traceback": [
      "\u001b[0;31m---------------------------------------------------------------------------\u001b[0m",
      "\u001b[0;31mNameError\u001b[0m                                 Traceback (most recent call last)",
      "\u001b[0;32m<ipython-input-5-387f82470ebe>\u001b[0m in \u001b[0;36m<module>\u001b[0;34m\u001b[0m\n\u001b[0;32m----> 1\u001b[0;31m \u001b[0mresp\u001b[0m \u001b[0;34m=\u001b[0m \u001b[0mrequests\u001b[0m\u001b[0;34m.\u001b[0m\u001b[0mpost\u001b[0m\u001b[0;34m(\u001b[0m\u001b[0maddr\u001b[0m \u001b[0;34m+\u001b[0m \u001b[0;34m\"/tfkeras_joblib/predict\"\u001b[0m\u001b[0;34m,\u001b[0m \u001b[0mjson\u001b[0m\u001b[0;34m=\u001b[0m\u001b[0mevent\u001b[0m\u001b[0;34m)\u001b[0m\u001b[0;34m\u001b[0m\u001b[0;34m\u001b[0m\u001b[0m\n\u001b[0m\u001b[1;32m      2\u001b[0m \u001b[0;34m\u001b[0m\u001b[0m\n\u001b[1;32m      3\u001b[0m \u001b[0mjson\u001b[0m\u001b[0;34m.\u001b[0m\u001b[0mloads\u001b[0m\u001b[0;34m(\u001b[0m\u001b[0mresp\u001b[0m\u001b[0;34m.\u001b[0m\u001b[0mcontent\u001b[0m\u001b[0;34m)\u001b[0m\u001b[0;34m\u001b[0m\u001b[0;34m\u001b[0m\u001b[0m\n",
      "\u001b[0;31mNameError\u001b[0m: name 'addr' is not defined"
     ]
    }
   ],
   "source": [
    "resp = requests.post(addr + \"/tfkeras_joblib/predict\", json=event)\n",
    "\n",
    "json.loads(resp.content)"
   ]
  },
  {
   "cell_type": "code",
   "execution_count": null,
   "metadata": {},
   "outputs": [],
   "source": []
  }
 ],
 "metadata": {
  "kernelspec": {
   "display_name": "Python 3",
   "language": "python",
   "name": "python3"
  },
  "language_info": {
   "codemirror_mode": {
    "name": "ipython",
    "version": 3
   },
   "file_extension": ".py",
   "mimetype": "text/x-python",
   "name": "python",
   "nbconvert_exporter": "python",
   "pygments_lexer": "ipython3",
   "version": "3.6.8"
  }
 },
 "nbformat": 4,
 "nbformat_minor": 4
}
