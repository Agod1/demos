{
 "cells": [
  {
   "cell_type": "markdown",
   "metadata": {},
   "source": [
    "# Deploy a Serverless Model Server with Nuclio-KFServing\n",
    "  --------------------------------------------------------------------\n",
    "\n",
    "The following notebook demonstrates how to deploy an XGBoost model using nuclio + KFServing (a.k.a <b>Nuclio-serving</b>)\n",
    "\n",
    "#### **notebook how-to's**\n",
    "* Write and test model serving (KFServing) class in a notebook.\n",
    "* Deploy the model server as a Nuclio-serving function.\n",
    "* Invoke and test the serving function."
   ]
  },
  {
   "cell_type": "markdown",
   "metadata": {},
   "source": [
    "<a id='top'></a>\n",
    "#### **steps**\n",
    "**[define a new function and its dependencies](#define-function)**<br>\n",
    "**[test the model serving class locally](#test-locally)**<br>\n",
    "**[deploy our serving class using as a serverless function](#deploy)**<br>\n",
    "**[test our model server using HTTP request](#test-model-server)**<br>"
   ]
  },
  {
   "cell_type": "code",
   "execution_count": 1,
   "metadata": {},
   "outputs": [],
   "source": [
    "# nuclio: ignore\n",
    "# if the nuclio-jupyter package is not installed run !pip install nuclio-jupyter\n",
    "import nuclio "
   ]
  },
  {
   "cell_type": "markdown",
   "metadata": {},
   "source": [
    "<a id='define-function'></a>\n",
    "### **define a new function and its dependencies**"
   ]
  },
  {
   "cell_type": "code",
   "execution_count": 3,
   "metadata": {
    "collapsed": true,
    "jupyter": {
     "outputs_hidden": true
    }
   },
   "outputs": [
    {
     "name": "stdout",
     "output_type": "stream",
     "text": [
      "Requirement already up-to-date: kfserving in /User/.pythonlibs/lib/python3.6/site-packages (0.2.2.1)\n",
      "Requirement already satisfied, skipping upgrade: tornado>=1.4.1 in /User/.pythonlibs/lib/python3.6/site-packages (from kfserving) (5.1.1)\n",
      "Requirement already satisfied, skipping upgrade: numpy>=1.17.3 in /User/.pythonlibs/lib/python3.6/site-packages (from kfserving) (1.18.1)\n",
      "Requirement already satisfied, skipping upgrade: six>=1.10 in /conda/lib/python3.6/site-packages (from kfserving) (1.12.0)\n",
      "Requirement already satisfied, skipping upgrade: azure-storage-blob<=2.1.0,>=1.3.0 in /User/.pythonlibs/lib/python3.6/site-packages (from kfserving) (1.5.0)\n",
      "Requirement already satisfied, skipping upgrade: certifi>=14.05.14 in /conda/lib/python3.6/site-packages (from kfserving) (2019.9.11)\n",
      "Requirement already satisfied, skipping upgrade: table-logger>=0.3.5 in /User/.pythonlibs/lib/python3.6/site-packages (from kfserving) (0.3.6)\n",
      "Requirement already satisfied, skipping upgrade: argparse>=1.4.0 in /User/.pythonlibs/lib/python3.6/site-packages (from kfserving) (1.4.0)\n",
      "Requirement already satisfied, skipping upgrade: kubernetes>=10.0.1 in /User/.pythonlibs/lib/python3.6/site-packages (from kfserving) (10.0.1)\n",
      "Requirement already satisfied, skipping upgrade: adal>=1.2.2 in /User/.pythonlibs/lib/python3.6/site-packages (from kfserving) (1.2.2)\n",
      "Requirement already satisfied, skipping upgrade: python-dateutil>=2.5.3 in /conda/lib/python3.6/site-packages (from kfserving) (2.8.0)\n",
      "Requirement already satisfied, skipping upgrade: google-cloud-storage>=1.16.0 in /User/.pythonlibs/lib/python3.6/site-packages (from kfserving) (1.23.0)\n",
      "Requirement already satisfied, skipping upgrade: setuptools>=21.0.0 in /conda/lib/python3.6/site-packages (from kfserving) (41.4.0)\n",
      "Requirement already satisfied, skipping upgrade: urllib3>=1.15.1 in /conda/lib/python3.6/site-packages (from kfserving) (1.24.2)\n",
      "Requirement already satisfied, skipping upgrade: minio>=4.0.9 in /User/.pythonlibs/lib/python3.6/site-packages (from kfserving) (5.0.5)\n",
      "Requirement already satisfied, skipping upgrade: azure-common>=1.1.5 in /User/.pythonlibs/lib/python3.6/site-packages (from azure-storage-blob<=2.1.0,>=1.3.0->kfserving) (1.1.23)\n",
      "Requirement already satisfied, skipping upgrade: azure-storage-common~=1.4 in /User/.pythonlibs/lib/python3.6/site-packages (from azure-storage-blob<=2.1.0,>=1.3.0->kfserving) (1.4.2)\n",
      "Requirement already satisfied, skipping upgrade: google-auth>=1.0.1 in /User/.pythonlibs/lib/python3.6/site-packages (from kubernetes>=10.0.1->kfserving) (1.10.0)\n",
      "Requirement already satisfied, skipping upgrade: requests in /conda/lib/python3.6/site-packages (from kubernetes>=10.0.1->kfserving) (2.22.0)\n",
      "Requirement already satisfied, skipping upgrade: pyyaml>=3.12 in /conda/lib/python3.6/site-packages (from kubernetes>=10.0.1->kfserving) (5.1.2)\n",
      "Requirement already satisfied, skipping upgrade: websocket-client!=0.40.0,!=0.41.*,!=0.42.*,>=0.32.0 in /User/.pythonlibs/lib/python3.6/site-packages (from kubernetes>=10.0.1->kfserving) (0.56.0)\n",
      "Requirement already satisfied, skipping upgrade: requests-oauthlib in /User/.pythonlibs/lib/python3.6/site-packages (from kubernetes>=10.0.1->kfserving) (1.3.0)\n",
      "Requirement already satisfied, skipping upgrade: PyJWT>=1.0.0 in /User/.pythonlibs/lib/python3.6/site-packages (from adal>=1.2.2->kfserving) (1.7.1)\n",
      "Requirement already satisfied, skipping upgrade: cryptography>=1.1.0 in /conda/lib/python3.6/site-packages (from adal>=1.2.2->kfserving) (2.8)\n",
      "Requirement already satisfied, skipping upgrade: google-resumable-media<0.6dev,>=0.5.0 in /User/.pythonlibs/lib/python3.6/site-packages (from google-cloud-storage>=1.16.0->kfserving) (0.5.0)\n",
      "Requirement already satisfied, skipping upgrade: google-cloud-core<2.0dev,>=1.0.3 in /User/.pythonlibs/lib/python3.6/site-packages (from google-cloud-storage>=1.16.0->kfserving) (1.1.0)\n",
      "Requirement already satisfied, skipping upgrade: pytz in /conda/lib/python3.6/site-packages (from minio>=4.0.9->kfserving) (2019.3)\n",
      "Requirement already satisfied, skipping upgrade: pyasn1-modules>=0.2.1 in /User/.pythonlibs/lib/python3.6/site-packages (from google-auth>=1.0.1->kubernetes>=10.0.1->kfserving) (0.2.7)\n",
      "Requirement already satisfied, skipping upgrade: rsa<4.1,>=3.1.4 in /User/.pythonlibs/lib/python3.6/site-packages (from google-auth>=1.0.1->kubernetes>=10.0.1->kfserving) (4.0)\n",
      "Requirement already satisfied, skipping upgrade: cachetools<5.0,>=2.0.0 in /User/.pythonlibs/lib/python3.6/site-packages (from google-auth>=1.0.1->kubernetes>=10.0.1->kfserving) (4.0.0)\n",
      "Requirement already satisfied, skipping upgrade: chardet<3.1.0,>=3.0.2 in /conda/lib/python3.6/site-packages (from requests->kubernetes>=10.0.1->kfserving) (3.0.4)\n",
      "Requirement already satisfied, skipping upgrade: idna<2.9,>=2.5 in /conda/lib/python3.6/site-packages (from requests->kubernetes>=10.0.1->kfserving) (2.8)\n",
      "Requirement already satisfied, skipping upgrade: oauthlib>=3.0.0 in /User/.pythonlibs/lib/python3.6/site-packages (from requests-oauthlib->kubernetes>=10.0.1->kfserving) (3.1.0)\n",
      "Requirement already satisfied, skipping upgrade: cffi!=1.11.3,>=1.8 in /conda/lib/python3.6/site-packages (from cryptography>=1.1.0->adal>=1.2.2->kfserving) (1.13.0)\n",
      "Requirement already satisfied, skipping upgrade: google-api-core<2.0.0dev,>=1.14.0 in /User/.pythonlibs/lib/python3.6/site-packages (from google-cloud-core<2.0dev,>=1.0.3->google-cloud-storage>=1.16.0->kfserving) (1.15.0)\n",
      "Requirement already satisfied, skipping upgrade: pyasn1<0.5.0,>=0.4.6 in /User/.pythonlibs/lib/python3.6/site-packages (from pyasn1-modules>=0.2.1->google-auth>=1.0.1->kubernetes>=10.0.1->kfserving) (0.4.8)\n",
      "Requirement already satisfied, skipping upgrade: pycparser in /conda/lib/python3.6/site-packages (from cffi!=1.11.3,>=1.8->cryptography>=1.1.0->adal>=1.2.2->kfserving) (2.19)\n",
      "Requirement already satisfied, skipping upgrade: googleapis-common-protos<2.0dev,>=1.6.0 in /conda/lib/python3.6/site-packages (from google-api-core<2.0.0dev,>=1.14.0->google-cloud-core<2.0dev,>=1.0.3->google-cloud-storage>=1.16.0->kfserving) (1.6.0)\n",
      "Requirement already satisfied, skipping upgrade: protobuf>=3.4.0 in /conda/lib/python3.6/site-packages (from google-api-core<2.0.0dev,>=1.14.0->google-cloud-core<2.0dev,>=1.0.3->google-cloud-storage>=1.16.0->kfserving) (3.10.0)\n",
      "Requirement already satisfied: numpy in /User/.pythonlibs/lib/python3.6/site-packages (1.18.1)\n",
      "Requirement already satisfied: xgboost in /User/.pythonlibs/lib/python3.6/site-packages (0.90)\n",
      "Requirement already satisfied: scipy in /conda/lib/python3.6/site-packages (from xgboost) (1.3.1)\n",
      "Requirement already satisfied: numpy in /User/.pythonlibs/lib/python3.6/site-packages (from xgboost) (1.18.1)\n",
      "Collecting git+https://github.com/mlrun/mlrun@development\n",
      "  Cloning https://github.com/mlrun/mlrun (to revision development) to /tmp/pip-req-build-zq43fqef\n",
      "Branch development set up to track remote branch development from origin.\n",
      "Switched to a new branch 'development'\n",
      "Requirement already satisfied (use --upgrade to upgrade): mlrun==0.4.1 from git+https://github.com/mlrun/mlrun@development in /User/.pythonlibs/lib/python3.6/site-packages\n",
      "Requirement already satisfied: Flask>=1.1.1 in /User/.pythonlibs/lib/python3.6/site-packages (from mlrun==0.4.1) (1.1.1)\n",
      "Requirement already satisfied: GitPython>=2.1.0 in /conda/lib/python3.6/site-packages (from mlrun==0.4.1) (3.0.4)\n",
      "Requirement already satisfied: aiohttp>=3.5.0 in /User/.pythonlibs/lib/python3.6/site-packages (from mlrun==0.4.1) (3.6.2)\n",
      "Requirement already satisfied: boto3>=1.9 in /conda/lib/python3.6/site-packages (from mlrun==0.4.1) (1.10.0)\n",
      "Requirement already satisfied: click>=7.0 in /conda/lib/python3.6/site-packages (from mlrun==0.4.1) (7.0)\n",
      "Requirement already satisfied: gunicorn==19.9.0 in /User/.pythonlibs/lib/python3.6/site-packages (from mlrun==0.4.1) (19.9.0)\n",
      "Requirement already satisfied: kfp>=0.1.29 in /User/.pythonlibs/lib/python3.6/site-packages (from mlrun==0.4.1) (0.1.38)\n",
      "Requirement already satisfied: nest-asyncio>=1.0.0 in /User/.pythonlibs/lib/python3.6/site-packages (from mlrun==0.4.1) (1.2.1)\n",
      "Requirement already satisfied: nuclio-jupyter>=0.8.0 in /User/.pythonlibs/lib/python3.6/site-packages (from mlrun==0.4.1) (0.8.0)\n",
      "Requirement already satisfied: nuclio-sdk>=0.0.3 in /conda/lib/python3.6/site-packages (from mlrun==0.4.1) (0.0.5)\n",
      "Requirement already satisfied: pandas>=0.23.0 in /conda/lib/python3.6/site-packages (from mlrun==0.4.1) (0.24.2)\n",
      "Requirement already satisfied: pyyaml>=5.1.0 in /conda/lib/python3.6/site-packages (from mlrun==0.4.1) (5.1.2)\n",
      "Requirement already satisfied: requests>=2.20.1 in /conda/lib/python3.6/site-packages (from mlrun==0.4.1) (2.22.0)\n",
      "Requirement already satisfied: sqlalchemy==1.3.11 in /User/.pythonlibs/lib/python3.6/site-packages (from mlrun==0.4.1) (1.3.11)\n",
      "Requirement already satisfied: tabulate<=0.8.3,>=0.8.0 in /User/.pythonlibs/lib/python3.6/site-packages (from mlrun==0.4.1) (0.8.3)\n",
      "Requirement already satisfied: itsdangerous>=0.24 in /User/.pythonlibs/lib/python3.6/site-packages (from Flask>=1.1.1->mlrun==0.4.1) (1.1.0)\n",
      "Requirement already satisfied: Jinja2>=2.10.1 in /conda/lib/python3.6/site-packages (from Flask>=1.1.1->mlrun==0.4.1) (2.10.3)\n",
      "Requirement already satisfied: Werkzeug>=0.15 in /User/.pythonlibs/lib/python3.6/site-packages (from Flask>=1.1.1->mlrun==0.4.1) (0.16.0)\n",
      "Requirement already satisfied: gitdb2>=2.0.0 in /conda/lib/python3.6/site-packages (from GitPython>=2.1.0->mlrun==0.4.1) (2.0.6)\n",
      "Requirement already satisfied: typing-extensions>=3.6.5; python_version < \"3.7\" in /User/.pythonlibs/lib/python3.6/site-packages (from aiohttp>=3.5.0->mlrun==0.4.1) (3.7.4.1)\n",
      "Requirement already satisfied: idna-ssl>=1.0; python_version < \"3.7\" in /User/.pythonlibs/lib/python3.6/site-packages (from aiohttp>=3.5.0->mlrun==0.4.1) (1.1.0)\n",
      "Requirement already satisfied: yarl<2.0,>=1.0 in /User/.pythonlibs/lib/python3.6/site-packages (from aiohttp>=3.5.0->mlrun==0.4.1) (1.4.2)\n",
      "Requirement already satisfied: attrs>=17.3.0 in /conda/lib/python3.6/site-packages (from aiohttp>=3.5.0->mlrun==0.4.1) (19.3.0)\n",
      "Requirement already satisfied: multidict<5.0,>=4.5 in /User/.pythonlibs/lib/python3.6/site-packages (from aiohttp>=3.5.0->mlrun==0.4.1) (4.7.1)\n",
      "Requirement already satisfied: async-timeout<4.0,>=3.0 in /User/.pythonlibs/lib/python3.6/site-packages (from aiohttp>=3.5.0->mlrun==0.4.1) (3.0.1)\n",
      "Requirement already satisfied: chardet<4.0,>=2.0 in /conda/lib/python3.6/site-packages (from aiohttp>=3.5.0->mlrun==0.4.1) (3.0.4)\n",
      "Requirement already satisfied: jmespath<1.0.0,>=0.7.1 in /conda/lib/python3.6/site-packages (from boto3>=1.9->mlrun==0.4.1) (0.9.4)\n",
      "Requirement already satisfied: botocore<1.14.0,>=1.13.0 in /conda/lib/python3.6/site-packages (from boto3>=1.9->mlrun==0.4.1) (1.13.0)\n",
      "Requirement already satisfied: s3transfer<0.3.0,>=0.2.0 in /conda/lib/python3.6/site-packages (from boto3>=1.9->mlrun==0.4.1) (0.2.1)\n",
      "Requirement already satisfied: six>=1.10 in /conda/lib/python3.6/site-packages (from kfp>=0.1.29->mlrun==0.4.1) (1.12.0)\n",
      "Requirement already satisfied: certifi in /conda/lib/python3.6/site-packages (from kfp>=0.1.29->mlrun==0.4.1) (2019.9.11)\n",
      "Requirement already satisfied: urllib3<1.25,>=1.15 in /conda/lib/python3.6/site-packages (from kfp>=0.1.29->mlrun==0.4.1) (1.24.2)\n",
      "Requirement already satisfied: requests-toolbelt>=0.8.0 in /User/.pythonlibs/lib/python3.6/site-packages (from kfp>=0.1.29->mlrun==0.4.1) (0.9.1)\n",
      "Requirement already satisfied: python-dateutil in /conda/lib/python3.6/site-packages (from kfp>=0.1.29->mlrun==0.4.1) (2.8.0)\n",
      "Requirement already satisfied: google-auth>=1.6.1 in /User/.pythonlibs/lib/python3.6/site-packages (from kfp>=0.1.29->mlrun==0.4.1) (1.10.0)\n",
      "Requirement already satisfied: Deprecated in /User/.pythonlibs/lib/python3.6/site-packages (from kfp>=0.1.29->mlrun==0.4.1) (1.2.7)\n",
      "Requirement already satisfied: argo-models==2.2.1a in /User/.pythonlibs/lib/python3.6/site-packages (from kfp>=0.1.29->mlrun==0.4.1) (2.2.1a0)\n",
      "Requirement already satisfied: PyJWT>=1.6.4 in /User/.pythonlibs/lib/python3.6/site-packages (from kfp>=0.1.29->mlrun==0.4.1) (1.7.1)\n",
      "Requirement already satisfied: cryptography>=2.4.2 in /conda/lib/python3.6/site-packages (from kfp>=0.1.29->mlrun==0.4.1) (2.8)\n",
      "Requirement already satisfied: jsonschema>=3.0.1 in /conda/lib/python3.6/site-packages (from kfp>=0.1.29->mlrun==0.4.1) (3.1.1)\n",
      "Collecting kubernetes<=9.0.0,>=8.0.0 (from kfp>=0.1.29->mlrun==0.4.1)\n",
      "  Using cached https://files.pythonhosted.org/packages/00/f7/4f196c55f1c2713d3edc8252c4b45326306eef4dc10048f13916fe446e2b/kubernetes-9.0.0-py2.py3-none-any.whl\n",
      "Requirement already satisfied: cloudpickle==1.1.1 in /User/.pythonlibs/lib/python3.6/site-packages (from kfp>=0.1.29->mlrun==0.4.1) (1.1.1)\n",
      "Requirement already satisfied: kfp-server-api<=0.1.37,>=0.1.18 in /User/.pythonlibs/lib/python3.6/site-packages (from kfp>=0.1.29->mlrun==0.4.1) (0.1.37)\n",
      "Requirement already satisfied: google-cloud-storage>=1.13.0 in /User/.pythonlibs/lib/python3.6/site-packages (from kfp>=0.1.29->mlrun==0.4.1) (1.23.0)\n",
      "Requirement already satisfied: ipython>=7.2 in /conda/lib/python3.6/site-packages (from nuclio-jupyter>=0.8.0->mlrun==0.4.1) (7.8.0)\n",
      "Requirement already satisfied: notebook>=5.7.2 in /conda/lib/python3.6/site-packages (from nuclio-jupyter>=0.8.0->mlrun==0.4.1) (6.0.1)\n",
      "Requirement already satisfied: tornado<6,>=5 in /User/.pythonlibs/lib/python3.6/site-packages (from nuclio-jupyter>=0.8.0->mlrun==0.4.1) (5.1.1)\n",
      "Requirement already satisfied: nbconvert>=5.4 in /conda/lib/python3.6/site-packages (from nuclio-jupyter>=0.8.0->mlrun==0.4.1) (5.6.0)\n",
      "Requirement already satisfied: jupyterlab>=0.35.4 in /conda/lib/python3.6/site-packages (from nuclio-jupyter>=0.8.0->mlrun==0.4.1) (1.0.2)\n",
      "Requirement already satisfied: pytz>=2011k in /conda/lib/python3.6/site-packages (from pandas>=0.23.0->mlrun==0.4.1) (2019.3)\n",
      "Requirement already satisfied: numpy>=1.12.0 in /User/.pythonlibs/lib/python3.6/site-packages (from pandas>=0.23.0->mlrun==0.4.1) (1.18.1)\n",
      "Requirement already satisfied: idna<2.9,>=2.5 in /conda/lib/python3.6/site-packages (from requests>=2.20.1->mlrun==0.4.1) (2.8)\n",
      "Requirement already satisfied: MarkupSafe>=0.23 in /conda/lib/python3.6/site-packages (from Jinja2>=2.10.1->Flask>=1.1.1->mlrun==0.4.1) (1.1.1)\n",
      "Requirement already satisfied: smmap2>=2.0.0 in /conda/lib/python3.6/site-packages (from gitdb2>=2.0.0->GitPython>=2.1.0->mlrun==0.4.1) (2.0.5)\n",
      "Requirement already satisfied: docutils<0.16,>=0.10 in /conda/lib/python3.6/site-packages (from botocore<1.14.0,>=1.13.0->boto3>=1.9->mlrun==0.4.1) (0.15.2)\n",
      "Requirement already satisfied: cachetools<5.0,>=2.0.0 in /User/.pythonlibs/lib/python3.6/site-packages (from google-auth>=1.6.1->kfp>=0.1.29->mlrun==0.4.1) (4.0.0)\n",
      "Requirement already satisfied: pyasn1-modules>=0.2.1 in /User/.pythonlibs/lib/python3.6/site-packages (from google-auth>=1.6.1->kfp>=0.1.29->mlrun==0.4.1) (0.2.7)\n",
      "Requirement already satisfied: setuptools>=40.3.0 in /conda/lib/python3.6/site-packages (from google-auth>=1.6.1->kfp>=0.1.29->mlrun==0.4.1) (41.4.0)\n",
      "Requirement already satisfied: rsa<4.1,>=3.1.4 in /User/.pythonlibs/lib/python3.6/site-packages (from google-auth>=1.6.1->kfp>=0.1.29->mlrun==0.4.1) (4.0)\n",
      "Requirement already satisfied: wrapt<2,>=1.10 in /User/.pythonlibs/lib/python3.6/site-packages (from Deprecated->kfp>=0.1.29->mlrun==0.4.1) (1.11.2)\n",
      "Requirement already satisfied: cffi!=1.11.3,>=1.8 in /conda/lib/python3.6/site-packages (from cryptography>=2.4.2->kfp>=0.1.29->mlrun==0.4.1) (1.13.0)\n",
      "Requirement already satisfied: pyrsistent>=0.14.0 in /conda/lib/python3.6/site-packages (from jsonschema>=3.0.1->kfp>=0.1.29->mlrun==0.4.1) (0.15.4)\n",
      "Requirement already satisfied: importlib-metadata in /conda/lib/python3.6/site-packages (from jsonschema>=3.0.1->kfp>=0.1.29->mlrun==0.4.1) (0.23)\n",
      "Requirement already satisfied: requests-oauthlib in /User/.pythonlibs/lib/python3.6/site-packages (from kubernetes<=9.0.0,>=8.0.0->kfp>=0.1.29->mlrun==0.4.1) (1.3.0)\n",
      "Requirement already satisfied: websocket-client!=0.40.0,!=0.41.*,!=0.42.*,>=0.32.0 in /User/.pythonlibs/lib/python3.6/site-packages (from kubernetes<=9.0.0,>=8.0.0->kfp>=0.1.29->mlrun==0.4.1) (0.56.0)\n",
      "Requirement already satisfied: google-cloud-core<2.0dev,>=1.0.3 in /User/.pythonlibs/lib/python3.6/site-packages (from google-cloud-storage>=1.13.0->kfp>=0.1.29->mlrun==0.4.1) (1.1.0)\n",
      "Requirement already satisfied: google-resumable-media<0.6dev,>=0.5.0 in /User/.pythonlibs/lib/python3.6/site-packages (from google-cloud-storage>=1.13.0->kfp>=0.1.29->mlrun==0.4.1) (0.5.0)\n",
      "Requirement already satisfied: pexpect; sys_platform != \"win32\" in /conda/lib/python3.6/site-packages (from ipython>=7.2->nuclio-jupyter>=0.8.0->mlrun==0.4.1) (4.7.0)\n",
      "Requirement already satisfied: prompt-toolkit<2.1.0,>=2.0.0 in /conda/lib/python3.6/site-packages (from ipython>=7.2->nuclio-jupyter>=0.8.0->mlrun==0.4.1) (2.0.10)\n",
      "Requirement already satisfied: jedi>=0.10 in /conda/lib/python3.6/site-packages (from ipython>=7.2->nuclio-jupyter>=0.8.0->mlrun==0.4.1) (0.15.1)\n",
      "Requirement already satisfied: pickleshare in /conda/lib/python3.6/site-packages (from ipython>=7.2->nuclio-jupyter>=0.8.0->mlrun==0.4.1) (0.7.5)\n",
      "Requirement already satisfied: pygments in /conda/lib/python3.6/site-packages (from ipython>=7.2->nuclio-jupyter>=0.8.0->mlrun==0.4.1) (2.4.2)\n",
      "Requirement already satisfied: traitlets>=4.2 in /conda/lib/python3.6/site-packages (from ipython>=7.2->nuclio-jupyter>=0.8.0->mlrun==0.4.1) (4.3.3)\n",
      "Requirement already satisfied: decorator in /conda/lib/python3.6/site-packages (from ipython>=7.2->nuclio-jupyter>=0.8.0->mlrun==0.4.1) (4.4.0)\n",
      "Requirement already satisfied: backcall in /conda/lib/python3.6/site-packages (from ipython>=7.2->nuclio-jupyter>=0.8.0->mlrun==0.4.1) (0.1.0)\n",
      "Requirement already satisfied: jupyter-core>=4.4.0 in /conda/lib/python3.6/site-packages (from notebook>=5.7.2->nuclio-jupyter>=0.8.0->mlrun==0.4.1) (4.6.0)\n",
      "Requirement already satisfied: jupyter-client>=5.3.1 in /conda/lib/python3.6/site-packages (from notebook>=5.7.2->nuclio-jupyter>=0.8.0->mlrun==0.4.1) (5.3.4)\n",
      "Requirement already satisfied: Send2Trash in /conda/lib/python3.6/site-packages (from notebook>=5.7.2->nuclio-jupyter>=0.8.0->mlrun==0.4.1) (1.5.0)\n",
      "Requirement already satisfied: ipykernel in /conda/lib/python3.6/site-packages (from notebook>=5.7.2->nuclio-jupyter>=0.8.0->mlrun==0.4.1) (5.1.2)\n",
      "Requirement already satisfied: terminado>=0.8.1 in /conda/lib/python3.6/site-packages (from notebook>=5.7.2->nuclio-jupyter>=0.8.0->mlrun==0.4.1) (0.8.2)\n",
      "Requirement already satisfied: prometheus-client in /conda/lib/python3.6/site-packages (from notebook>=5.7.2->nuclio-jupyter>=0.8.0->mlrun==0.4.1) (0.7.1)\n",
      "Requirement already satisfied: ipython-genutils in /conda/lib/python3.6/site-packages (from notebook>=5.7.2->nuclio-jupyter>=0.8.0->mlrun==0.4.1) (0.2.0)\n",
      "Requirement already satisfied: nbformat in /conda/lib/python3.6/site-packages (from notebook>=5.7.2->nuclio-jupyter>=0.8.0->mlrun==0.4.1) (4.4.0)\n",
      "Requirement already satisfied: pyzmq>=17 in /conda/lib/python3.6/site-packages (from notebook>=5.7.2->nuclio-jupyter>=0.8.0->mlrun==0.4.1) (18.1.0)\n",
      "Requirement already satisfied: defusedxml in /conda/lib/python3.6/site-packages (from nbconvert>=5.4->nuclio-jupyter>=0.8.0->mlrun==0.4.1) (0.6.0)\n",
      "Requirement already satisfied: mistune<2,>=0.8.1 in /conda/lib/python3.6/site-packages (from nbconvert>=5.4->nuclio-jupyter>=0.8.0->mlrun==0.4.1) (0.8.4)\n",
      "Requirement already satisfied: entrypoints>=0.2.2 in /conda/lib/python3.6/site-packages (from nbconvert>=5.4->nuclio-jupyter>=0.8.0->mlrun==0.4.1) (0.3)\n",
      "Requirement already satisfied: testpath in /conda/lib/python3.6/site-packages (from nbconvert>=5.4->nuclio-jupyter>=0.8.0->mlrun==0.4.1) (0.4.2)\n",
      "Requirement already satisfied: pandocfilters>=1.4.1 in /conda/lib/python3.6/site-packages (from nbconvert>=5.4->nuclio-jupyter>=0.8.0->mlrun==0.4.1) (1.4.2)\n",
      "Requirement already satisfied: bleach in /conda/lib/python3.6/site-packages (from nbconvert>=5.4->nuclio-jupyter>=0.8.0->mlrun==0.4.1) (3.1.0)\n",
      "Requirement already satisfied: jupyterlab_server~=1.0.0rc0 in /User/.pythonlibs/lib/python3.6/site-packages (from jupyterlab>=0.35.4->nuclio-jupyter>=0.8.0->mlrun==0.4.1) (1.0.0)\n",
      "Requirement already satisfied: pyasn1<0.5.0,>=0.4.6 in /User/.pythonlibs/lib/python3.6/site-packages (from pyasn1-modules>=0.2.1->google-auth>=1.6.1->kfp>=0.1.29->mlrun==0.4.1) (0.4.8)\n",
      "Requirement already satisfied: pycparser in /conda/lib/python3.6/site-packages (from cffi!=1.11.3,>=1.8->cryptography>=2.4.2->kfp>=0.1.29->mlrun==0.4.1) (2.19)\n",
      "Requirement already satisfied: zipp>=0.5 in /conda/lib/python3.6/site-packages (from importlib-metadata->jsonschema>=3.0.1->kfp>=0.1.29->mlrun==0.4.1) (0.6.0)\n",
      "Requirement already satisfied: oauthlib>=3.0.0 in /User/.pythonlibs/lib/python3.6/site-packages (from requests-oauthlib->kubernetes<=9.0.0,>=8.0.0->kfp>=0.1.29->mlrun==0.4.1) (3.1.0)\n",
      "Requirement already satisfied: google-api-core<2.0.0dev,>=1.14.0 in /User/.pythonlibs/lib/python3.6/site-packages (from google-cloud-core<2.0dev,>=1.0.3->google-cloud-storage>=1.13.0->kfp>=0.1.29->mlrun==0.4.1) (1.15.0)\n",
      "Requirement already satisfied: ptyprocess>=0.5 in /conda/lib/python3.6/site-packages (from pexpect; sys_platform != \"win32\"->ipython>=7.2->nuclio-jupyter>=0.8.0->mlrun==0.4.1) (0.6.0)\n",
      "Requirement already satisfied: wcwidth in /conda/lib/python3.6/site-packages (from prompt-toolkit<2.1.0,>=2.0.0->ipython>=7.2->nuclio-jupyter>=0.8.0->mlrun==0.4.1) (0.1.7)\n",
      "Requirement already satisfied: parso>=0.5.0 in /conda/lib/python3.6/site-packages (from jedi>=0.10->ipython>=7.2->nuclio-jupyter>=0.8.0->mlrun==0.4.1) (0.5.1)\n",
      "Requirement already satisfied: webencodings in /conda/lib/python3.6/site-packages (from bleach->nbconvert>=5.4->nuclio-jupyter>=0.8.0->mlrun==0.4.1) (0.5.1)\n",
      "Requirement already satisfied: json5 in /conda/lib/python3.6/site-packages (from jupyterlab_server~=1.0.0rc0->jupyterlab>=0.35.4->nuclio-jupyter>=0.8.0->mlrun==0.4.1) (0.8.5)\n",
      "Requirement already satisfied: more-itertools in /conda/lib/python3.6/site-packages (from zipp>=0.5->importlib-metadata->jsonschema>=3.0.1->kfp>=0.1.29->mlrun==0.4.1) (7.2.0)\n",
      "Requirement already satisfied: googleapis-common-protos<2.0dev,>=1.6.0 in /conda/lib/python3.6/site-packages (from google-api-core<2.0.0dev,>=1.14.0->google-cloud-core<2.0dev,>=1.0.3->google-cloud-storage>=1.13.0->kfp>=0.1.29->mlrun==0.4.1) (1.6.0)\n",
      "Requirement already satisfied: protobuf>=3.4.0 in /conda/lib/python3.6/site-packages (from google-api-core<2.0.0dev,>=1.14.0->google-cloud-core<2.0dev,>=1.0.3->google-cloud-storage>=1.13.0->kfp>=0.1.29->mlrun==0.4.1) (3.10.0)\n",
      "Building wheels for collected packages: mlrun\n",
      "  Running setup.py bdist_wheel for mlrun ... \u001b[?25ldone\n",
      "\u001b[?25h  Stored in directory: /tmp/pip-ephem-wheel-cache-rrtkbiub/wheels/4a/07/73/40a96ccddaf2d81ec84f70e16d94d6c0116915da784d6c6022\n",
      "Successfully built mlrun\n",
      "\u001b[31mkfserving 0.2.2.1 has requirement kubernetes>=10.0.1, but you'll have kubernetes 9.0.0 which is incompatible.\u001b[0m\n",
      "Installing collected packages: kubernetes\n",
      "  Found existing installation: kubernetes 10.0.1\n",
      "    Uninstalling kubernetes-10.0.1:\n",
      "      Successfully uninstalled kubernetes-10.0.1\n",
      "Successfully installed kubernetes-9.0.0\n"
     ]
    }
   ],
   "source": [
    "%%nuclio cmd\n",
    "pip install kfserving\n",
    "pip install numpy\n",
    "pip install dask-xgboost\n",
    "pip install git+https://github.com/mlrun/mlrun@development"
   ]
  },
  {
   "cell_type": "code",
   "execution_count": 2,
   "metadata": {},
   "outputs": [],
   "source": [
    "import kfserving\n",
    "import os\n",
    "import numpy as np\n",
    "import xgboost as xgb"
   ]
  },
  {
   "cell_type": "code",
   "execution_count": 3,
   "metadata": {},
   "outputs": [],
   "source": [
    "BOOSTER_FILE = \"model.bst\"\n",
    "\n",
    "class XGBoostModel(kfserving.KFModel):\n",
    "    def __init__(self, name: str, model_dir: str, booster: xgb.XGBModel = None):\n",
    "        super().__init__(name)\n",
    "        self.name = name\n",
    "        self.model_dir = model_dir\n",
    "        if not booster is None:\n",
    "            self._booster = booster\n",
    "            self.ready = True\n",
    "\n",
    "    def load(self):\n",
    "        model_file = os.path.join(\n",
    "            kfserving.Storage.download(self.model_dir), BOOSTER_FILE)\n",
    "        self._booster = xgb.Booster(model_file=model_file)\n",
    "        self.ready = True\n",
    "\n",
    "    def predict(self, body):\n",
    "        try:\n",
    "            # Use of list as input is deprecated see https://github.com/dmlc/xgboost/pull/3970\n",
    "            dmatrix = xgb.DMatrix(body['instances'])\n",
    "            result: xgb.DMatrix = self._booster.predict(dmatrix)\n",
    "            return result.tolist()\n",
    "        except Exception as e:\n",
    "            raise Exception(\"Failed to predict %s\" % e)\n"
   ]
  },
  {
   "cell_type": "markdown",
   "metadata": {},
   "source": [
    "The following end-code annotation tells ```nuclio``` to stop parsing the notebook from this cell. _**Please do not remove this cell**_:"
   ]
  },
  {
   "cell_type": "code",
   "execution_count": 4,
   "metadata": {},
   "outputs": [],
   "source": [
    "# nuclio: end-code"
   ]
  },
  {
   "cell_type": "markdown",
   "metadata": {},
   "source": [
    "______________________________________________"
   ]
  },
  {
   "cell_type": "markdown",
   "metadata": {},
   "source": [
    "<a id='test-locally'></a>\n",
    "### **test the model serving class locally**\n",
    "The class above can be tested locally. Just instantiate the class, `.load()` will load the model to a local dir.\n",
    "\n",
    "> **Verify there is a `model.bst` file in the model_dir path (generated by the training notebook)**"
   ]
  },
  {
   "cell_type": "code",
   "execution_count": 5,
   "metadata": {},
   "outputs": [],
   "source": [
    "model_dir = '/User/netops/models/'"
   ]
  },
  {
   "cell_type": "code",
   "execution_count": 22,
   "metadata": {},
   "outputs": [
    {
     "name": "stderr",
     "output_type": "stream",
     "text": [
      "[I 200109 11:57:57 storage:35] Copying contents of /User/netops/models/ to local\n"
     ]
    }
   ],
   "source": [
    "my_server = XGBoostModel('netops-xgb-v1', model_dir=model_dir)\n",
    "my_server.load()"
   ]
  },
  {
   "cell_type": "markdown",
   "metadata": {},
   "source": [
    "\n",
    "We can use the `.predict(body)` method to test the model."
   ]
  },
  {
   "cell_type": "code",
   "execution_count": 23,
   "metadata": {},
   "outputs": [
    {
     "data": {
      "text/plain": [
       "[0.5442115664482117, 0.4523093104362488]"
      ]
     },
     "execution_count": 23,
     "metadata": {},
     "output_type": "execute_result"
    }
   ],
   "source": [
    "my_server.predict({\"instances\":np.array(\n",
    "       [[100., 100. , 50., 0., 89.53725756, 176.34950703, 33.57995254, 17.38931609, 75.67427177, 214.66368902, 21.13675177, 8.16638713], \n",
    "    [ 73.78647124, 6.56632202, 0.78634142, 299.04336301, 91.26215708, 192.80521924, 35.69171398, 16.92878047, 75.71293304, 215.07670863, 21.17323133, 8.17075569]])})"
   ]
  },
  {
   "cell_type": "markdown",
   "metadata": {},
   "source": [
    "<a id='deploy'></a>\n",
    "### **deploy our serving class using as a serverless function**\n",
    "in the following section we create a new model serving function which wraps our class , and specify model and other resources.\n",
    "\n",
    "the `models` dict store model names and the assosiated model **dir** URL (the URL can start with `S3://` and other blob store options), the faster way is to use a shared file volume, we use `.apply(mount_v3io())` to attach a v3io (iguazio data fabric) volume to our function. By default v3io will mount the current user home into the `\\User` function path.\n",
    "\n",
    "**verify the model dir does contain a valid `model.bst` file**"
   ]
  },
  {
   "cell_type": "code",
   "execution_count": 24,
   "metadata": {},
   "outputs": [],
   "source": [
    "from mlrun import new_model_server, mount_v3io\n",
    "import requests"
   ]
  },
  {
   "cell_type": "code",
   "execution_count": 25,
   "metadata": {},
   "outputs": [
    {
     "data": {
      "text/plain": [
       "<mlrun.runtimes.function.RemoteRuntime at 0x7f033eb13438>"
      ]
     },
     "execution_count": 25,
     "metadata": {},
     "output_type": "execute_result"
    }
   ],
   "source": [
    "fn = new_model_server('netops-srv', \n",
    "                      models={'netops-xgb-v1': model_dir}, \n",
    "                      model_class='XGBoostModel')\n",
    "\n",
    "fn.apply(mount_v3io()) "
   ]
  },
  {
   "cell_type": "code",
   "execution_count": 26,
   "metadata": {},
   "outputs": [
    {
     "name": "stdout",
     "output_type": "stream",
     "text": [
      "[mlrun] 2020-01-09 11:58:37,619 deploy started\n",
      "[nuclio] 2020-01-09 11:58:38,704 (info) Building processor image\n",
      "[nuclio] 2020-01-09 12:00:28,587 (info) Build complete\n",
      "[nuclio] 2020-01-09 12:00:33,633 done creating iris-srv, function address: 3.18.11.15:30757\n"
     ]
    }
   ],
   "source": [
    "addr = fn.deploy()"
   ]
  },
  {
   "cell_type": "markdown",
   "metadata": {},
   "source": [
    "<a id=\"test-model-server\"></a>\n",
    "### **test our model server using HTTP request**\n",
    "\n",
    "\n",
    "We invoke our model serving function using test data, the data vector is specified in the `instances` attribute."
   ]
  },
  {
   "cell_type": "code",
   "execution_count": 27,
   "metadata": {},
   "outputs": [],
   "source": [
    "# KFServing protocol event\n",
    "event_data = {\"instances\":[[100., 100. , 50., 0., 89.53725756, 176.34950703, 33.57995254, 17.38931609, 75.67427177, 214.66368902, 21.13675177, 8.16638713], \n",
    "    [ 73.78647124, 6.56632202, 0.78634142, 299.04336301, 91.26215708, 192.80521924, 35.69171398, 16.92878047, 75.71293304, 215.07670863, 21.17323133, 8.17075569]]}"
   ]
  },
  {
   "cell_type": "code",
   "execution_count": null,
   "metadata": {},
   "outputs": [],
   "source": [
    "import json\n",
    "resp = requests.put(addr + '/netops-xgb-v1/predict', json=json.dumps(event_data))\n",
    "print(resp.text)"
   ]
  },
  {
   "cell_type": "markdown",
   "metadata": {},
   "source": [
    "**[back to top](#top)**"
   ]
  }
 ],
 "metadata": {
  "kernelspec": {
   "display_name": "Python 3",
   "language": "python",
   "name": "python3"
  },
  "language_info": {
   "codemirror_mode": {
    "name": "ipython",
    "version": 3
   },
   "file_extension": ".py",
   "mimetype": "text/x-python",
   "name": "python",
   "nbconvert_exporter": "python",
   "pygments_lexer": "ipython3",
   "version": "3.6.8"
  }
 },
 "nbformat": 4,
 "nbformat_minor": 4
}
