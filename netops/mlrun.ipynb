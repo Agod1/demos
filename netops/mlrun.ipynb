{
 "cells": [
  {
   "cell_type": "code",
   "execution_count": 1,
   "metadata": {},
   "outputs": [],
   "source": [
    "# nuclio: ignore\n",
    "import nuclio"
   ]
  },
  {
   "cell_type": "code",
   "execution_count": 3,
   "metadata": {},
   "outputs": [],
   "source": [
    "from mlrun import new_function, code_to_function, get_run_db, mount_v3io, mlconf, new_model_server, v3io_cred\n",
    "import os\n",
    "# for local DB path use '/User/mlrun' instead \n",
    "mlconf.dbpath = '/User/mlrun-db'"
   ]
  },
  {
   "cell_type": "code",
   "execution_count": 18,
   "metadata": {},
   "outputs": [],
   "source": [
    "import datetime"
   ]
  },
  {
   "cell_type": "markdown",
   "metadata": {},
   "source": [
    "## Define functions for pipeline"
   ]
  },
  {
   "cell_type": "code",
   "execution_count": 12,
   "metadata": {},
   "outputs": [
    {
     "data": {
      "text/plain": [
       "<mlrun.runtimes.function.RemoteRuntime at 0x7f6550273400>"
      ]
     },
     "execution_count": 12,
     "metadata": {},
     "output_type": "execute_result"
    }
   ],
   "source": [
    "generator_fn = code_to_function(name='generator',\n",
    "                                runtime='nuclio:mlrun',\n",
    "                                filename='nuclio-generator.ipynb')\n",
    "generator_fn.add_volume('User','~/')"
   ]
  },
  {
   "cell_type": "code",
   "execution_count": 13,
   "metadata": {},
   "outputs": [
    {
     "data": {
      "text/plain": [
       "<mlrun.runtimes.function.RemoteRuntime at 0x7f6550329470>"
      ]
     },
     "execution_count": 13,
     "metadata": {},
     "output_type": "execute_result"
    }
   ],
   "source": [
    "preprocessing_fn = code_to_function(name='preprocessing',\n",
    "                                    runtime='nuclio:mlrun',\n",
    "                                    filename='nuclio-data-preperations.ipynb')\n",
    "preprocessing_fn.add_volume('User','~/')"
   ]
  },
  {
   "cell_type": "code",
   "execution_count": 14,
   "metadata": {},
   "outputs": [
    {
     "data": {
      "text/plain": [
       "<mlrun.runtimes.function.RemoteRuntime at 0x7f65502a1dd8>"
      ]
     },
     "execution_count": 14,
     "metadata": {},
     "output_type": "execute_result"
    }
   ],
   "source": [
    "training_fn = code_to_function(name='training',\n",
    "                                    runtime='nuclio:mlrun',\n",
    "                                    filename='nuclio-training.ipynb')\n",
    "training_fn.add_volume('User','~/')"
   ]
  },
  {
   "cell_type": "code",
   "execution_count": 15,
   "metadata": {},
   "outputs": [
    {
     "data": {
      "text/plain": [
       "<mlrun.runtimes.function.RemoteRuntime at 0x7f6550277dd8>"
      ]
     },
     "execution_count": 15,
     "metadata": {},
     "output_type": "execute_result"
    }
   ],
   "source": [
    "inference_fn = code_to_function(name='inference',\n",
    "                                runtime='nuclio:mlrun',\n",
    "                                filename='nuclio-inference.ipynb')\n",
    "inference_fn.add_volume('User','~/')"
   ]
  },
  {
   "cell_type": "markdown",
   "metadata": {},
   "source": [
    "## Create and run the pipeline"
   ]
  },
  {
   "cell_type": "code",
   "execution_count": 10,
   "metadata": {},
   "outputs": [],
   "source": [
    "import kfp\n",
    "from kfp import dsl"
   ]
  },
  {
   "cell_type": "code",
   "execution_count": 11,
   "metadata": {},
   "outputs": [],
   "source": [
    "artifacts_path = 'v3io:///users/admin/mlrun-db/kfp/{{workflow.uid}}/'"
   ]
  },
  {
   "cell_type": "code",
   "execution_count": 19,
   "metadata": {},
   "outputs": [],
   "source": [
    "@dsl.pipeline(\n",
    "    name='Network Operations Training Pipeline',\n",
    "    description='Network operations E2E pipeline'\n",
    ")\n",
    "def netops_pipepline(\n",
    "    use_tsdb = 1,\n",
    "    metrics_configuration_file = os.path.join(os.getcwd(), \n",
    "                                              'configurations', \n",
    "                                              'metrics_configuration.yaml'),\n",
    "    deployment_table = 'netops-deployment',\n",
    "    metrics_table = 'netops-metrics',\n",
    "    initial_timestamp = str(int((datetime.datetime.now()-datetime.timedelta(days=1)).timestamp())),\n",
    "    SECS_TO_GENERATE = 60*60*60\n",
    "):\n",
    "    \n",
    "    generator = generator_fn.as_step(name='generator',\n",
    "                                     params={'use_tsdb': use_tsdb,\n",
    "                                             'metrics_configuration_file': metrics_configuration_file,\n",
    "                                             'deployment_table': deployment_table,\n",
    "                                             'metrics_table': metrics_table,\n",
    "                                             'initial_timestamp': initial_timestamp,\n",
    "                                             'SECS_TO_GENERATE': SECS_TO_GENERATE})"
   ]
  },
  {
   "cell_type": "code",
   "execution_count": 21,
   "metadata": {},
   "outputs": [
    {
     "name": "stderr",
     "output_type": "stream",
     "text": [
      "/User/.pythonlibs/lib/python3.6/site-packages/kfp/components/_data_passing.py:133: UserWarning: Missing type name was inferred as \"Integer\" based on the value \"1\".\n",
      "  warnings.warn('Missing type name was inferred as \"{}\" based on the value \"{}\".'.format(type_name, str(value)))\n",
      "/User/.pythonlibs/lib/python3.6/site-packages/kfp/components/_data_passing.py:133: UserWarning: Missing type name was inferred as \"Integer\" based on the value \"216000\".\n",
      "  warnings.warn('Missing type name was inferred as \"{}\" based on the value \"{}\".'.format(type_name, str(value)))\n"
     ]
    },
    {
     "data": {
      "text/html": [
       "Experiment link <a href=\"/pipeline/#/experiments/details/a0f9bd8a-1981-41e4-aa41-1931f001f504\" target=\"_blank\" >here</a>"
      ],
      "text/plain": [
       "<IPython.core.display.HTML object>"
      ]
     },
     "metadata": {},
     "output_type": "display_data"
    },
    {
     "data": {
      "text/html": [
       "Run link <a href=\"/pipeline/#/runs/details/33e60ef1-0a65-4891-9933-6927b9105ebe\" target=\"_blank\" >here</a>"
      ],
      "text/plain": [
       "<IPython.core.display.HTML object>"
      ]
     },
     "metadata": {},
     "output_type": "display_data"
    }
   ],
   "source": [
    "client = kfp.Client(namespace='default-tenant')\n",
    "arguments = {}\n",
    "run_result = client.create_run_from_pipeline_func(netops_pipepline, \n",
    "                                                  arguments, \n",
    "                                                  experiment_name='netops-mlrun')"
   ]
  },
  {
   "cell_type": "code",
   "execution_count": null,
   "metadata": {},
   "outputs": [],
   "source": []
  }
 ],
 "metadata": {
  "kernelspec": {
   "display_name": "Python 3",
   "language": "python",
   "name": "python3"
  },
  "language_info": {
   "codemirror_mode": {
    "name": "ipython",
    "version": 3
   },
   "file_extension": ".py",
   "mimetype": "text/x-python",
   "name": "python",
   "nbconvert_exporter": "python",
   "pygments_lexer": "ipython3",
   "version": "3.6.8"
  }
 },
 "nbformat": 4,
 "nbformat_minor": 4
}
