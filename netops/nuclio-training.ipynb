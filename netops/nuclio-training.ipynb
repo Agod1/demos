{
 "cells": [
  {
   "cell_type": "markdown",
   "metadata": {},
   "source": [
    "# Nuclio - Training function"
   ]
  },
  {
   "cell_type": "markdown",
   "metadata": {},
   "source": [
    "## Environment"
   ]
  },
  {
   "cell_type": "code",
   "execution_count": 22,
   "metadata": {},
   "outputs": [],
   "source": [
    "# nuclio: ignore\n",
    "import nuclio"
   ]
  },
  {
   "cell_type": "markdown",
   "metadata": {},
   "source": [
    "### Configurations"
   ]
  },
  {
   "cell_type": "code",
   "execution_count": 81,
   "metadata": {},
   "outputs": [
    {
     "name": "stdout",
     "output_type": "stream",
     "text": [
      "%nuclio: setting spec.triggers.retrain.kind to 'cron'\n",
      "%nuclio: setting spec.triggers.retrain.attributes.interval to '1h'\n",
      "%nuclio: setting spec.build.baseImage to 'python:3.6-jessie'\n"
     ]
    }
   ],
   "source": [
    "%%nuclio config\n",
    "\n",
    "# Trigger\n",
    "spec.triggers.retrain.kind = \"cron\"\n",
    "spec.triggers.retrain.attributes.interval = \"1h\"\n",
    "\n",
    "# Base image\n",
    "spec.build.baseImage = \"python:3.6-jessie\""
   ]
  },
  {
   "cell_type": "code",
   "execution_count": 39,
   "metadata": {},
   "outputs": [
    {
     "name": "stdout",
     "output_type": "stream",
     "text": [
      "mounting volume path /User as ~/\n"
     ]
    }
   ],
   "source": [
    "%nuclio mount /User ~/"
   ]
  },
  {
   "cell_type": "markdown",
   "metadata": {},
   "source": [
    "### Commands"
   ]
  },
  {
   "cell_type": "code",
   "execution_count": 91,
   "metadata": {},
   "outputs": [],
   "source": [
    "%%nuclio cmd -c\n",
    "\n",
    "# apt-get update && apt-get install -y libaio1\n",
    "# apt-get install libgomp1 \n",
    "\n",
    "############\n",
    "# installs #\n",
    "############\n",
    "\n",
    "# Igz DB\n",
    "pip install v3io_frames\n",
    "\n",
    "# Utils\n",
    "pip install 'fsspec>=0.3.3'\n",
    "# pip install PyYAML==5.1.2\n",
    "# pip install pyarrow==0.15.1\n",
    "pip install pandas==0.25.3\n",
    "# pip install kubernetes==9.0.0\n",
    "\n",
    "# Function\n",
    "# pip install scikit-learn==0.21.3\n",
    "pip install dask-kubernetes\n",
    "pip install dask-ml[\"complete\"]==1.0.0\n",
    "pip install dask-xgboost==0.1.7\n"
   ]
  },
  {
   "cell_type": "code",
   "execution_count": null,
   "metadata": {},
   "outputs": [],
   "source": []
  },
  {
   "cell_type": "markdown",
   "metadata": {},
   "source": [
    "### Variables"
   ]
  },
  {
   "cell_type": "code",
   "execution_count": 36,
   "metadata": {},
   "outputs": [],
   "source": [
    "# DB Config\n",
    "%nuclio env %v3io"
   ]
  },
  {
   "cell_type": "code",
   "execution_count": 35,
   "metadata": {},
   "outputs": [
    {
     "name": "stdout",
     "output_type": "stream",
     "text": [
      "%nuclio: setting 'FEATURES_TABLE' environment variable\n",
      "%nuclio: setting '# FEATURES_TABLE' environment variable\n",
      "%nuclio: setting 'FROM_TSDB' environment variable\n",
      "%nuclio: setting 'TRAIN_ON_LAST' environment variable\n",
      "%nuclio: setting 'TRAIN_SIZE' environment variable\n",
      "%nuclio: setting 'NUMBER_OF_SHARDS' environment variable\n",
      "%nuclio: setting 'MODEL_FILENAME' environment variable\n",
      "%nuclio: setting 'SAVE_TO' environment variable\n"
     ]
    },
    {
     "name": "stderr",
     "output_type": "stream",
     "text": [
      "%nuclio: cannot find \"=\" in line\n",
      "%nuclio: cannot find \"=\" in line\n",
      "%nuclio: cannot find \"=\" in line\n",
      "%nuclio: cannot find \"=\" in line\n"
     ]
    }
   ],
   "source": [
    "%%nuclio env\n",
    "\n",
    "# Features\n",
    "FEATURES_TABLE=/v3io/bigdata/netops_features_parquet\n",
    "# FEATURES_TABLE=netops_features\n",
    "FROM_TSDB=0\n",
    "\n",
    "# Training\n",
    "TRAIN_ON_LAST=1d\n",
    "TRAIN_SIZE=0.7\n",
    "\n",
    "# Parallelizem\n",
    "NUMBER_OF_SHARDS=4\n",
    "\n",
    "# Model\n",
    "MODEL_FILENAME=netops.v3.model\n",
    "SAVE_TO=/v3io/bigdata/netops/models"
   ]
  },
  {
   "cell_type": "markdown",
   "metadata": {},
   "source": [
    "## Function"
   ]
  },
  {
   "cell_type": "markdown",
   "metadata": {},
   "source": [
    "### Imports"
   ]
  },
  {
   "cell_type": "code",
   "execution_count": 89,
   "metadata": {},
   "outputs": [],
   "source": [
    "# Utils\n",
    "import os\n",
    "import time\n",
    "import yaml\n",
    "import pandas as pd\n",
    "import datetime\n",
    "import itertools\n",
    "import pickle\n",
    "\n",
    "# DB Connection\n",
    "import v3io_frames as v3f\n",
    "\n",
    "# Parallelization\n",
    "import dask.dataframe as dd\n",
    "from dask.distributed import Client\n",
    "\n",
    "# Function\n",
    "import dask_ml.model_selection as dcv\n",
    "import xgboost as xgb"
   ]
  },
  {
   "cell_type": "markdown",
   "metadata": {},
   "source": [
    "### Helper functions"
   ]
  },
  {
   "cell_type": "code",
   "execution_count": 27,
   "metadata": {},
   "outputs": [],
   "source": [
    "def format_df_from_tsdb(context, df):\n",
    "    df.index.names = ['timestamp', 'company', 'data_center', 'device']\n",
    "    df = df.reset_index()\n",
    "    df = dd.from_pandas(df, npartitions=context.shards)\n",
    "    return df"
   ]
  },
  {
   "cell_type": "code",
   "execution_count": 28,
   "metadata": {},
   "outputs": [],
   "source": [
    "def get_data_tsdb(context):\n",
    "    df = context.v3f.read(backend='tsdb', query=f'select * from {context.features_table}',\n",
    "                          start=f'now-{context.train_on_last}', end='now', multi_index=True)\n",
    "    df = df.reset_index(drop=True)\n",
    "    df = df[sorted(df.columns)]\n",
    "    df = dd.from_pandas(df, npartitions=context.shards)\n",
    "    return df"
   ]
  },
  {
   "cell_type": "code",
   "execution_count": 29,
   "metadata": {},
   "outputs": [],
   "source": [
    "def get_data_parquet(context):\n",
    "    # Get parquet files\n",
    "    mpath = [os.path.join(context.features_table, file) for file in os.listdir(context.features_table)]\n",
    "    \n",
    "    # Get latest filename\n",
    "    latest = max(mpath, key=os.path.getmtime)\n",
    "    print(latest)\n",
    "    context.logger.debug(f'Reading data from: {latest}')\n",
    "    \n",
    "    # Load parquet to dask\n",
    "    df = dd.read_parquet(latest)\n",
    "    \n",
    "    return df"
   ]
  },
  {
   "cell_type": "code",
   "execution_count": 30,
   "metadata": {},
   "outputs": [],
   "source": [
    "def get_train_test_sets_from_data(context, df: pd.DataFrame):\n",
    "    drop_columns = [col for col in df.columns if 'is_error' in col]\n",
    "    X = df.drop(drop_columns, axis=1)\n",
    "    y = df.loc[:, 'is_error']\n",
    "    X_train, X_test, y_train, y_test = dcv.train_test_split(X, y, train_size=context.train_size, test_size=1-context.train_size)\n",
    "    return X_train, X_test, y_train, y_test"
   ]
  },
  {
   "cell_type": "markdown",
   "metadata": {},
   "source": [
    "### Init context"
   ]
  },
  {
   "cell_type": "code",
   "execution_count": 31,
   "metadata": {},
   "outputs": [],
   "source": [
    "def init_context(context):\n",
    "    \n",
    "    # Netops features table\n",
    "    setattr(context, 'features_table', os.getenv('FEATURES_TABLE', 'netops_features'))\n",
    "    \n",
    "    # Get saving configuration\n",
    "    is_from_tsdb = (int(os.getenv('FROM_TSDB', 1)) == 1)\n",
    "    \n",
    "    # Save to TSDB\n",
    "    if is_from_tsdb:\n",
    "        # Create our DB client\n",
    "        v3io_client = v3f.Client(address='framesd:8081', container='bigdata')\n",
    "        setattr(context, 'v3f', v3io_client)\n",
    "        \n",
    "        # Create features table if neede\n",
    "        context.v3f.create('tsdb', context.features_table, attrs={'rate': '1/s'}, if_exists=1)\n",
    "        \n",
    "        # Set TSDB reading function\n",
    "        setattr(context, 'read', get_data_tsdb)\n",
    "        \n",
    "    # Save to Parquet\n",
    "    else:\n",
    "         # Create saving directory if needed\n",
    "        filepath = os.path.join(context.features_table)\n",
    "        if not os.path.exists(filepath):\n",
    "            os.makedirs(filepath)\n",
    "            \n",
    "        # Set Parquet reading function\n",
    "        setattr(context, 'read', get_data_parquet)\n",
    "    \n",
    "    # Set time to train on\n",
    "    train_on_last = os.getenv('TRAIN_ON_LAST', '7d')\n",
    "    setattr(context, 'train_on_last', train_on_last)\n",
    "    \n",
    "    # Set training set size\n",
    "    train_set_size = float(os.getenv('TRAIN_SIZE', 0.7))\n",
    "    setattr(context, 'train_size', train_set_size)\n",
    "    \n",
    "    # Dask shards / CV\n",
    "    setattr(context, 'shards', int(os.getenv('NUMBER_OF_SHARDS', 4)))\n",
    "    \n",
    "    # Create save-to folder if needed\n",
    "    model_filepath = os.getenv('SAVE_TO', '/v3io/bigdata/netops/models')\n",
    "    if not os.path.exists(model_filepath):\n",
    "        os.makedirs(model_filepath)\n",
    "    setattr(context, 'model_filepath', os.path.join(model_filepath, os.getenv('MODEL_FILENAME', 'netops.model')))"
   ]
  },
  {
   "cell_type": "markdown",
   "metadata": {},
   "source": [
    "### Handler"
   ]
  },
  {
   "cell_type": "code",
   "execution_count": 32,
   "metadata": {},
   "outputs": [],
   "source": [
    "def handler(context, event):\n",
    "    \n",
    "    # Get data\n",
    "    df = context.read(context) \n",
    "\n",
    "    # Split to Train / Test datasets\n",
    "    X_train, X_test, y_train, y_test = get_train_test_sets_from_data(context, df)\n",
    "    \n",
    "    # Train\n",
    "    model = xgb.XGBClassifier()\n",
    "    model.fit(X_train, y_train)\n",
    "    \n",
    "    # Score\n",
    "    score = model.score(X_test, y_test)\n",
    "    \n",
    "    # Save model\n",
    "    pickle.dump(model, open(context.model_filepath + '.pickle', 'wb'))"
   ]
  },
  {
   "cell_type": "markdown",
   "metadata": {},
   "source": [
    "## Test"
   ]
  },
  {
   "cell_type": "code",
   "execution_count": 41,
   "metadata": {},
   "outputs": [],
   "source": [
    "# nuclio: ignore\n",
    "init_context(context)"
   ]
  },
  {
   "cell_type": "code",
   "execution_count": 42,
   "metadata": {},
   "outputs": [
    {
     "name": "stdout",
     "output_type": "stream",
     "text": [
      "/v3io/bigdata/netops_features_parquet/20191222T133150-20191222T143000.parquet\n"
     ]
    }
   ],
   "source": [
    "# nuclio: ignore\n",
    "# init_context(context)\n",
    "event = nuclio.Event(body='')\n",
    "output = handler(context, event)\n",
    "output"
   ]
  },
  {
   "cell_type": "markdown",
   "metadata": {},
   "source": [
    "## Deployment"
   ]
  },
  {
   "cell_type": "code",
   "execution_count": 92,
   "metadata": {},
   "outputs": [
    {
     "name": "stdout",
     "output_type": "stream",
     "text": [
      "[nuclio.deploy] 2019-12-24 12:49:44,624 (info) Building processor image\n",
      "[nuclio.deploy] 2019-12-24 12:52:11,836 (info) Build complete\n",
      "[nuclio.deploy] 2019-12-24 12:53:14,647 (warn) Create function failed, setting function status\n",
      "[nuclio.deploy] 2019-12-24 12:53:14,648 \n",
      "Error - NuclioFunction in error state (\n",
      "Error - context deadline exceeded\n",
      "    .../platform/kube/controller/nucliofunction.go:122\n",
      "\n",
      "Call stack:\n",
      "Failed to wait for function resources to be available\n",
      "    .../platform/kube/controller/nucliofunction.go:122\n",
      ")\n",
      "    .../nuclio/nuclio/pkg/platform/kube/deployer.go:197\n",
      "\n",
      "Call stack:\n",
      "NuclioFunction in error state (\n",
      "Error - context deadline exceeded\n",
      "    .../platform/kube/controller/nucliofunction.go:122\n",
      "\n",
      "Call stack:\n",
      "Failed to wait for function resources to be available\n",
      "    .../platform/kube/controller/nucliofunction.go:122\n",
      ")\n",
      "    .../nuclio/nuclio/pkg/platform/kube/deployer.go:197\n",
      "Failed to wait for function readiness.\n",
      "\n",
      "Pod logs:\n",
      "\n",
      "* training-6f5d97cbd4-s4825\n",
      "{\"level\":\"debug\",\"time\":\"2019-12-24T12:52:12.279Z\",\"name\":\"processor\",\"message\":\"Read configuration\",\"more\":\"config=&{Config:{Meta:{Name:training Namespace:default-tenant Labels:map[] Annotations:map[nuclio.io/generated_by:function generated at 24-12-2019 by admin from /User/mlrun-demos/demos/netops/nuclio-training.ipynb]} Spec:{Description: Disabled:false Publish:false Handler:nuclio-training:handler Runtime:python:3.6 Env:[{Name:V3IO_FRAMESD Value:framesd.default-tenant.svc:8080 ValueFrom:nil} {Name:V3IO_USERNAME Value:admin ValueFrom:nil} {Name:V3IO_ACCESS_KEY Value:275eeda5-5d83-427e-adda-ddb469370fb5 ValueFrom:nil} {Name:V3IO_API Value:v3io-webapi.default-tenant.svc:8081 ValueFrom:nil} {Name:FEATURES_TABLE Value:/v3io/bigdata/netops_features_parquet ValueFrom:nil} {Name:FROM_TSDB Value:0 ValueFrom:nil} {Name:TRAIN_ON_LAST Value:1d ValueFrom:nil} {Name:TRAIN_SIZE Value:0.7 ValueFrom:nil} {Name:NUMBER_OF_SHARDS Value:4 ValueFrom:nil} {Name:MODEL_FILENAME Value:netops.v3.model ValueFrom:nil} {Name:SAVE_TO Value:/v3io/bigdata/netops/models ValueFrom:nil}] Resources:{Limits:map[] Requests:map[]} Image:docker-registry.default-tenant.app.spjxothqybjz.iguazio-cd2.com:80/nuclio/processor-training:latest ImageHash:1577190270377245561 Replicas:<nil> MinReplicas:<nil> MaxReplicas:<nil> TargetCPU:0 DataBindings:map[] Triggers:map[retrain:{Class: Kind:cron Disabled:false MaxWorkers:0 URL: Paths:[] Username: Password: Secret: Partitions:[] Annotations:map[] WorkerAvailabilityTimeoutMilliseconds:0 WorkerAllocatorName: TotalTasks:0 MaxTaskAllocation:0 Attributes:map[interval:1h maxBatchSize:0 maxBatchWaitMs:0 numContainerWorkers:0 pollingIntervalMs:0 port:0 intervalMs:0 protocolVersion:0 readBatchSize:0]}] Volumes:[{Volume:{Name:fs VolumeSource:{HostPath:nil EmptyDir:nil GCEPersistentDisk:nil AWSElasticBlockStore:nil GitRepo:nil Secret:nil NFS:nil ISCSI:nil Glusterfs:nil PersistentVolumeClaim:nil RBD:nil FlexVolume:&FlexVolumeSource{Driver:v3io/fuse,FSType:,SecretRef:nil,ReadOnly:false,Options:map[string]string{accessKey: 275eeda5-5d83-427e-adda-ddb469370fb5,container: users,subPath: /admin,},} Cinder:nil CephFS:nil Flocker:nil DownwardAPI:nil FC:nil AzureFile:nil ConfigMap:nil VsphereVolume:nil Quobyte:nil AzureDisk:nil PhotonPersistentDisk:nil Projected:nil PortworxVolume:nil ScaleIO:nil StorageOS:nil}} VolumeMount:{Name:fs ReadOnly:false MountPath:/User SubPath: MountPropagation:<nil>}}] Version:-1 Alias:latest Build:{Path: FunctionSourceCode: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 FunctionConfigPath: TempDir: Registry:docker-registry.default-tenant.app.spjxothqybjz.iguazio-cd2.com:80 Image: NoBaseImagesPull:true NoCache:true NoCleanup:false BaseImage:python:3.6-jessie Commands:[pip install pandas pip install xgboost pip install dask[\\\"complete\\\"] pip install dask-ml[\\\"complete\\\"] pip install v3io_frames] Directives:map[] ScriptPaths:[] AddedObjectPaths:map[] Dependencies:[] OnbuildImage: Offline:true RuntimeAttributes:map[repositories:[]] CodeEntryType:sourceCode CodeEntryAttributes:map[] Timestamp:1577190394 Mode:} RunRegistry:docker-registry.default-tenant.app.spjxothqybjz.iguazio-cd2.com:80 RuntimeAttributes:map[] LoggerSinks:[{Level:debug Sink:}] DealerURI: Platform:{Attributes:map[]} ReadinessTimeoutSeconds:0 Avatar: ServiceType:NodePort ImagePullPolicy: ServiceAccount: EventTimeout:}} PlatformConfig:<nil>} || platformConfig=&{Kind:kube WebAdmin:{Enabled:<nil> ListenAddress:} HealthCheck:{Enabled:<nil> ListenAddress:} Logger:{Sinks:map[myStdoutLoggerSink:{Kind:stdout URL: Attributes:map[encoding:json timeFieldEncoding:iso8601 timeFieldName:time varGroupName:more]}] System:[{Level:debug Sink:myStdoutLoggerSink}] Functions:[{Level:debug Sink:myStdoutLoggerSink}]} Metrics:{Sinks:map[myPrometheusPull:{Enabled:<nil> Kind:prometheusPull URL: Attributes:map[]}] System:[myPrometheusPull] Functions:[myPrometheusPull]} ScaleToZero:{MetricName:nuclio_processor_handled_events_total WindowSize:10m PollerInterval:10s ScalerInterval:1m} AutoScale:{MetricName: TargetValue:20} FunctionAugmentedConfigs:[]}\"\n",
      "\"level\":\"debug\",\"time\":\"2019-12-24T12:52:12.279Z\",\"name\":\"processor.cron\",\"message\":\"Creating worker pool\",\"more\":\"num=1\"\n",
      "\"level\":\"debug\",\"time\":\"2019-12-24T12:52:12.279Z\",\"name\":\"processor.cron.w0.python.logger\",\"message\":\"Creating listener socket\",\"more\":\"path=/tmp/nuclio-rpc-bo10jv7d9ek000f5nheg.sock\"\n",
      "\"level\":\"debug\",\"time\":\"2019-12-24T12:52:12.280Z\",\"name\":\"processor.cron.w0.python.logger\",\"message\":\"Using Python wrapper script path\",\"more\":\"path=/opt/nuclio/_nuclio_wrapper.py\"\n",
      "\"level\":\"debug\",\"time\":\"2019-12-24T12:52:12.280Z\",\"name\":\"processor.cron.w0.python.logger\",\"message\":\"Using Python handler\",\"more\":\"handler=nuclio-training:handler\"\n",
      "\"level\":\"debug\",\"time\":\"2019-12-24T12:52:12.280Z\",\"name\":\"processor.cron.w0.python.logger\",\"message\":\"Using Python executable\",\"more\":\"path=/usr/local/bin/python3\"\n",
      "\"level\":\"debug\",\"time\":\"2019-12-24T12:52:12.280Z\",\"name\":\"processor.cron.w0.python.logger\",\"message\":\"Setting PYTHONPATH\",\"more\":\"value=PYTHONPATH=/opt/nuclio\"\n",
      "\"level\":\"debug\",\"time\":\"2019-12-24T12:52:12.280Z\",\"name\":\"processor.cron.w0.python.logger\",\"message\":\"Running wrapper\",\"more\":\"command=/usr/local/bin/python3 -u /opt/nuclio/_nuclio_wrapper.py --handler nuclio-training:handler --socket-path /tmp/nuclio-rpc-bo10jv7d9ek000f5nheg.sock --platform-kind kube --namespace default-tenant --worker-id 0 --trigger-name \"}/usr/local/lib/python3.6/site-packages/sklearn/utils/deprecation.py:144: FutureWarning: The sklearn.metrics.scorer module is  deprecated in version 0.22 and will be removed in version 0.24. The corresponding classes / functions should instead be imported from sklearn.metrics. Anything that cannot be imported from sklearn.metrics is now part of the private API.  warnings.warn(message, FutureWarning)Python> 2019-12-24 12:52:13,636 [warning] Caught unhandled exception while initializing: {'err': \"XGBoost Library (libxgboost.so) could not be loaded.\n",
      "Likely causes:\n",
      "  * OpenMP runtime is not installed (vcomp140.dll or libgomp-1.dll for Windows, libgomp.so for UNIX-like OSes)\n",
      "  * You are running 32-bit Python on a 64-bit OS\n",
      "Error message(s): ['dlopen: cannot load any more object with static TLS', 'dlopen: cannot load any more object with static TLS']\n",
      "\", 'traceback': 'Traceback (most recent call last):\n",
      "  File \"/opt/nuclio/_nuclio_wrapper.py\", line 314, in run_wrapper\n",
      "    args.trigger_name)\n",
      "  File \"/opt/nuclio/_nuclio_wrapper.py\", line 51, in __init__\n",
      "    self._entrypoint = self._load_entrypoint_from_handler(handler)\n",
      "  File \"/opt/nuclio/_nuclio_wrapper.py\", line 227, in _load_entrypoint_from_handler\n",
      "    module = __import__(module_name)\n",
      "  File \"/opt/nuclio/nuclio-training.py\", line 17, in <module>\n",
      "    import xgboost as xgb\n",
      "  File \"/usr/local/lib/python3.6/site-packages/xgboost/__init__.py\", line 11, in <module>\n",
      "    from .core import DMatrix, Booster\n",
      "  File \"/usr/local/lib/python3.6/site-packages/xgboost/core.py\", line 161, in <module>\n",
      "    _LIB = _load_lib()\n",
      "  File \"/usr/local/lib/python3.6/site-packages/xgboost/core.py\", line 152, in _load_lib\n",
      "    \\'Error message(s): {}\\\n",
      "\\'.format(os_error_list))\n",
      "xgboost.core.XGBoostError: XGBoost Library (libxgboost.so) could not be loaded.\n",
      "Likely causes:\n",
      "  * OpenMP runtime is not installed (vcomp140.dll or libgomp-1.dll for Windows, libgomp.so for UNIX-like OSes)\n",
      "  * You are running 32-bit Python on a 64-bit OS\n",
      "Error message(s): [\\'dlopen: cannot load any more object with static TLS\\', \\'dlopen: cannot load any more object with static TLS\\']\n",
      "\n",
      "'}\n",
      "* training-7c5cbb6cfb-d52x6\n",
      "{\"level\":\"debug\",\"time\":\"2019-12-24T12:52:56.962Z\",\"name\":\"processor\",\"message\":\"Read configuration\",\"more\":\"config=&{Config:{Meta:{Name:training Namespace:default-tenant Labels:map[] Annotations:map[nuclio.io/generated_by:function generated at 24-12-2019 by admin from /User/mlrun-demos/demos/netops/nuclio-training.ipynb]} Spec:{Description: Disabled:false Publish:false Handler:nuclio-training:handler Runtime:python:3.6 Env:[{Name:V3IO_FRAMESD Value:framesd.default-tenant.svc:8080 ValueFrom:nil} {Name:V3IO_USERNAME Value:admin ValueFrom:nil} {Name:V3IO_ACCESS_KEY Value:275eeda5-5d83-427e-adda-ddb469370fb5 ValueFrom:nil} {Name:V3IO_API Value:v3io-webapi.default-tenant.svc:8081 ValueFrom:nil} {Name:FEATURES_TABLE Value:/v3io/bigdata/netops_features_parquet ValueFrom:nil} {Name:FROM_TSDB Value:0 ValueFrom:nil} {Name:TRAIN_ON_LAST Value:1d ValueFrom:nil} {Name:TRAIN_SIZE Value:0.7 ValueFrom:nil} {Name:NUMBER_OF_SHARDS Value:4 ValueFrom:nil} {Name:MODEL_FILENAME Value:netops.v3.model ValueFrom:nil} {Name:SAVE_TO Value:/v3io/bigdata/netops/models ValueFrom:nil}] Resources:{Limits:map[] Requests:map[]} Image:docker-registry.default-tenant.app.spjxothqybjz.iguazio-cd2.com:80/nuclio/processor-training:latest ImageHash:1577191783606688923 Replicas:<nil> MinReplicas:<nil> MaxReplicas:<nil> TargetCPU:0 DataBindings:map[] Triggers:map[retrain:{Class: Kind:cron Disabled:false MaxWorkers:0 URL: Paths:[] Username: Password: Secret: Partitions:[] Annotations:map[] WorkerAvailabilityTimeoutMilliseconds:0 WorkerAllocatorName: TotalTasks:0 MaxTaskAllocation:0 Attributes:map[interval:1h]}] Volumes:[{Volume:{Name:fs VolumeSource:{HostPath:nil EmptyDir:nil GCEPersistentDisk:nil AWSElasticBlockStore:nil GitRepo:nil Secret:nil NFS:nil ISCSI:nil Glusterfs:nil PersistentVolumeClaim:nil RBD:nil FlexVolume:&FlexVolumeSource{Driver:v3io/fuse,FSType:,SecretRef:nil,ReadOnly:false,Options:map[string]string{accessKey: 275eeda5-5d83-427e-adda-ddb469370fb5,container: users,subPath: /admin/,},} Cinder:nil CephFS:nil Flocker:nil DownwardAPI:nil FC:nil AzureFile:nil ConfigMap:nil VsphereVolume:nil Quobyte:nil AzureDisk:nil PhotonPersistentDisk:nil Projected:nil PortworxVolume:nil ScaleIO:nil StorageOS:nil}} VolumeMount:{Name:fs ReadOnly:false MountPath:/User SubPath: MountPropagation:<nil>}}] Version:-1 Alias:latest Build:{Path: FunctionSourceCode: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 FunctionConfigPath: TempDir: Registry:docker-registry.default-tenant.app.spjxothqybjz.iguazio-cd2.com:80 Image: NoBaseImagesPull:true NoCache:false NoCleanup:false BaseImage:python:3.6-jessie Commands:[pip install v3io_frames pip install 'fsspec>=0.3.3' pip install pandas==0.25.3 pip install dask-kubernetes pip install dask-ml[\\\"complete\\\"]==1.0.0 pip install dask-xgboost==0.1.7] Directives:map[] ScriptPaths:[] AddedObjectPaths:map[] Dependencies:[] OnbuildImage: Offline:true RuntimeAttributes:map[] CodeEntryType:sourceCode CodeEntryAttributes:map[] Timestamp:1577191931 Mode:} RunRegistry:docker-registry.default-tenant.app.spjxothqybjz.iguazio-cd2.com:80 RuntimeAttributes:map[] LoggerSinks:[] DealerURI: Platform:{Attributes:map[]} ReadinessTimeoutSeconds:0 Avatar: ServiceType:NodePort ImagePullPolicy: ServiceAccount: EventTimeout:}} PlatformConfig:<nil>} || platformConfig=&{Kind:kube WebAdmin:{Enabled:<nil> ListenAddress:} HealthCheck:{Enabled:<nil> ListenAddress:} Logger:{Sinks:map[myStdoutLoggerSink:{Kind:stdout URL: Attributes:map[timeFieldName:time varGroupName:more encoding:json timeFieldEncoding:iso8601]}] System:[{Level:debug Sink:myStdoutLoggerSink}] Functions:[{Level:debug Sink:myStdoutLoggerSink}]} Metrics:{Sinks:map[myPrometheusPull:{Enabled:<nil> Kind:prometheusPull URL: Attributes:map[]}] System:[myPrometheusPull] Functions:[myPrometheusPull]} ScaleToZero:{MetricName:nuclio_processor_handled_events_total WindowSize:10m PollerInterval:10s ScalerInterval:1m} AutoScale:{MetricName: TargetValue:20} FunctionAugmentedConfigs:[]}\"\n",
      "\"level\":\"debug\",\"time\":\"2019-12-24T12:52:56.962Z\",\"name\":\"processor.cron\",\"message\":\"Creating worker pool\",\"more\":\"num=1\"\n",
      "\"level\":\"debug\",\"time\":\"2019-12-24T12:52:56.962Z\",\"name\":\"processor.cron.w0.python.logger\",\"message\":\"Creating listener socket\",\"more\":\"path=/tmp/nuclio-rpc-bo10ka0haa3g009mtk10.sock\"\n",
      "\"level\":\"debug\",\"time\":\"2019-12-24T12:52:56.963Z\",\"name\":\"processor.cron.w0.python.logger\",\"message\":\"Using Python wrapper script path\",\"more\":\"path=/opt/nuclio/_nuclio_wrapper.py\"\n",
      "\"level\":\"debug\",\"time\":\"2019-12-24T12:52:56.963Z\",\"name\":\"processor.cron.w0.python.logger\",\"message\":\"Using Python handler\",\"more\":\"handler=nuclio-training:handler\"\n",
      "\"level\":\"debug\",\"time\":\"2019-12-24T12:52:56.963Z\",\"name\":\"processor.cron.w0.python.logger\",\"message\":\"Using Python executable\",\"more\":\"path=/usr/local/bin/python3\"\n",
      "\"level\":\"debug\",\"time\":\"2019-12-24T12:52:56.963Z\",\"name\":\"processor.cron.w0.python.logger\",\"message\":\"Setting PYTHONPATH\",\"more\":\"value=PYTHONPATH=/opt/nuclio\"\n",
      "\"level\":\"debug\",\"time\":\"2019-12-24T12:52:56.963Z\",\"name\":\"processor.cron.w0.python.logger\",\"message\":\"Running wrapper\",\"more\":\"command=/usr/local/bin/python3 -u /opt/nuclio/_nuclio_wrapper.py --handler nuclio-training:handler --socket-path /tmp/nuclio-rpc-bo10ka0haa3g009mtk10.sock --platform-kind kube --namespace default-tenant --worker-id 0 --trigger-name \"}/usr/local/lib/python3.6/site-packages/sklearn/utils/deprecation.py:144: FutureWarning: The sklearn.metrics.scorer module is  deprecated in version 0.22 and will be removed in version 0.24. The corresponding classes / functions should instead be imported from sklearn.metrics. Anything that cannot be imported from sklearn.metrics is now part of the private API.  warnings.warn(message, FutureWarning)Python> 2019-12-24 12:52:58,242 [warning] Caught unhandled exception while initializing: {'err': \"XGBoost Library (libxgboost.so) could not be loaded.\n",
      "Likely causes:\n",
      "  * OpenMP runtime is not installed (vcomp140.dll or libgomp-1.dll for Windows, libgomp.so for UNIX-like OSes)\n",
      "  * You are running 32-bit Python on a 64-bit OS\n",
      "Error message(s): ['dlopen: cannot load any more object with static TLS', 'dlopen: cannot load any more object with static TLS']\n",
      "\", 'traceback': 'Traceback (most recent call last):\n",
      "  File \"/opt/nuclio/_nuclio_wrapper.py\", line 314, in run_wrapper\n",
      "    args.trigger_name)\n",
      "  File \"/opt/nuclio/_nuclio_wrapper.py\", line 51, in __init__\n",
      "    self._entrypoint = self._load_entrypoint_from_handler(handler)\n",
      "  File \"/opt/nuclio/_nuclio_wrapper.py\", line 227, in _load_entrypoint_from_handler\n",
      "    module = __import__(module_name)\n",
      "  File \"/opt/nuclio/nuclio-training.py\", line 17, in <module>\n",
      "    import xgboost as xgb\n",
      "  File \"/usr/local/lib/python3.6/site-packages/xgboost/__init__.py\", line 11, in <module>\n",
      "    from .core import DMatrix, Booster\n",
      "  File \"/usr/local/lib/python3.6/site-packages/xgboost/core.py\", line 161, in <module>\n",
      "    _LIB = _load_lib()\n",
      "  File \"/usr/local/lib/python3.6/site-packages/xgboost/core.py\", line 152, in _load_lib\n",
      "    \\'Error message(s): {}\\\n",
      "\\'.format(os_error_list))\n",
      "xgboost.core.XGBoostError: XGBoost Library (libxgboost.so) could not be loaded.\n",
      "Likely causes:\n",
      "  * OpenMP runtime is not installed (vcomp140.dll or libgomp-1.dll for Windows, libgomp.so for UNIX-like OSes)\n",
      "  * You are running 32-bit Python on a 64-bit OS\n",
      "Error message(s): [\\'dlopen: cannot load any more object with static TLS\\', \\'dlopen: cannot load any more object with static TLS\\']\n",
      "\n",
      "'}\n",
      "    .../nuclio/nuclio/pkg/platform/kube/deployer.go:169\n",
      "Failed to wait for function readiness.\n",
      "\n",
      "Pod logs:\n",
      "\n",
      "* training-6f5d97cbd4-s4825\n",
      "{\"level\":\"debug\",\"time\":\"2019-12-24T12:52:12.279Z\",\"name\":\"processor\",\"message\":\"Read configuration\",\"more\":\"config=&{Config:{Meta:{Name:training Namespace:default-tenant Labels:map[] Annotations:map[nuclio.io/generated_by:function generated at 24-12-2019 by admin from /User/mlrun-demos/demos/netops/nuclio-training.ipynb]} Spec:{Description: Disabled:false Publish:false Handler:nuclio-training:handler Runtime:python:3.6 Env:[{Name:V3IO_FRAMESD Value:framesd.default-tenant.svc:8080 ValueFrom:nil} {Name:V3IO_USERNAME Value:admin ValueFrom:nil} {Name:V3IO_ACCESS_KEY Value:275eeda5-5d83-427e-adda-ddb469370fb5 ValueFrom:nil} {Name:V3IO_API Value:v3io-webapi.default-tenant.svc:8081 ValueFrom:nil} {Name:FEATURES_TABLE Value:/v3io/bigdata/netops_features_parquet ValueFrom:nil} {Name:FROM_TSDB Value:0 ValueFrom:nil} {Name:TRAIN_ON_LAST Value:1d ValueFrom:nil} {Name:TRAIN_SIZE Value:0.7 ValueFrom:nil} {Name:NUMBER_OF_SHARDS Value:4 ValueFrom:nil} {Name:MODEL_FILENAME Value:netops.v3.model ValueFrom:nil} {Name:SAVE_TO Value:/v3io/bigdata/netops/models ValueFrom:nil}] Resources:{Limits:map[] Requests:map[]} Image:docker-registry.default-tenant.app.spjxothqybjz.iguazio-cd2.com:80/nuclio/processor-training:latest ImageHash:1577190270377245561 Replicas:<nil> MinReplicas:<nil> MaxReplicas:<nil> TargetCPU:0 DataBindings:map[] Triggers:map[retrain:{Class: Kind:cron Disabled:false MaxWorkers:0 URL: Paths:[] Username: Password: Secret: Partitions:[] Annotations:map[] WorkerAvailabilityTimeoutMilliseconds:0 WorkerAllocatorName: TotalTasks:0 MaxTaskAllocation:0 Attributes:map[interval:1h maxBatchSize:0 maxBatchWaitMs:0 numContainerWorkers:0 pollingIntervalMs:0 port:0 intervalMs:0 protocolVersion:0 readBatchSize:0]}] Volumes:[{Volume:{Name:fs VolumeSource:{HostPath:nil EmptyDir:nil GCEPersistentDisk:nil AWSElasticBlockStore:nil GitRepo:nil Secret:nil NFS:nil ISCSI:nil Glusterfs:nil PersistentVolumeClaim:nil RBD:nil FlexVolume:&FlexVolumeSource{Driver:v3io/fuse,FSType:,SecretRef:nil,ReadOnly:false,Options:map[string]string{accessKey: 275eeda5-5d83-427e-adda-ddb469370fb5,container: users,subPath: /admin,},} Cinder:nil CephFS:nil Flocker:nil DownwardAPI:nil FC:nil AzureFile:nil ConfigMap:nil VsphereVolume:nil Quobyte:nil AzureDisk:nil PhotonPersistentDisk:nil Projected:nil PortworxVolume:nil ScaleIO:nil StorageOS:nil}} VolumeMount:{Name:fs ReadOnly:false MountPath:/User SubPath: MountPropagation:<nil>}}] Version:-1 Alias:latest Build:{Path: FunctionSourceCode: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 FunctionConfigPath: TempDir: Registry:docker-registry.default-tenant.app.spjxothqybjz.iguazio-cd2.com:80 Image: NoBaseImagesPull:true NoCache:true NoCleanup:false BaseImage:python:3.6-jessie Commands:[pip install pandas pip install xgboost pip install dask[\\\"complete\\\"] pip install dask-ml[\\\"complete\\\"] pip install v3io_frames] Directives:map[] ScriptPaths:[] AddedObjectPaths:map[] Dependencies:[] OnbuildImage: Offline:true RuntimeAttributes:map[repositories:[]] CodeEntryType:sourceCode CodeEntryAttributes:map[] Timestamp:1577190394 Mode:} RunRegistry:docker-registry.default-tenant.app.spjxothqybjz.iguazio-cd2.com:80 RuntimeAttributes:map[] LoggerSinks:[{Level:debug Sink:}] DealerURI: Platform:{Attributes:map[]} ReadinessTimeoutSeconds:0 Avatar: ServiceType:NodePort ImagePullPolicy: ServiceAccount: EventTimeout:}} PlatformConfig:<nil>} || platformConfig=&{Kind:kube WebAdmin:{Enabled:<nil> ListenAddress:} HealthCheck:{Enabled:<nil> ListenAddress:} Logger:{Sinks:map[myStdoutLoggerSink:{Kind:stdout URL: Attributes:map[encoding:json timeFieldEncoding:iso8601 timeFieldName:time varGroupName:more]}] System:[{Level:debug Sink:myStdoutLoggerSink}] Functions:[{Level:debug Sink:myStdoutLoggerSink}]} Metrics:{Sinks:map[myPrometheusPull:{Enabled:<nil> Kind:prometheusPull URL: Attributes:map[]}] System:[myPrometheusPull] Functions:[myPrometheusPull]} ScaleToZero:{MetricName:nuclio_processor_handled_events_total WindowSize:10m PollerInterval:10s ScalerInterval:1m} AutoScale:{MetricName: TargetValue:20} FunctionAugmentedConfigs:[]}\"\n",
      "\"level\":\"debug\",\"time\":\"2019-12-24T12:52:12.279Z\",\"name\":\"processor.cron\",\"message\":\"Creating worker pool\",\"more\":\"num=1\"\n",
      "\"level\":\"debug\",\"time\":\"2019-12-24T12:52:12.279Z\",\"name\":\"processor.cron.w0.python.logger\",\"message\":\"Creating listener socket\",\"more\":\"path=/tmp/nuclio-rpc-bo10jv7d9ek000f5nheg.sock\"\n",
      "\"level\":\"debug\",\"time\":\"2019-12-24T12:52:12.280Z\",\"name\":\"processor.cron.w0.python.logger\",\"message\":\"Using Python wrapper script path\",\"more\":\"path=/opt/nuclio/_nuclio_wrapper.py\"\n",
      "\"level\":\"debug\",\"time\":\"2019-12-24T12:52:12.280Z\",\"name\":\"processor.cron.w0.python.logger\",\"message\":\"Using Python handler\",\"more\":\"handler=nuclio-training:handler\"\n",
      "\"level\":\"debug\",\"time\":\"2019-12-24T12:52:12.280Z\",\"name\":\"processor.cron.w0.python.logger\",\"message\":\"Using Python executable\",\"more\":\"path=/usr/local/bin/python3\"\n",
      "\"level\":\"debug\",\"time\":\"2019-12-24T12:52:12.280Z\",\"name\":\"processor.cron.w0.python.logger\",\"message\":\"Setting PYTHONPATH\",\"more\":\"value=PYTHONPATH=/opt/nuclio\"\n",
      "\"level\":\"debug\",\"time\":\"2019-12-24T12:52:12.280Z\",\"name\":\"processor.cron.w0.python.logger\",\"message\":\"Running wrapper\",\"more\":\"command=/usr/local/bin/python3 -u /opt/nuclio/_nuclio_wrapper.py --handler nuclio-training:handler --socket-path /tmp/nuclio-rpc-bo10jv7d9ek000f5nheg.sock --platform-kind kube --namespace default-tenant --worker-id 0 --trigger-name \"}/usr/local/lib/python3.6/site-packages/sklearn/utils/deprecation.py:144: FutureWarning: The sklearn.metrics.scorer module is  deprecated in version 0.22 and will be removed in version 0.24. The corresponding classes / functions should instead be imported from sklearn.metrics. Anything that cannot be imported from sklearn.metrics is now part of the private API.  warnings.warn(message, FutureWarning)Python> 2019-12-24 12:52:13,636 [warning] Caught unhandled exception while initializing: {'err': \"XGBoost Library (libxgboost.so) could not be loaded.\n",
      "Likely causes:\n",
      "  * OpenMP runtime is not installed (vcomp140.dll or libgomp-1.dll for Windows, libgomp.so for UNIX-like OSes)\n",
      "  * You are running 32-bit Python on a 64-bit OS\n",
      "Error message(s): ['dlopen: cannot load any more object with static TLS', 'dlopen: cannot load any more object with static TLS']\n",
      "\", 'traceback': 'Traceback (most recent call last):\n",
      "  File \"/opt/nuclio/_nuclio_wrapper.py\", line 314, in run_wrapper\n",
      "    args.trigger_name)\n",
      "  File \"/opt/nuclio/_nuclio_wrapper.py\", line 51, in __init__\n",
      "    self._entrypoint = self._load_entrypoint_from_handler(handler)\n",
      "  File \"/opt/nuclio/_nuclio_wrapper.py\", line 227, in _load_entrypoint_from_handler\n",
      "    module = __import__(module_name)\n",
      "  File \"/opt/nuclio/nuclio-training.py\", line 17, in <module>\n",
      "    import xgboost as xgb\n",
      "  File \"/usr/local/lib/python3.6/site-packages/xgboost/__init__.py\", line 11, in <module>\n",
      "    from .core import DMatrix, Booster\n",
      "  File \"/usr/local/lib/python3.6/site-packages/xgboost/core.py\", line 161, in <module>\n",
      "    _LIB = _load_lib()\n",
      "  File \"/usr/local/lib/python3.6/site-packages/xgboost/core.py\", line 152, in _load_lib\n",
      "    \\'Error message(s): {}\\\n",
      "\\'.format(os_error_list))\n",
      "xgboost.core.XGBoostError: XGBoost Library (libxgboost.so) could not be loaded.\n",
      "Likely causes:\n",
      "  * OpenMP runtime is not installed (vcomp140.dll or libgomp-1.dll for Windows, libgomp.so for UNIX-like OSes)\n",
      "  * You are running 32-bit Python on a 64-bit OS\n",
      "Error message(s): [\\'dlopen: cannot load any more object with static TLS\\', \\'dlopen: cannot load any more object with static TLS\\']\n",
      "\n",
      "'}\n",
      "* training-7c5cbb6cfb-d52x6\n",
      "{\"level\":\"debug\",\"time\":\"2019-12-24T12:52:56.962Z\",\"name\":\"processor\",\"message\":\"Read configuration\",\"more\":\"config=&{Config:{Meta:{Name:training Namespace:default-tenant Labels:map[] Annotations:map[nuclio.io/generated_by:function generated at 24-12-2019 by admin from /User/mlrun-demos/demos/netops/nuclio-training.ipynb]} Spec:{Description: Disabled:false Publish:false Handler:nuclio-training:handler Runtime:python:3.6 Env:[{Name:V3IO_FRAMESD Value:framesd.default-tenant.svc:8080 ValueFrom:nil} {Name:V3IO_USERNAME Value:admin ValueFrom:nil} {Name:V3IO_ACCESS_KEY Value:275eeda5-5d83-427e-adda-ddb469370fb5 ValueFrom:nil} {Name:V3IO_API Value:v3io-webapi.default-tenant.svc:8081 ValueFrom:nil} {Name:FEATURES_TABLE Value:/v3io/bigdata/netops_features_parquet ValueFrom:nil} {Name:FROM_TSDB Value:0 ValueFrom:nil} {Name:TRAIN_ON_LAST Value:1d ValueFrom:nil} {Name:TRAIN_SIZE Value:0.7 ValueFrom:nil} {Name:NUMBER_OF_SHARDS Value:4 ValueFrom:nil} {Name:MODEL_FILENAME Value:netops.v3.model ValueFrom:nil} {Name:SAVE_TO Value:/v3io/bigdata/netops/models ValueFrom:nil}] Resources:{Limits:map[] Requests:map[]} Image:docker-registry.default-tenant.app.spjxothqybjz.iguazio-cd2.com:80/nuclio/processor-training:latest ImageHash:1577191783606688923 Replicas:<nil> MinReplicas:<nil> MaxReplicas:<nil> TargetCPU:0 DataBindings:map[] Triggers:map[retrain:{Class: Kind:cron Disabled:false MaxWorkers:0 URL: Paths:[] Username: Password: Secret: Partitions:[] Annotations:map[] WorkerAvailabilityTimeoutMilliseconds:0 WorkerAllocatorName: TotalTasks:0 MaxTaskAllocation:0 Attributes:map[interval:1h]}] Volumes:[{Volume:{Name:fs VolumeSource:{HostPath:nil EmptyDir:nil GCEPersistentDisk:nil AWSElasticBlockStore:nil GitRepo:nil Secret:nil NFS:nil ISCSI:nil Glusterfs:nil PersistentVolumeClaim:nil RBD:nil FlexVolume:&FlexVolumeSource{Driver:v3io/fuse,FSType:,SecretRef:nil,ReadOnly:false,Options:map[string]string{accessKey: 275eeda5-5d83-427e-adda-ddb469370fb5,container: users,subPath: /admin/,},} Cinder:nil CephFS:nil Flocker:nil DownwardAPI:nil FC:nil AzureFile:nil ConfigMap:nil VsphereVolume:nil Quobyte:nil AzureDisk:nil PhotonPersistentDisk:nil Projected:nil PortworxVolume:nil ScaleIO:nil StorageOS:nil}} VolumeMount:{Name:fs ReadOnly:false MountPath:/User SubPath: MountPropagation:<nil>}}] Version:-1 Alias:latest Build:{Path: FunctionSourceCode:IyBHZW5lcmF0ZWQgYnkgbnVjbGlvLmV4cG9ydC5OdWNsaW9FeHBvcnRlciBvbiAyMDE5LTEyLTI0IDEyOjQ5CgppbXBvcnQgb3MKaW1wb3J0IHRpbWUKaW1wb3J0IHlhbWwKaW1wb3J0IHBhbmRhcyBhcyBwZAppbXBvcnQgZGF0ZXRpbWUKaW1wb3J0IGl0ZXJ0b29scwppbXBvcnQgcGlja2xlCgppbXBvcnQgdjNpb19mcmFtZXMgYXMgdjNmCgppbXBvcnQgZGFzay5kYXRhZnJhbWUgYXMgZGQKZnJvbSBkYXNrLmRpc3RyaWJ1dGVkIGltcG9ydCBDbGllbnQKCmltcG9ydCBkYXNrX21sLm1vZGVsX3NlbGVjdGlvbiBhcyBkY3YKaW1wb3J0IHhnYm9vc3QgYXMgeGdiCgpkZWYgZm9ybWF0X2RmX2Zyb21fdHNkYihjb250ZXh0LCBkZik6CiAgICBkZi5pbmRleC5uYW1lcyA9IFsndGltZXN0YW1wJywgJ2NvbXBhbnknLCAnZGF0YV9jZW50ZXInLCAnZGV2aWNlJ10KICAgIGRmID0gZGYucmVzZXRfaW5kZXgoKQogICAgZGYgPSBkZC5mcm9tX3BhbmRhcyhkZiwgbnBhcnRpdGlvbnM9Y29udGV4dC5zaGFyZHMpCiAgICByZXR1cm4gZGYKCmRlZiBnZXRfZGF0YV90c2RiKGNvbnRleHQpOgogICAgZGYgPSBjb250ZXh0LnYzZi5yZWFkKGJhY2tlbmQ9J3RzZGInLCBxdWVyeT1mJ3NlbGVjdCAqIGZyb20ge2NvbnRleHQuZmVhdHVyZXNfdGFibGV9JywKICAgICAgICAgICAgICAgICAgICAgICAgICBzdGFydD1mJ25vdy17Y29udGV4dC50cmFpbl9vbl9sYXN0fScsIGVuZD0nbm93JywgbXVsdGlfaW5kZXg9VHJ1ZSkKICAgIGRmID0gZGYucmVzZXRfaW5kZXgoZHJvcD1UcnVlKQogICAgZGYgPSBkZltzb3J0ZWQoZGYuY29sdW1ucyldCiAgICBkZiA9IGRkLmZyb21fcGFuZGFzKGRmLCBucGFydGl0aW9ucz1jb250ZXh0LnNoYXJkcykKICAgIHJldHVybiBkZgoKZGVmIGdldF9kYXRhX3BhcnF1ZXQoY29udGV4dCk6CiAgICBtcGF0aCA9IFtvcy5wYXRoLmpvaW4oY29udGV4dC5mZWF0dXJlc190YWJsZSwgZmlsZSkgZm9yIGZpbGUgaW4gb3MubGlzdGRpcihjb250ZXh0LmZlYXR1cmVzX3RhYmxlKV0KICAgIAogICAgbGF0ZXN0ID0gbWF4KG1wYXRoLCBrZXk9b3MucGF0aC5nZXRtdGltZSkKICAgIHByaW50KGxhdGVzdCkKICAgIGNvbnRleHQubG9nZ2VyLmRlYnVnKGYnUmVhZGluZyBkYXRhIGZyb206IHtsYXRlc3R9JykKICAgIAogICAgZGYgPSBkZC5yZWFkX3BhcnF1ZXQobGF0ZXN0KQogICAgCiAgICByZXR1cm4gZGYKCmRlZiBnZXRfdHJhaW5fdGVzdF9zZXRzX2Zyb21fZGF0YShjb250ZXh0LCBkZjogcGQuRGF0YUZyYW1lKToKICAgIGRyb3BfY29sdW1ucyA9IFtjb2wgZm9yIGNvbCBpbiBkZi5jb2x1bW5zIGlmICdpc19lcnJvcicgaW4gY29sXQogICAgWCA9IGRmLmRyb3AoZHJvcF9jb2x1bW5zLCBheGlzPTEpCiAgICB5ID0gZGYubG9jWzosICdpc19lcnJvciddCiAgICBYX3RyYWluLCBYX3Rlc3QsIHlfdHJhaW4sIHlfdGVzdCA9IGRjdi50cmFpbl90ZXN0X3NwbGl0KFgsIHksIHRyYWluX3NpemU9Y29udGV4dC50cmFpbl9zaXplLCB0ZXN0X3NpemU9MS1jb250ZXh0LnRyYWluX3NpemUpCiAgICByZXR1cm4gWF90cmFpbiwgWF90ZXN0LCB5X3RyYWluLCB5X3Rlc3QKCmRlZiBpbml0X2NvbnRleHQoY29udGV4dCk6CiAgICAKICAgIHNldGF0dHIoY29udGV4dCwgJ2ZlYXR1cmVzX3RhYmxlJywgb3MuZ2V0ZW52KCdGRUFUVVJFU19UQUJMRScsICduZXRvcHNfZmVhdHVyZXMnKSkKICAgIAogICAgaXNfZnJvbV90c2RiID0gKGludChvcy5nZXRlbnYoJ0ZST01fVFNEQicsIDEpKSA9PSAxKQogICAgCiAgICBpZiBpc19mcm9tX3RzZGI6CiAgICAgICAgdjNpb19jbGllbnQgPSB2M2YuQ2xpZW50KGFkZHJlc3M9J2ZyYW1lc2Q6ODA4MScsIGNvbnRhaW5lcj0nYmlnZGF0YScpCiAgICAgICAgc2V0YXR0cihjb250ZXh0LCAndjNmJywgdjNpb19jbGllbnQpCiAgICAgICAgCiAgICAgICAgY29udGV4dC52M2YuY3JlYXRlKCd0c2RiJywgY29udGV4dC5mZWF0dXJlc190YWJsZSwgYXR0cnM9eydyYXRlJzogJzEvcyd9LCBpZl9leGlzdHM9MSkKICAgICAgICAKICAgICAgICBzZXRhdHRyKGNvbnRleHQsICdyZWFkJywgZ2V0X2RhdGFfdHNkYikKICAgICAgICAKICAgIGVsc2U6CiAgICAgICAgZmlsZXBhdGggPSBvcy5wYXRoLmpvaW4oY29udGV4dC5mZWF0dXJlc190YWJsZSkKICAgICAgICBpZiBub3Qgb3MucGF0aC5leGlzdHMoZmlsZXBhdGgpOgogICAgICAgICAgICBvcy5tYWtlZGlycyhmaWxlcGF0aCkKICAgICAgICAgICAgCiAgICAgICAgc2V0YXR0cihjb250ZXh0LCAncmVhZCcsIGdldF9kYXRhX3BhcnF1ZXQpCiAgICAKICAgIHRyYWluX29uX2xhc3QgPSBvcy5nZXRlbnYoJ1RSQUlOX09OX0xBU1QnLCAnN2QnKQogICAgc2V0YXR0cihjb250ZXh0LCAndHJhaW5fb25fbGFzdCcsIHRyYWluX29uX2xhc3QpCiAgICAKICAgIHRyYWluX3NldF9zaXplID0gZmxvYXQob3MuZ2V0ZW52KCdUUkFJTl9TSVpFJywgMC43KSkKICAgIHNldGF0dHIoY29udGV4dCwgJ3RyYWluX3NpemUnLCB0cmFpbl9zZXRfc2l6ZSkKICAgIAogICAgc2V0YXR0cihjb250ZXh0LCAnc2hhcmRzJywgaW50KG9zLmdldGVudignTlVNQkVSX09GX1NIQVJEUycsIDQpKSkKICAgIAogICAgbW9kZWxfZmlsZXBhdGggPSBvcy5nZXRlbnYoJ1NBVkVfVE8nLCAnL3YzaW8vYmlnZGF0YS9uZXRvcHMvbW9kZWxzJykKICAgIGlmIG5vdCBvcy5wYXRoLmV4aXN0cyhtb2RlbF9maWxlcGF0aCk6CiAgICAgICAgb3MubWFrZWRpcnMobW9kZWxfZmlsZXBhdGgpCiAgICBzZXRhdHRyKGNvbnRleHQsICdtb2RlbF9maWxlcGF0aCcsIG9zLnBhdGguam9pbihtb2RlbF9maWxlcGF0aCwgb3MuZ2V0ZW52KCdNT0RFTF9GSUxFTkFNRScsICduZXRvcHMubW9kZWwnKSkpCgpkZWYgaGFuZGxlcihjb250ZXh0LCBldmVudCk6CiAgICAKICAgIGRmID0gY29udGV4dC5yZWFkKGNvbnRleHQpIAoKICAgIFhfdHJhaW4sIFhfdGVzdCwgeV90cmFpbiwgeV90ZXN0ID0gZ2V0X3RyYWluX3Rlc3Rfc2V0c19mcm9tX2RhdGEoY29udGV4dCwgZGYpCiAgICAKICAgIG1vZGVsID0geGdiLlhHQkNsYXNzaWZpZXIoKQogICAgbW9kZWwuZml0KFhfdHJhaW4sIHlfdHJhaW4pCiAgICAKICAgIHNjb3JlID0gbW9kZWwuc2NvcmUoWF90ZXN0LCB5X3Rlc3QpCiAgICAKICAgIHBpY2tsZS5kdW1wKG1vZGVsLCBvcGVuKGNvbnRleHQubW9kZWxfZmlsZXBhdGggKyAnLnBpY2tsZScsICd3YicpKQoK FunctionConfigPath: TempDir: Registry:docker-registry.default-tenant.app.spjxothqybjz.iguazio-cd2.com:80 Image: NoBaseImagesPull:true NoCache:false NoCleanup:false BaseImage:python:3.6-jessie Commands:[pip install v3io_frames pip install 'fsspec>=0.3.3' pip install pandas==0.25.3 pip install dask-kubernetes pip install dask-ml[\\\"complete\\\"]==1.0.0 pip install dask-xgboost==0.1.7] Directives:map[] ScriptPaths:[] AddedObjectPaths:map[] Dependencies:[] OnbuildImage: Offline:true RuntimeAttributes:map[] CodeEntryType:sourceCode CodeEntryAttributes:map[] Timestamp:1577191931 Mode:} RunRegistry:docker-registry.default-tenant.app.spjxothqybjz.iguazio-cd2.com:80 RuntimeAttributes:map[] LoggerSinks:[] DealerURI: Platform:{Attributes:map[]} ReadinessTimeoutSeconds:0 Avatar: ServiceType:NodePort ImagePullPolicy: ServiceAccount: EventTimeout:}} PlatformConfig:<nil>} || platformConfig=&{Kind:kube WebAdmin:{Enabled:<nil> ListenAddress:} HealthCheck:{Enabled:<nil> ListenAddress:} Logger:{Sinks:map[myStdoutLoggerSink:{Kind:stdout URL: Attributes:map[timeFieldName:time varGroupName:more encoding:json timeFieldEncoding:iso8601]}] System:[{Level:debug Sink:myStdoutLoggerSink}] Functions:[{Level:debug Sink:myStdoutLoggerSink}]} Metrics:{Sinks:map[myPrometheusPull:{Enabled:<nil> Kind:prometheusPull URL: Attributes:map[]}] System:[myPrometheusPull] Functions:[myPrometheusPull]} ScaleToZero:{MetricName:nuclio_processor_handled_events_total WindowSize:10m PollerInterval:10s ScalerInterval:1m} AutoScale:{MetricName: TargetValue:20} FunctionAugmentedConfigs:[]}\"\n",
      "\"level\":\"debug\",\"time\":\"2019-12-24T12:52:56.962Z\",\"name\":\"processor.cron\",\"message\":\"Creating worker pool\",\"more\":\"num=1\"\n",
      "\"level\":\"debug\",\"time\":\"2019-12-24T12:52:56.962Z\",\"name\":\"processor.cron.w0.python.logger\",\"message\":\"Creating listener socket\",\"more\":\"path=/tmp/nuclio-rpc-bo10ka0haa3g009mtk10.sock\"\n",
      "\"level\":\"debug\",\"time\":\"2019-12-24T12:52:56.963Z\",\"name\":\"processor.cron.w0.python.logger\",\"message\":\"Using Python wrapper script path\",\"more\":\"path=/opt/nuclio/_nuclio_wrapper.py\"\n",
      "\"level\":\"debug\",\"time\":\"2019-12-24T12:52:56.963Z\",\"name\":\"processor.cron.w0.python.logger\",\"message\":\"Using Python handler\",\"more\":\"handler=nuclio-training:handler\"\n",
      "\"level\":\"debug\",\"time\":\"2019-12-24T12:52:56.963Z\",\"name\":\"processor.cron.w0.python.logger\",\"message\":\"Using Python executable\",\"more\":\"path=/usr/local/bin/python3\"\n",
      "\"level\":\"debug\",\"time\":\"2019-12-24T12:52:56.963Z\",\"name\":\"processor.cron.w0.python.logger\",\"message\":\"Setting PYTHONPATH\",\"more\":\"value=PYTHONPATH=/opt/nuclio\"\n",
      "\"level\":\"debug\",\"time\":\"2019-12-24T12:52:56.963Z\",\"name\":\"processor.cron.w0.python.logger\",\"message\":\"Running wrapper\",\"more\":\"command=/usr/local/bin/python3 -u /opt/nuclio/_nuclio_wrapper.py --handler nuclio-training:handler --socket-path /tmp/nuclio-rpc-bo10ka0haa3g009mtk10.sock --platform-kind kube --namespace default-tenant --worker-id 0 --trigger-name \"}/usr/local/lib/python3.6/site-packages/sklearn/utils/deprecation.py:144: FutureWarning: The sklearn.metrics.scorer module is  deprecated in version 0.22 and will be removed in version 0.24. The corresponding classes / functions should instead be imported from sklearn.metrics. Anything that cannot be imported from sklearn.metrics is now part of the private API.  warnings.warn(message, FutureWarning)Python> 2019-12-24 12:52:58,242 [warning] Caught unhandled exception while initializing: {'err': \"XGBoost Library (libxgboost.so) could not be loaded.\n",
      "Likely causes:\n",
      "  * OpenMP runtime is not installed (vcomp140.dll or libgomp-1.dll for Windows, libgomp.so for UNIX-like OSes)\n",
      "  * You are running 32-bit Python on a 64-bit OS\n",
      "Error message(s): ['dlopen: cannot load any more object with static TLS', 'dlopen: cannot load any more object with static TLS']\n",
      "\", 'traceback': 'Traceback (most recent call last):\n",
      "  File \"/opt/nuclio/_nuclio_wrapper.py\", line 314, in run_wrapper\n",
      "    args.trigger_name)\n",
      "  File \"/opt/nuclio/_nuclio_wrapper.py\", line 51, in __init__\n",
      "    self._entrypoint = self._load_entrypoint_from_handler(handler)\n",
      "  File \"/opt/nuclio/_nuclio_wrapper.py\", line 227, in _load_entrypoint_from_handler\n",
      "    module = __import__(module_name)\n",
      "  File \"/opt/nuclio/nuclio-training.py\", line 17, in <module>\n",
      "    import xgboost as xgb\n",
      "  File \"/usr/local/lib/python3.6/site-packages/xgboost/__init__.py\", line 11, in <module>\n",
      "    from .core import DMatrix, Booster\n",
      "  File \"/usr/local/lib/python3.6/site-packages/xgboost/core.py\", line 161, in <module>\n",
      "    _LIB = _load_lib()\n",
      "  File \"/usr/local/lib/python3.6/site-packages/xgboost/core.py\", line 152, in _load_lib\n",
      "    \\'Error message(s): {}\\\n",
      "\\'.format(os_error_list))\n",
      "xgboost.core.XGBoostError: XGBoost Library (libxgboost.so) could not be loaded.\n",
      "Likely causes:\n",
      "  * OpenMP runtime is not installed (vcomp140.dll or libgomp-1.dll for Windows, libgomp.so for UNIX-like OSes)\n",
      "  * You are running 32-bit Python on a 64-bit OS\n",
      "Error message(s): [\\'dlopen: cannot load any more object with static TLS\\', \\'dlopen: cannot load any more object with static TLS\\']\n",
      "\n",
      "'}\n"
     ]
    },
    {
     "name": "stderr",
     "output_type": "stream",
     "text": [
      "%nuclio: error: cannot deploy \n"
     ]
    }
   ],
   "source": [
    "%nuclio deploy -p netops -n training -c"
   ]
  },
  {
   "cell_type": "code",
   "execution_count": null,
   "metadata": {},
   "outputs": [],
   "source": []
  }
 ],
 "metadata": {
  "kernelspec": {
   "display_name": "Python 3",
   "language": "python",
   "name": "python3"
  },
  "language_info": {
   "codemirror_mode": {
    "name": "ipython",
    "version": 3
   },
   "file_extension": ".py",
   "mimetype": "text/x-python",
   "name": "python",
   "nbconvert_exporter": "python",
   "pygments_lexer": "ipython3",
   "version": "3.6.8"
  }
 },
 "nbformat": 4,
 "nbformat_minor": 4
}
